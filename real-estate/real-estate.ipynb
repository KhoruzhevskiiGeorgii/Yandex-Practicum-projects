{
 "cells": [
  {
   "cell_type": "markdown",
   "metadata": {},
   "source": [
    "# Продажа квартир в Санкт-Петербурге — анализ рынка недвижимости\n",
    "\n",
    "В распоряжении данные сервиса Яндекс.Недвижимость — архив объявлений о продаже квартир в Санкт-Петербурге и соседних населённых пунктов за несколько лет. Нужно научиться определять рыночную стоимость объектов недвижимости. Ваша задача — установить параметры. Это позволит построить автоматизированную систему: она отследит аномалии и мошенническую деятельность. \n",
    "\n",
    "По каждой квартире на продажу доступны два вида данных. Первые вписаны пользователем, вторые — получены автоматически на основе картографических данных. Например, расстояние до центра, аэропорта, ближайшего парка и водоёма. "
   ]
  },
  {
   "cell_type": "markdown",
   "metadata": {},
   "source": [
    "### Откройте файл с данными и изучите общую информацию. "
   ]
  },
  {
   "cell_type": "code",
   "execution_count": 58,
   "metadata": {
    "scrolled": false
   },
   "outputs": [
    {
     "name": "stdout",
     "output_type": "stream",
     "text": [
      "<class 'pandas.core.frame.DataFrame'>\n",
      "RangeIndex: 23699 entries, 0 to 23698\n",
      "Data columns (total 22 columns):\n",
      " #   Column                Non-Null Count  Dtype  \n",
      "---  ------                --------------  -----  \n",
      " 0   total_images          23699 non-null  int64  \n",
      " 1   last_price            23699 non-null  float64\n",
      " 2   total_area            23699 non-null  float64\n",
      " 3   first_day_exposition  23699 non-null  object \n",
      " 4   rooms                 23699 non-null  int64  \n",
      " 5   ceiling_height        14504 non-null  float64\n",
      " 6   floors_total          23613 non-null  float64\n",
      " 7   living_area           21796 non-null  float64\n",
      " 8   floor                 23699 non-null  int64  \n",
      " 9   is_apartment          2775 non-null   object \n",
      " 10  studio                23699 non-null  bool   \n",
      " 11  open_plan             23699 non-null  bool   \n",
      " 12  kitchen_area          21421 non-null  float64\n",
      " 13  balcony               12180 non-null  float64\n",
      " 14  locality_name         23650 non-null  object \n",
      " 15  airports_nearest      18157 non-null  float64\n",
      " 16  cityCenters_nearest   18180 non-null  float64\n",
      " 17  parks_around3000      18181 non-null  float64\n",
      " 18  parks_nearest         8079 non-null   float64\n",
      " 19  ponds_around3000      18181 non-null  float64\n",
      " 20  ponds_nearest         9110 non-null   float64\n",
      " 21  days_exposition       20518 non-null  float64\n",
      "dtypes: bool(2), float64(14), int64(3), object(3)\n",
      "memory usage: 3.7+ MB\n"
     ]
    },
    {
     "data": {
      "text/html": [
       "<div>\n",
       "<style scoped>\n",
       "    .dataframe tbody tr th:only-of-type {\n",
       "        vertical-align: middle;\n",
       "    }\n",
       "\n",
       "    .dataframe tbody tr th {\n",
       "        vertical-align: top;\n",
       "    }\n",
       "\n",
       "    .dataframe thead th {\n",
       "        text-align: right;\n",
       "    }\n",
       "</style>\n",
       "<table border=\"1\" class=\"dataframe\">\n",
       "  <thead>\n",
       "    <tr style=\"text-align: right;\">\n",
       "      <th></th>\n",
       "      <th>total_images</th>\n",
       "      <th>last_price</th>\n",
       "      <th>total_area</th>\n",
       "      <th>first_day_exposition</th>\n",
       "      <th>rooms</th>\n",
       "      <th>ceiling_height</th>\n",
       "      <th>floors_total</th>\n",
       "      <th>living_area</th>\n",
       "      <th>floor</th>\n",
       "      <th>is_apartment</th>\n",
       "      <th>...</th>\n",
       "      <th>kitchen_area</th>\n",
       "      <th>balcony</th>\n",
       "      <th>locality_name</th>\n",
       "      <th>airports_nearest</th>\n",
       "      <th>cityCenters_nearest</th>\n",
       "      <th>parks_around3000</th>\n",
       "      <th>parks_nearest</th>\n",
       "      <th>ponds_around3000</th>\n",
       "      <th>ponds_nearest</th>\n",
       "      <th>days_exposition</th>\n",
       "    </tr>\n",
       "  </thead>\n",
       "  <tbody>\n",
       "    <tr>\n",
       "      <th>0</th>\n",
       "      <td>20</td>\n",
       "      <td>13000000.0</td>\n",
       "      <td>108.0</td>\n",
       "      <td>2019-03-07T00:00:00</td>\n",
       "      <td>3</td>\n",
       "      <td>2.70</td>\n",
       "      <td>16.0</td>\n",
       "      <td>51.0</td>\n",
       "      <td>8</td>\n",
       "      <td>NaN</td>\n",
       "      <td>...</td>\n",
       "      <td>25.0</td>\n",
       "      <td>NaN</td>\n",
       "      <td>Санкт-Петербург</td>\n",
       "      <td>18863.0</td>\n",
       "      <td>16028.0</td>\n",
       "      <td>1.0</td>\n",
       "      <td>482.0</td>\n",
       "      <td>2.0</td>\n",
       "      <td>755.0</td>\n",
       "      <td>NaN</td>\n",
       "    </tr>\n",
       "    <tr>\n",
       "      <th>1</th>\n",
       "      <td>7</td>\n",
       "      <td>3350000.0</td>\n",
       "      <td>40.4</td>\n",
       "      <td>2018-12-04T00:00:00</td>\n",
       "      <td>1</td>\n",
       "      <td>NaN</td>\n",
       "      <td>11.0</td>\n",
       "      <td>18.6</td>\n",
       "      <td>1</td>\n",
       "      <td>NaN</td>\n",
       "      <td>...</td>\n",
       "      <td>11.0</td>\n",
       "      <td>2.0</td>\n",
       "      <td>посёлок Шушары</td>\n",
       "      <td>12817.0</td>\n",
       "      <td>18603.0</td>\n",
       "      <td>0.0</td>\n",
       "      <td>NaN</td>\n",
       "      <td>0.0</td>\n",
       "      <td>NaN</td>\n",
       "      <td>81.0</td>\n",
       "    </tr>\n",
       "    <tr>\n",
       "      <th>2</th>\n",
       "      <td>10</td>\n",
       "      <td>5196000.0</td>\n",
       "      <td>56.0</td>\n",
       "      <td>2015-08-20T00:00:00</td>\n",
       "      <td>2</td>\n",
       "      <td>NaN</td>\n",
       "      <td>5.0</td>\n",
       "      <td>34.3</td>\n",
       "      <td>4</td>\n",
       "      <td>NaN</td>\n",
       "      <td>...</td>\n",
       "      <td>8.3</td>\n",
       "      <td>0.0</td>\n",
       "      <td>Санкт-Петербург</td>\n",
       "      <td>21741.0</td>\n",
       "      <td>13933.0</td>\n",
       "      <td>1.0</td>\n",
       "      <td>90.0</td>\n",
       "      <td>2.0</td>\n",
       "      <td>574.0</td>\n",
       "      <td>558.0</td>\n",
       "    </tr>\n",
       "    <tr>\n",
       "      <th>3</th>\n",
       "      <td>0</td>\n",
       "      <td>64900000.0</td>\n",
       "      <td>159.0</td>\n",
       "      <td>2015-07-24T00:00:00</td>\n",
       "      <td>3</td>\n",
       "      <td>NaN</td>\n",
       "      <td>14.0</td>\n",
       "      <td>NaN</td>\n",
       "      <td>9</td>\n",
       "      <td>NaN</td>\n",
       "      <td>...</td>\n",
       "      <td>NaN</td>\n",
       "      <td>0.0</td>\n",
       "      <td>Санкт-Петербург</td>\n",
       "      <td>28098.0</td>\n",
       "      <td>6800.0</td>\n",
       "      <td>2.0</td>\n",
       "      <td>84.0</td>\n",
       "      <td>3.0</td>\n",
       "      <td>234.0</td>\n",
       "      <td>424.0</td>\n",
       "    </tr>\n",
       "    <tr>\n",
       "      <th>4</th>\n",
       "      <td>2</td>\n",
       "      <td>10000000.0</td>\n",
       "      <td>100.0</td>\n",
       "      <td>2018-06-19T00:00:00</td>\n",
       "      <td>2</td>\n",
       "      <td>3.03</td>\n",
       "      <td>14.0</td>\n",
       "      <td>32.0</td>\n",
       "      <td>13</td>\n",
       "      <td>NaN</td>\n",
       "      <td>...</td>\n",
       "      <td>41.0</td>\n",
       "      <td>NaN</td>\n",
       "      <td>Санкт-Петербург</td>\n",
       "      <td>31856.0</td>\n",
       "      <td>8098.0</td>\n",
       "      <td>2.0</td>\n",
       "      <td>112.0</td>\n",
       "      <td>1.0</td>\n",
       "      <td>48.0</td>\n",
       "      <td>121.0</td>\n",
       "    </tr>\n",
       "  </tbody>\n",
       "</table>\n",
       "<p>5 rows × 22 columns</p>\n",
       "</div>"
      ],
      "text/plain": [
       "   total_images  last_price  total_area first_day_exposition  rooms  \\\n",
       "0            20  13000000.0       108.0  2019-03-07T00:00:00      3   \n",
       "1             7   3350000.0        40.4  2018-12-04T00:00:00      1   \n",
       "2            10   5196000.0        56.0  2015-08-20T00:00:00      2   \n",
       "3             0  64900000.0       159.0  2015-07-24T00:00:00      3   \n",
       "4             2  10000000.0       100.0  2018-06-19T00:00:00      2   \n",
       "\n",
       "   ceiling_height  floors_total  living_area  floor is_apartment  ...  \\\n",
       "0            2.70          16.0         51.0      8          NaN  ...   \n",
       "1             NaN          11.0         18.6      1          NaN  ...   \n",
       "2             NaN           5.0         34.3      4          NaN  ...   \n",
       "3             NaN          14.0          NaN      9          NaN  ...   \n",
       "4            3.03          14.0         32.0     13          NaN  ...   \n",
       "\n",
       "   kitchen_area  balcony    locality_name  airports_nearest  \\\n",
       "0          25.0      NaN  Санкт-Петербург           18863.0   \n",
       "1          11.0      2.0   посёлок Шушары           12817.0   \n",
       "2           8.3      0.0  Санкт-Петербург           21741.0   \n",
       "3           NaN      0.0  Санкт-Петербург           28098.0   \n",
       "4          41.0      NaN  Санкт-Петербург           31856.0   \n",
       "\n",
       "  cityCenters_nearest  parks_around3000  parks_nearest  ponds_around3000  \\\n",
       "0             16028.0               1.0          482.0               2.0   \n",
       "1             18603.0               0.0            NaN               0.0   \n",
       "2             13933.0               1.0           90.0               2.0   \n",
       "3              6800.0               2.0           84.0               3.0   \n",
       "4              8098.0               2.0          112.0               1.0   \n",
       "\n",
       "   ponds_nearest  days_exposition  \n",
       "0          755.0              NaN  \n",
       "1            NaN             81.0  \n",
       "2          574.0            558.0  \n",
       "3          234.0            424.0  \n",
       "4           48.0            121.0  \n",
       "\n",
       "[5 rows x 22 columns]"
      ]
     },
     "execution_count": 58,
     "metadata": {},
     "output_type": "execute_result"
    },
    {
     "data": {
      "image/png": "[encoded data removed]",
      "text/plain": [
       "<Figure size 1080x1440 with 20 Axes>"
      ]
     },
     "metadata": {
      "needs_background": "light"
     },
     "output_type": "display_data"
    }
   ],
   "source": [
    "import pandas as pd\n",
    "try:\n",
    "    data = pd.read_csv('https://code.s3.yandex.net/datasets/real_estate_data.csv', sep='\\t')\n",
    "except:\n",
    "    data = pd.read_csv('real_estate_data.csv', sep='\\t')\n",
    "data.info()\n",
    "data.hist(figsize=(15, 20))\n",
    "data.head()"
   ]
  },
  {
   "cell_type": "markdown",
   "metadata": {},
   "source": []
  },
  {
   "cell_type": "markdown",
   "metadata": {},
   "source": [
    "#### Вывод:  \n",
    "Файл существует.  \n",
    "С первого взгляда видно, что в данных присутствуют пропуски и неожиданные значения."
   ]
  },
  {
   "cell_type": "markdown",
   "metadata": {},
   "source": [
    "### Предобработка данных"
   ]
  },
  {
   "cell_type": "code",
   "execution_count": 59,
   "metadata": {},
   "outputs": [
    {
     "name": "stdout",
     "output_type": "stream",
     "text": [
      "<class 'pandas.core.frame.DataFrame'>\n",
      "RangeIndex: 23699 entries, 0 to 23698\n",
      "Data columns (total 22 columns):\n",
      " #   Column                Non-Null Count  Dtype  \n",
      "---  ------                --------------  -----  \n",
      " 0   total_images          23699 non-null  int64  \n",
      " 1   last_price            23699 non-null  float64\n",
      " 2   total_area            23699 non-null  float64\n",
      " 3   first_day_exposition  23699 non-null  object \n",
      " 4   rooms                 23699 non-null  int64  \n",
      " 5   ceiling_height        14504 non-null  float64\n",
      " 6   floors_total          23613 non-null  float64\n",
      " 7   living_area           21796 non-null  float64\n",
      " 8   floor                 23699 non-null  int64  \n",
      " 9   is_apartment          2775 non-null   object \n",
      " 10  studio                23699 non-null  bool   \n",
      " 11  open_plan             23699 non-null  bool   \n",
      " 12  kitchen_area          21421 non-null  float64\n",
      " 13  balcony               12180 non-null  float64\n",
      " 14  locality_name         23650 non-null  object \n",
      " 15  airports_nearest      18157 non-null  float64\n",
      " 16  cityCenters_nearest   18180 non-null  float64\n",
      " 17  parks_around3000      18181 non-null  float64\n",
      " 18  parks_nearest         8079 non-null   float64\n",
      " 19  ponds_around3000      18181 non-null  float64\n",
      " 20  ponds_nearest         9110 non-null   float64\n",
      " 21  days_exposition       20518 non-null  float64\n",
      "dtypes: bool(2), float64(14), int64(3), object(3)\n",
      "memory usage: 3.7+ MB\n"
     ]
    }
   ],
   "source": [
    "data.info()"
   ]
  },
  {
   "cell_type": "markdown",
   "metadata": {},
   "source": [
    "По основной информации из таблицы видно, что пропущенные данные присутствуют в столбцах 'ceiling_height', 'floors_total', 'living_area', 'is_apartment', 'kitchen_area', 'balcony', 'locality_name', 'airports_nearest', 'cityCenters_nearest', 'parks_around3000', 'parks_nearest', 'ponds_around3000', 'ponds_nearest', 'days_exposition'."
   ]
  },
  {
   "cell_type": "code",
   "execution_count": 60,
   "metadata": {},
   "outputs": [],
   "source": [
    "data['ceiling_height'] = data['ceiling_height'].fillna(data.median(numeric_only=True)['ceiling_height'])"
   ]
  },
  {
   "cell_type": "markdown",
   "metadata": {},
   "source": [
    "Не ясно, почему отсутствует высота потолка. Возможно, она просто не измерялась при составлении объявления. Пропущенных данных в этом столбце слишком много, чтобы избавляться от всех строк с пропусками. Видно, что присутствуют аномальные значения (100 метров). К этому вернемся позже. Пропуски заполним медианным значением."
   ]
  },
  {
   "cell_type": "code",
   "execution_count": 61,
   "metadata": {
    "scrolled": true
   },
   "outputs": [
    {
     "data": {
      "text/plain": [
       "array([ 4,  1, 12,  8,  9, 22, 15,  6,  7,  3, 18, 13, 24, 21, 11,  2,  5,\n",
       "       19, 20, 14, 17, 23, 10])"
      ]
     },
     "execution_count": 61,
     "metadata": {},
     "output_type": "execute_result"
    }
   ],
   "source": [
    "data[data['floors_total'].isna()]['floor'].unique()"
   ]
  },
  {
   "cell_type": "markdown",
   "metadata": {},
   "source": [
    "Видно, что высота квартиры при пропущенной высоте дома может быть любой. Возможно, это верхний этаж, но эту гипотезу нам не проверить. Заполним пропущенное значениями из floor."
   ]
  },
  {
   "cell_type": "code",
   "execution_count": 62,
   "metadata": {},
   "outputs": [],
   "source": [
    "data.loc[data['floors_total'].isna(), 'floors_total'] = data.loc[data['floors_total'].isna(), 'floor']"
   ]
  },
  {
   "cell_type": "markdown",
   "metadata": {},
   "source": [
    "'living_area',  'kitchen_area' - неизвестно откуда пропуски. Заполним медианным значением:"
   ]
  },
  {
   "cell_type": "code",
   "execution_count": 63,
   "metadata": {},
   "outputs": [],
   "source": [
    "data['kitchen_area'] = data['kitchen_area'].fillna(data.median(numeric_only=True)['kitchen_area'])\n",
    "data['living_area'] = data['living_area'].fillna(data.median(numeric_only=True)['living_area'])"
   ]
  },
  {
   "cell_type": "code",
   "execution_count": 64,
   "metadata": {},
   "outputs": [],
   "source": [
    "data.drop(columns = ['is_apartment'], axis = 1, inplace=True)"
   ]
  },
  {
   "cell_type": "markdown",
   "metadata": {},
   "source": [
    "Столбец is_apartment имеет булев тип данных, и данных этих катастрофически мало. По ним нельзя сделать выводов. Удалим этот столбец."
   ]
  },
  {
   "cell_type": "code",
   "execution_count": 65,
   "metadata": {},
   "outputs": [],
   "source": [
    "data['balcony'] = data['balcony'].fillna(0)"
   ]
  },
  {
   "cell_type": "markdown",
   "metadata": {},
   "source": [
    "Будем считать, что если балкон не указан, то его нет, ведь наличие балкона это преимущество при продаже, было бы странно его не указать, если он есть."
   ]
  },
  {
   "cell_type": "code",
   "execution_count": 66,
   "metadata": {},
   "outputs": [],
   "source": [
    "data.dropna(axis=0, subset=['locality_name'], inplace=True)"
   ]
  },
  {
   "cell_type": "markdown",
   "metadata": {},
   "source": [
    "'locality_name' - строка, и пропущенных строк не так много. Удалим их без ущерба для анализа."
   ]
  },
  {
   "cell_type": "code",
   "execution_count": 67,
   "metadata": {},
   "outputs": [
    {
     "data": {
      "text/plain": [
       "18116"
      ]
     },
     "execution_count": 67,
     "metadata": {},
     "output_type": "execute_result"
    }
   ],
   "source": [
    "data['airports_nearest'].count()"
   ]
  },
  {
   "cell_type": "markdown",
   "metadata": {},
   "source": [
    "Пропущенных значений слишком много, чтобы удалять строки, но слишком мало, чтобы удалять столбец. Оставим как есть. Скорее всего, аэропорта рядом просто нет."
   ]
  },
  {
   "cell_type": "code",
   "execution_count": 68,
   "metadata": {},
   "outputs": [
    {
     "data": {
      "text/plain": [
       "5510"
      ]
     },
     "execution_count": 68,
     "metadata": {},
     "output_type": "execute_result"
    }
   ],
   "source": [
    "data[(data['cityCenters_nearest'].isna()) & (data['airports_nearest'].isna())].count()['total_images']"
   ]
  },
  {
   "cell_type": "markdown",
   "metadata": {},
   "source": [
    "Интересно, что данные по ближайшему торговому центру отсутствуют там же, где по ближайшему аэропорту. Возможно их нет поблизости, а возможно люди не стали их заполнять в силу неудобства"
   ]
  },
  {
   "cell_type": "code",
   "execution_count": 69,
   "metadata": {},
   "outputs": [
    {
     "data": {
      "text/plain": [
       "5510"
      ]
     },
     "execution_count": 69,
     "metadata": {},
     "output_type": "execute_result"
    }
   ],
   "source": [
    "data[(data['cityCenters_nearest'].isna()) & (data['parks_around3000'].isna())].count()['total_images']"
   ]
  },
  {
   "cell_type": "markdown",
   "metadata": {},
   "source": [
    "То же самое справедливо для парков."
   ]
  },
  {
   "cell_type": "code",
   "execution_count": 70,
   "metadata": {},
   "outputs": [
    {
     "data": {
      "text/plain": [
       "5510"
      ]
     },
     "execution_count": 70,
     "metadata": {},
     "output_type": "execute_result"
    }
   ],
   "source": [
    "data[(data['cityCenters_nearest'].isna()) & (data['ponds_around3000'].isna())].count()['total_images']"
   ]
  },
  {
   "cell_type": "markdown",
   "metadata": {},
   "source": [
    "И прудов. Заполним значения для парков и прудов нулями."
   ]
  },
  {
   "cell_type": "code",
   "execution_count": 71,
   "metadata": {},
   "outputs": [],
   "source": [
    "data['parks_around3000'] = data['parks_around3000'].fillna(0)\n",
    "data['ponds_around3000'] = data['ponds_around3000'].fillna(0)"
   ]
  },
  {
   "cell_type": "code",
   "execution_count": 72,
   "metadata": {},
   "outputs": [
    {
     "data": {
      "text/plain": [
       "array([  nan,   81.,  558., ..., 1360., 1007.,  971.])"
      ]
     },
     "execution_count": 72,
     "metadata": {},
     "output_type": "execute_result"
    }
   ],
   "source": [
    "data['days_exposition'].unique()"
   ]
  },
  {
   "cell_type": "markdown",
   "metadata": {},
   "source": [
    "Что касается дней размещения, возможно, это баг. А возможно, объявление всё ещё висит. Необходимо уточнить у разработчиков. Пока заполним заведомо большим числом."
   ]
  },
  {
   "cell_type": "code",
   "execution_count": 73,
   "metadata": {},
   "outputs": [],
   "source": [
    "data['days_exposition'].fillna(732, inplace=True)"
   ]
  },
  {
   "cell_type": "code",
   "execution_count": 74,
   "metadata": {},
   "outputs": [
    {
     "data": {
      "text/plain": [
       "total_images              int64\n",
       "last_price              float64\n",
       "total_area              float64\n",
       "first_day_exposition     object\n",
       "rooms                     int64\n",
       "ceiling_height          float64\n",
       "floors_total            float64\n",
       "living_area             float64\n",
       "floor                     int64\n",
       "studio                     bool\n",
       "open_plan                  bool\n",
       "kitchen_area            float64\n",
       "balcony                 float64\n",
       "locality_name            object\n",
       "airports_nearest        float64\n",
       "cityCenters_nearest     float64\n",
       "parks_around3000        float64\n",
       "parks_nearest           float64\n",
       "ponds_around3000        float64\n",
       "ponds_nearest           float64\n",
       "days_exposition         float64\n",
       "dtype: object"
      ]
     },
     "execution_count": 74,
     "metadata": {},
     "output_type": "execute_result"
    }
   ],
   "source": [
    "data.dtypes"
   ]
  },
  {
   "cell_type": "markdown",
   "metadata": {},
   "source": [
    "Данные надо поменять в столбцах:  \n",
    "1. first_day_exposition - на дату\n",
    "2. floors_total - на int64\n",
    "3. balcony - на int64\n",
    "4. parks_around3000 - на int64\n",
    "5. ponds_around3000 - на int64\n",
    "6. days_exposition - на int64  \n",
    "1 - это дата, далее - это количество. количество не может быть дробным.  \n",
    "Проделаем замену:"
   ]
  },
  {
   "cell_type": "markdown",
   "metadata": {},
   "source": [
    "Данные надо поменять в столбцах:  \n",
    "1. first_day_exposition - на дату\n",
    "2. floors_total - на int64\n",
    "3. balcony - на int64\n",
    "4. parks_around3000 - на int64\n",
    "5. ponds_around3000 - на int64\n",
    "6. days_exposition - на int64  \n",
    "1 - это дата, далее - это количество. количество не может быть дробным.  \n",
    "Проделаем замену:"
   ]
  },
  {
   "cell_type": "code",
   "execution_count": 75,
   "metadata": {},
   "outputs": [
    {
     "data": {
      "text/plain": [
       "total_images                     int64\n",
       "last_price                     float64\n",
       "total_area                     float64\n",
       "first_day_exposition    datetime64[ns]\n",
       "rooms                            int64\n",
       "ceiling_height                 float64\n",
       "floors_total                     int64\n",
       "living_area                    float64\n",
       "floor                            int64\n",
       "studio                            bool\n",
       "open_plan                         bool\n",
       "kitchen_area                   float64\n",
       "balcony                          int64\n",
       "locality_name                   object\n",
       "airports_nearest               float64\n",
       "cityCenters_nearest            float64\n",
       "parks_around3000                 int64\n",
       "parks_nearest                  float64\n",
       "ponds_around3000                 int64\n",
       "ponds_nearest                  float64\n",
       "days_exposition                  int64\n",
       "dtype: object"
      ]
     },
     "execution_count": 75,
     "metadata": {},
     "output_type": "execute_result"
    }
   ],
   "source": [
    "import numpy as np\n",
    "data['first_day_exposition'] = pd.to_datetime(data['first_day_exposition'], format=\"%Y-%m-%dT%H:%M:%S\") #2019-03-07T00:00:00\n",
    "\n",
    "data = data.astype({'floors_total' : 'int',\n",
    "                    'balcony': 'int',\n",
    "                   'parks_around3000': 'int',\n",
    "                   'ponds_around3000': 'int',\n",
    "                   'days_exposition' : 'int'})\n",
    "\n",
    "data.dtypes"
   ]
  },
  {
   "cell_type": "code",
   "execution_count": 76,
   "metadata": {},
   "outputs": [
    {
     "data": {
      "text/plain": [
       "['Бокситогорск',\n",
       " 'Волосово',\n",
       " 'Волхов',\n",
       " 'Всеволожск',\n",
       " 'Выборг',\n",
       " 'Высоцк',\n",
       " 'Гатчина',\n",
       " 'Зеленогорск',\n",
       " 'Ивангород',\n",
       " 'Каменногорск',\n",
       " 'Кингисепп',\n",
       " 'Кириши',\n",
       " 'Кировск',\n",
       " 'Колпино',\n",
       " 'Коммунар',\n",
       " 'Красное Село',\n",
       " 'Кронштадт',\n",
       " 'Кудрово',\n",
       " 'Лодейное Поле',\n",
       " 'Ломоносов',\n",
       " 'Луга',\n",
       " 'Любань',\n",
       " 'Мурино',\n",
       " 'Никольское',\n",
       " 'Новая Ладога',\n",
       " 'Отрадное',\n",
       " 'Павловск',\n",
       " 'Петергоф',\n",
       " 'Пикалёво',\n",
       " 'Подпорожье',\n",
       " 'Приморск',\n",
       " 'Приозерск',\n",
       " 'Пушкин',\n",
       " 'Санкт-Петербург',\n",
       " 'Светогорск',\n",
       " 'Сертолово',\n",
       " 'Сестрорецк',\n",
       " 'Сланцы',\n",
       " 'Сосновый Бор',\n",
       " 'Сясьстрой',\n",
       " 'Тихвин',\n",
       " 'Тосно',\n",
       " 'Шлиссельбург',\n",
       " 'городской поселок Большая Ижора',\n",
       " 'городской поселок Янино-1',\n",
       " 'городской посёлок Будогощь',\n",
       " 'городской посёлок Виллози',\n",
       " 'городской посёлок Лесогорский',\n",
       " 'городской посёлок Мга',\n",
       " 'городской посёлок Назия',\n",
       " 'городской посёлок Новоселье',\n",
       " 'городской посёлок Павлово',\n",
       " 'городской посёлок Рощино',\n",
       " 'городской посёлок Свирьстрой',\n",
       " 'городской посёлок Советский',\n",
       " 'городской посёлок Фёдоровское',\n",
       " 'городской посёлок Янино-1',\n",
       " 'деревня Агалатово',\n",
       " 'деревня Аро',\n",
       " 'деревня Батово',\n",
       " 'деревня Бегуницы',\n",
       " 'деревня Белогорка',\n",
       " 'деревня Большая Вруда',\n",
       " 'деревня Большая Пустомержа',\n",
       " 'деревня Большие Колпаны',\n",
       " 'деревня Большое Рейзино',\n",
       " 'деревня Большой Сабск',\n",
       " 'деревня Бор',\n",
       " 'деревня Борисова Грива',\n",
       " 'деревня Ваганово',\n",
       " 'деревня Вартемяги',\n",
       " 'деревня Вахнова Кара',\n",
       " 'деревня Выскатка',\n",
       " 'деревня Гарболово',\n",
       " 'деревня Глинка',\n",
       " 'деревня Горбунки',\n",
       " 'деревня Гостилицы',\n",
       " 'деревня Заклинье',\n",
       " 'деревня Заневка',\n",
       " 'деревня Зимитицы',\n",
       " 'деревня Извара',\n",
       " 'деревня Иссад',\n",
       " 'деревня Калитино',\n",
       " 'деревня Кальтино',\n",
       " 'деревня Камышовка',\n",
       " 'деревня Каськово',\n",
       " 'деревня Келози',\n",
       " 'деревня Кипень',\n",
       " 'деревня Кисельня',\n",
       " 'деревня Колтуши',\n",
       " 'деревня Коркино',\n",
       " 'деревня Котлы',\n",
       " 'деревня Кривко',\n",
       " 'деревня Кудрово',\n",
       " 'деревня Кузьмолово',\n",
       " 'деревня Курковицы',\n",
       " 'деревня Куровицы',\n",
       " 'деревня Куттузи',\n",
       " 'деревня Лаврики',\n",
       " 'деревня Лаголово',\n",
       " 'деревня Лампово',\n",
       " 'деревня Лесколово',\n",
       " 'деревня Лопухинка',\n",
       " 'деревня Лупполово',\n",
       " 'деревня Малая Романовка',\n",
       " 'деревня Малое Верево',\n",
       " 'деревня Малое Карлино',\n",
       " 'деревня Малые Колпаны',\n",
       " 'деревня Мануйлово',\n",
       " 'деревня Меньково',\n",
       " 'деревня Мины',\n",
       " 'деревня Мистолово',\n",
       " 'деревня Ненимяки',\n",
       " 'деревня Нижние Осельки',\n",
       " 'деревня Нижняя',\n",
       " 'деревня Низино',\n",
       " 'деревня Новое Девяткино',\n",
       " 'деревня Новолисино',\n",
       " 'деревня Нурма',\n",
       " 'деревня Оржицы',\n",
       " 'деревня Парицы',\n",
       " 'деревня Пельгора',\n",
       " 'деревня Пеники',\n",
       " 'деревня Пижма',\n",
       " 'деревня Пикколово',\n",
       " 'деревня Пудомяги',\n",
       " 'деревня Пустынка',\n",
       " 'деревня Пчева',\n",
       " 'деревня Рабитицы',\n",
       " 'деревня Разбегаево',\n",
       " 'деревня Раздолье',\n",
       " 'деревня Разметелево',\n",
       " 'деревня Рапполово',\n",
       " 'деревня Реброво',\n",
       " 'деревня Русско',\n",
       " 'деревня Сижно',\n",
       " 'деревня Снегирёвка',\n",
       " 'деревня Старая',\n",
       " 'деревня Старая Пустошь',\n",
       " 'деревня Старое Хинколово',\n",
       " 'деревня Старополье',\n",
       " 'деревня Старосиверская',\n",
       " 'деревня Старые Бегуницы',\n",
       " 'деревня Суоранда',\n",
       " 'деревня Сяськелево',\n",
       " 'деревня Тарасово',\n",
       " 'деревня Терпилицы',\n",
       " 'деревня Тихковицы',\n",
       " 'деревня Тойворово',\n",
       " 'деревня Торосово',\n",
       " 'деревня Торошковичи',\n",
       " 'деревня Трубников Бор',\n",
       " 'деревня Фалилеево',\n",
       " 'деревня Фёдоровское',\n",
       " 'деревня Хапо-Ое',\n",
       " 'деревня Хязельки',\n",
       " 'деревня Чудской Бор',\n",
       " 'деревня Шпаньково',\n",
       " 'деревня Щеглово',\n",
       " 'деревня Юкки',\n",
       " 'деревня Ялгино',\n",
       " 'деревня Яльгелево',\n",
       " 'деревня Ям-Тесово',\n",
       " 'коттеджный поселок Кивеннапа Север',\n",
       " 'коттеджный поселок Счастье',\n",
       " 'коттеджный посёлок Лесное',\n",
       " 'поселок Аннино',\n",
       " 'поселок Барышево',\n",
       " 'поселок Бугры',\n",
       " 'поселок Возрождение',\n",
       " 'поселок Войсковицы',\n",
       " 'поселок Володарское',\n",
       " 'поселок Гаврилово',\n",
       " 'поселок Гарболово',\n",
       " 'поселок Гладкое',\n",
       " 'поселок Глажево',\n",
       " 'поселок Глебычево',\n",
       " 'поселок Гончарово',\n",
       " 'поселок Громово',\n",
       " 'поселок Дружноселье',\n",
       " 'поселок Елизаветино',\n",
       " 'поселок Жилгородок',\n",
       " 'поселок Жилпосёлок',\n",
       " 'поселок Житково',\n",
       " 'поселок Заводской',\n",
       " 'поселок Запорожское',\n",
       " 'поселок Зимитицы',\n",
       " 'поселок Ильичёво',\n",
       " 'поселок Калитино',\n",
       " 'поселок Каложицы',\n",
       " 'поселок Кингисеппский',\n",
       " 'поселок Кирпичное',\n",
       " 'поселок Кобралово',\n",
       " 'поселок Кобринское',\n",
       " 'поселок Коммунары',\n",
       " 'поселок Коробицыно',\n",
       " 'поселок Котельский',\n",
       " 'поселок Красная Долина',\n",
       " 'поселок Красносельское',\n",
       " 'поселок Лесное',\n",
       " 'поселок Лисий Нос',\n",
       " 'поселок Лукаши',\n",
       " 'поселок Любань',\n",
       " 'поселок Мельниково',\n",
       " 'поселок Мичуринское',\n",
       " 'поселок Молодцово',\n",
       " 'поселок Мурино',\n",
       " 'поселок Новый Свет',\n",
       " 'поселок Новый Учхоз',\n",
       " 'поселок Оредеж',\n",
       " 'поселок Пансионат Зелёный Бор',\n",
       " 'поселок Первомайское',\n",
       " 'поселок Перово',\n",
       " 'поселок Петровское',\n",
       " 'поселок Победа',\n",
       " 'поселок Поляны',\n",
       " 'поселок Почап',\n",
       " 'поселок Починок',\n",
       " 'поселок Пушное',\n",
       " 'поселок Пчевжа',\n",
       " 'поселок Рабитицы',\n",
       " 'поселок Романовка',\n",
       " 'поселок Ромашки',\n",
       " 'поселок Рябово',\n",
       " 'поселок Севастьяново',\n",
       " 'поселок Селезнёво',\n",
       " 'поселок Сельцо',\n",
       " 'поселок Семиозерье',\n",
       " 'поселок Семрино',\n",
       " 'поселок Серебрянский',\n",
       " 'поселок Совхозный',\n",
       " 'поселок Старая Малукса',\n",
       " 'поселок Стеклянный',\n",
       " 'поселок Сумино',\n",
       " 'поселок Суходолье',\n",
       " 'поселок Тельмана',\n",
       " 'поселок Терволово',\n",
       " 'поселок Торковичи',\n",
       " 'поселок Тёсово-4',\n",
       " 'поселок Углово',\n",
       " 'поселок Усть-Луга',\n",
       " 'поселок Ушаки',\n",
       " 'поселок Цвелодубово',\n",
       " 'поселок Цвылёво',\n",
       " 'поселок городского типа Большая Ижора',\n",
       " 'поселок городского типа Вырица',\n",
       " 'поселок городского типа Дружная Горка',\n",
       " 'поселок городского типа Дубровка',\n",
       " 'поселок городского типа Ефимовский',\n",
       " 'поселок городского типа Кондратьево',\n",
       " 'поселок городского типа Красный Бор',\n",
       " 'поселок городского типа Кузьмоловский',\n",
       " 'поселок городского типа Лебяжье',\n",
       " 'поселок городского типа Лесогорский',\n",
       " 'поселок городского типа Назия',\n",
       " 'поселок городского типа Никольский',\n",
       " 'поселок городского типа Приладожский',\n",
       " 'поселок городского типа Рахья',\n",
       " 'поселок городского типа Рощино',\n",
       " 'поселок городского типа Рябово',\n",
       " 'поселок городского типа Синявино',\n",
       " 'поселок городского типа Советский',\n",
       " 'поселок городского типа Токсово',\n",
       " 'поселок городского типа Форносово',\n",
       " 'поселок городского типа имени Свердлова',\n",
       " 'поселок станции Вещево',\n",
       " 'поселок станции Корнево',\n",
       " 'поселок станции Лужайка',\n",
       " 'поселок станции Приветнинское',\n",
       " 'посёлок Александровская',\n",
       " 'посёлок Алексеевка',\n",
       " 'посёлок Аннино',\n",
       " 'посёлок Белоостров',\n",
       " 'посёлок Бугры',\n",
       " 'посёлок Возрождение',\n",
       " 'посёлок Войскорово',\n",
       " 'посёлок Высокоключевой',\n",
       " 'посёлок Гаврилово',\n",
       " 'посёлок Дзержинского',\n",
       " 'посёлок Жилгородок',\n",
       " 'посёлок Ильичёво',\n",
       " 'посёлок Кикерино',\n",
       " 'посёлок Кобралово',\n",
       " 'посёлок Коробицыно',\n",
       " 'посёлок Левашово',\n",
       " 'посёлок Ленинское',\n",
       " 'посёлок Лисий Нос',\n",
       " 'посёлок Мельниково',\n",
       " 'посёлок Металлострой',\n",
       " 'посёлок Мичуринское',\n",
       " 'посёлок Молодёжное',\n",
       " 'посёлок Мурино',\n",
       " 'посёлок Мыза-Ивановка',\n",
       " 'посёлок Новогорелово',\n",
       " 'посёлок Новый Свет',\n",
       " 'посёлок Пансионат Зелёный Бор',\n",
       " 'посёлок Парголово',\n",
       " 'посёлок Перово',\n",
       " 'посёлок Песочный',\n",
       " 'посёлок Петро-Славянка',\n",
       " 'посёлок Петровское',\n",
       " 'посёлок Платформа 69-й километр',\n",
       " 'посёлок Плодовое',\n",
       " 'посёлок Плоское',\n",
       " 'посёлок Победа',\n",
       " 'посёлок Поляны',\n",
       " 'посёлок Понтонный',\n",
       " 'посёлок Пригородный',\n",
       " 'посёлок Пудость',\n",
       " 'посёлок Репино',\n",
       " 'посёлок Ропша',\n",
       " 'посёлок Сапёрное',\n",
       " 'посёлок Сапёрный',\n",
       " 'посёлок Сосново',\n",
       " 'посёлок Старая Малукса',\n",
       " 'посёлок Стеклянный',\n",
       " 'посёлок Стрельна',\n",
       " 'посёлок Суйда',\n",
       " 'посёлок Сумино',\n",
       " 'посёлок Тельмана',\n",
       " 'посёлок Терволово',\n",
       " 'посёлок Торфяное',\n",
       " 'посёлок Усть-Ижора',\n",
       " 'посёлок Усть-Луга',\n",
       " 'посёлок Форт Красная Горка',\n",
       " 'посёлок Шугозеро',\n",
       " 'посёлок Шушары',\n",
       " 'посёлок Щеглово',\n",
       " 'посёлок городского типа Важины',\n",
       " 'посёлок городского типа Вознесенье',\n",
       " 'посёлок городского типа Вырица',\n",
       " 'посёлок городского типа Красный Бор',\n",
       " 'посёлок городского типа Кузнечное',\n",
       " 'посёлок городского типа Кузьмоловский',\n",
       " 'посёлок городского типа Лебяжье',\n",
       " 'посёлок городского типа Мга',\n",
       " 'посёлок городского типа Павлово',\n",
       " 'посёлок городского типа Рощино',\n",
       " 'посёлок городского типа Рябово',\n",
       " 'посёлок городского типа Сиверский',\n",
       " 'посёлок городского типа Тайцы',\n",
       " 'посёлок городского типа Токсово',\n",
       " 'посёлок городского типа Ульяновка',\n",
       " 'посёлок городского типа Форносово',\n",
       " 'посёлок городского типа имени Морозова',\n",
       " 'посёлок городского типа имени Свердлова',\n",
       " 'посёлок при железнодорожной станции Вещево',\n",
       " 'посёлок при железнодорожной станции Приветнинское',\n",
       " 'посёлок станции Громово',\n",
       " 'посёлок станции Свирь',\n",
       " 'садоводческое некоммерческое товарищество Лесная Поляна',\n",
       " 'садовое товарищество Новая Ропша',\n",
       " 'садовое товарищество Приладожский',\n",
       " 'садовое товарищество Рахья',\n",
       " 'садовое товарищество Садко',\n",
       " 'село Копорье',\n",
       " 'село Никольское',\n",
       " 'село Павлово',\n",
       " 'село Паша',\n",
       " 'село Путилово',\n",
       " 'село Рождествено',\n",
       " 'село Русско-Высоцкое',\n",
       " 'село Старая Ладога',\n",
       " 'село Шум']"
      ]
     },
     "execution_count": 76,
     "metadata": {},
     "output_type": "execute_result"
    }
   ],
   "source": [
    "sorted(data['locality_name'].unique())"
   ]
  },
  {
   "cell_type": "markdown",
   "metadata": {},
   "source": [
    "Посмотрим, какие есть дубликаты названий населенных пунктов:  \n",
    "1. 'посёлок Мурино' - 'поселок Мурино'\n",
    "2. 'городской поселок Янино-1' - 'городской посёлок Янино-1'\n",
    "3. 'поселок Бугры' - 'посёлок Бугры'  \n",
    "Видно, что выявленные дубликаты вызваны заменой буквы е на ё. Приведём всё к единообразию через функцию:"
   ]
  },
  {
   "cell_type": "code",
   "execution_count": 77,
   "metadata": {},
   "outputs": [
    {
     "data": {
      "text/plain": [
       "['Бокситогорск',\n",
       " 'Волосово',\n",
       " 'Волхов',\n",
       " 'Всеволожск',\n",
       " 'Выборг',\n",
       " 'Высоцк',\n",
       " 'Гатчина',\n",
       " 'Зеленогорск',\n",
       " 'Ивангород',\n",
       " 'Каменногорск',\n",
       " 'Кингисепп',\n",
       " 'Кириши',\n",
       " 'Кировск',\n",
       " 'Колпино',\n",
       " 'Коммунар',\n",
       " 'Красное Село',\n",
       " 'Кронштадт',\n",
       " 'Кудрово',\n",
       " 'Лодейное Поле',\n",
       " 'Ломоносов',\n",
       " 'Луга',\n",
       " 'Любань',\n",
       " 'Мурино',\n",
       " 'Никольское',\n",
       " 'Новая Ладога',\n",
       " 'Отрадное',\n",
       " 'Павловск',\n",
       " 'Петергоф',\n",
       " 'Пикалево',\n",
       " 'Подпорожье',\n",
       " 'Приморск',\n",
       " 'Приозерск',\n",
       " 'Пушкин',\n",
       " 'Санкт-Петербург',\n",
       " 'Светогорск',\n",
       " 'Сертолово',\n",
       " 'Сестрорецк',\n",
       " 'Сланцы',\n",
       " 'Сосновый Бор',\n",
       " 'Сясьстрой',\n",
       " 'Тихвин',\n",
       " 'Тосно',\n",
       " 'Шлиссельбург',\n",
       " 'городской поселок Большая Ижора',\n",
       " 'городской поселок Будогощь',\n",
       " 'городской поселок Виллози',\n",
       " 'городской поселок Лесогорский',\n",
       " 'городской поселок Мга',\n",
       " 'городской поселок Назия',\n",
       " 'городской поселок Новоселье',\n",
       " 'городской поселок Павлово',\n",
       " 'городской поселок Рощино',\n",
       " 'городской поселок Свирьстрой',\n",
       " 'городской поселок Советский',\n",
       " 'городской поселок Федоровское',\n",
       " 'городской поселок Янино-1',\n",
       " 'деревня Агалатово',\n",
       " 'деревня Аро',\n",
       " 'деревня Батово',\n",
       " 'деревня Бегуницы',\n",
       " 'деревня Белогорка',\n",
       " 'деревня Большая Вруда',\n",
       " 'деревня Большая Пустомержа',\n",
       " 'деревня Большие Колпаны',\n",
       " 'деревня Большое Рейзино',\n",
       " 'деревня Большой Сабск',\n",
       " 'деревня Бор',\n",
       " 'деревня Борисова Грива',\n",
       " 'деревня Ваганово',\n",
       " 'деревня Вартемяги',\n",
       " 'деревня Вахнова Кара',\n",
       " 'деревня Выскатка',\n",
       " 'деревня Гарболово',\n",
       " 'деревня Глинка',\n",
       " 'деревня Горбунки',\n",
       " 'деревня Гостилицы',\n",
       " 'деревня Заклинье',\n",
       " 'деревня Заневка',\n",
       " 'деревня Зимитицы',\n",
       " 'деревня Извара',\n",
       " 'деревня Иссад',\n",
       " 'деревня Калитино',\n",
       " 'деревня Кальтино',\n",
       " 'деревня Камышовка',\n",
       " 'деревня Каськово',\n",
       " 'деревня Келози',\n",
       " 'деревня Кипень',\n",
       " 'деревня Кисельня',\n",
       " 'деревня Колтуши',\n",
       " 'деревня Коркино',\n",
       " 'деревня Котлы',\n",
       " 'деревня Кривко',\n",
       " 'деревня Кудрово',\n",
       " 'деревня Кузьмолово',\n",
       " 'деревня Курковицы',\n",
       " 'деревня Куровицы',\n",
       " 'деревня Куттузи',\n",
       " 'деревня Лаврики',\n",
       " 'деревня Лаголово',\n",
       " 'деревня Лампово',\n",
       " 'деревня Лесколово',\n",
       " 'деревня Лопухинка',\n",
       " 'деревня Лупполово',\n",
       " 'деревня Малая Романовка',\n",
       " 'деревня Малое Верево',\n",
       " 'деревня Малое Карлино',\n",
       " 'деревня Малые Колпаны',\n",
       " 'деревня Мануйлово',\n",
       " 'деревня Меньково',\n",
       " 'деревня Мины',\n",
       " 'деревня Мистолово',\n",
       " 'деревня Ненимяки',\n",
       " 'деревня Нижние Осельки',\n",
       " 'деревня Нижняя',\n",
       " 'деревня Низино',\n",
       " 'деревня Новое Девяткино',\n",
       " 'деревня Новолисино',\n",
       " 'деревня Нурма',\n",
       " 'деревня Оржицы',\n",
       " 'деревня Парицы',\n",
       " 'деревня Пельгора',\n",
       " 'деревня Пеники',\n",
       " 'деревня Пижма',\n",
       " 'деревня Пикколово',\n",
       " 'деревня Пудомяги',\n",
       " 'деревня Пустынка',\n",
       " 'деревня Пчева',\n",
       " 'деревня Рабитицы',\n",
       " 'деревня Разбегаево',\n",
       " 'деревня Раздолье',\n",
       " 'деревня Разметелево',\n",
       " 'деревня Рапполово',\n",
       " 'деревня Реброво',\n",
       " 'деревня Русско',\n",
       " 'деревня Сижно',\n",
       " 'деревня Снегиревка',\n",
       " 'деревня Старая',\n",
       " 'деревня Старая Пустошь',\n",
       " 'деревня Старое Хинколово',\n",
       " 'деревня Старополье',\n",
       " 'деревня Старосиверская',\n",
       " 'деревня Старые Бегуницы',\n",
       " 'деревня Суоранда',\n",
       " 'деревня Сяськелево',\n",
       " 'деревня Тарасово',\n",
       " 'деревня Терпилицы',\n",
       " 'деревня Тихковицы',\n",
       " 'деревня Тойворово',\n",
       " 'деревня Торосово',\n",
       " 'деревня Торошковичи',\n",
       " 'деревня Трубников Бор',\n",
       " 'деревня Фалилеево',\n",
       " 'деревня Федоровское',\n",
       " 'деревня Хапо-Ое',\n",
       " 'деревня Хязельки',\n",
       " 'деревня Чудской Бор',\n",
       " 'деревня Шпаньково',\n",
       " 'деревня Щеглово',\n",
       " 'деревня Юкки',\n",
       " 'деревня Ялгино',\n",
       " 'деревня Яльгелево',\n",
       " 'деревня Ям-Тесово',\n",
       " 'коттеджный поселок Кивеннапа Север',\n",
       " 'коттеджный поселок Лесное',\n",
       " 'коттеджный поселок Счастье',\n",
       " 'поселок Александровская',\n",
       " 'поселок Алексеевка',\n",
       " 'поселок Аннино',\n",
       " 'поселок Барышево',\n",
       " 'поселок Белоостров',\n",
       " 'поселок Бугры',\n",
       " 'поселок Возрождение',\n",
       " 'поселок Войсковицы',\n",
       " 'поселок Войскорово',\n",
       " 'поселок Володарское',\n",
       " 'поселок Высокоключевой',\n",
       " 'поселок Гаврилово',\n",
       " 'поселок Гарболово',\n",
       " 'поселок Гладкое',\n",
       " 'поселок Глажево',\n",
       " 'поселок Глебычево',\n",
       " 'поселок Гончарово',\n",
       " 'поселок Громово',\n",
       " 'поселок Дзержинского',\n",
       " 'поселок Дружноселье',\n",
       " 'поселок Елизаветино',\n",
       " 'поселок Жилгородок',\n",
       " 'поселок Жилпоселок',\n",
       " 'поселок Житково',\n",
       " 'поселок Заводской',\n",
       " 'поселок Запорожское',\n",
       " 'поселок Зимитицы',\n",
       " 'поселок Ильичево',\n",
       " 'поселок Калитино',\n",
       " 'поселок Каложицы',\n",
       " 'поселок Кикерино',\n",
       " 'поселок Кингисеппский',\n",
       " 'поселок Кирпичное',\n",
       " 'поселок Кобралово',\n",
       " 'поселок Кобринское',\n",
       " 'поселок Коммунары',\n",
       " 'поселок Коробицыно',\n",
       " 'поселок Котельский',\n",
       " 'поселок Красная Долина',\n",
       " 'поселок Красносельское',\n",
       " 'поселок Левашово',\n",
       " 'поселок Ленинское',\n",
       " 'поселок Лесное',\n",
       " 'поселок Лисий Нос',\n",
       " 'поселок Лукаши',\n",
       " 'поселок Любань',\n",
       " 'поселок Мельниково',\n",
       " 'поселок Металлострой',\n",
       " 'поселок Мичуринское',\n",
       " 'поселок Молодежное',\n",
       " 'поселок Молодцово',\n",
       " 'поселок Мурино',\n",
       " 'поселок Мыза-Ивановка',\n",
       " 'поселок Новогорелово',\n",
       " 'поселок Новый Свет',\n",
       " 'поселок Новый Учхоз',\n",
       " 'поселок Оредеж',\n",
       " 'поселок Пансионат Зеленый Бор',\n",
       " 'поселок Парголово',\n",
       " 'поселок Первомайское',\n",
       " 'поселок Перово',\n",
       " 'поселок Песочный',\n",
       " 'поселок Петро-Славянка',\n",
       " 'поселок Петровское',\n",
       " 'поселок Платформа 69-й километр',\n",
       " 'поселок Плодовое',\n",
       " 'поселок Плоское',\n",
       " 'поселок Победа',\n",
       " 'поселок Поляны',\n",
       " 'поселок Понтонный',\n",
       " 'поселок Почап',\n",
       " 'поселок Починок',\n",
       " 'поселок Пригородный',\n",
       " 'поселок Пудость',\n",
       " 'поселок Пушное',\n",
       " 'поселок Пчевжа',\n",
       " 'поселок Рабитицы',\n",
       " 'поселок Репино',\n",
       " 'поселок Романовка',\n",
       " 'поселок Ромашки',\n",
       " 'поселок Ропша',\n",
       " 'поселок Рябово',\n",
       " 'поселок Саперное',\n",
       " 'поселок Саперный',\n",
       " 'поселок Севастьяново',\n",
       " 'поселок Селезнево',\n",
       " 'поселок Сельцо',\n",
       " 'поселок Семиозерье',\n",
       " 'поселок Семрино',\n",
       " 'поселок Серебрянский',\n",
       " 'поселок Совхозный',\n",
       " 'поселок Сосново',\n",
       " 'поселок Старая Малукса',\n",
       " 'поселок Стеклянный',\n",
       " 'поселок Стрельна',\n",
       " 'поселок Суйда',\n",
       " 'поселок Сумино',\n",
       " 'поселок Суходолье',\n",
       " 'поселок Тельмана',\n",
       " 'поселок Терволово',\n",
       " 'поселок Тесово-4',\n",
       " 'поселок Торковичи',\n",
       " 'поселок Торфяное',\n",
       " 'поселок Углово',\n",
       " 'поселок Усть-Ижора',\n",
       " 'поселок Усть-Луга',\n",
       " 'поселок Ушаки',\n",
       " 'поселок Форт Красная Горка',\n",
       " 'поселок Цвелодубово',\n",
       " 'поселок Цвылево',\n",
       " 'поселок Шугозеро',\n",
       " 'поселок Шушары',\n",
       " 'поселок Щеглово',\n",
       " 'поселок городского типа Большая Ижора',\n",
       " 'поселок городского типа Важины',\n",
       " 'поселок городского типа Вознесенье',\n",
       " 'поселок городского типа Вырица',\n",
       " 'поселок городского типа Дружная Горка',\n",
       " 'поселок городского типа Дубровка',\n",
       " 'поселок городского типа Ефимовский',\n",
       " 'поселок городского типа Кондратьево',\n",
       " 'поселок городского типа Красный Бор',\n",
       " 'поселок городского типа Кузнечное',\n",
       " 'поселок городского типа Кузьмоловский',\n",
       " 'поселок городского типа Лебяжье',\n",
       " 'поселок городского типа Лесогорский',\n",
       " 'поселок городского типа Мга',\n",
       " 'поселок городского типа Назия',\n",
       " 'поселок городского типа Никольский',\n",
       " 'поселок городского типа Павлово',\n",
       " 'поселок городского типа Приладожский',\n",
       " 'поселок городского типа Рахья',\n",
       " 'поселок городского типа Рощино',\n",
       " 'поселок городского типа Рябово',\n",
       " 'поселок городского типа Сиверский',\n",
       " 'поселок городского типа Синявино',\n",
       " 'поселок городского типа Советский',\n",
       " 'поселок городского типа Тайцы',\n",
       " 'поселок городского типа Токсово',\n",
       " 'поселок городского типа Ульяновка',\n",
       " 'поселок городского типа Форносово',\n",
       " 'поселок городского типа имени Морозова',\n",
       " 'поселок городского типа имени Свердлова',\n",
       " 'поселок при железнодорожной станции Вещево',\n",
       " 'поселок при железнодорожной станции Приветнинское',\n",
       " 'поселок станции Вещево',\n",
       " 'поселок станции Громово',\n",
       " 'поселок станции Корнево',\n",
       " 'поселок станции Лужайка',\n",
       " 'поселок станции Приветнинское',\n",
       " 'поселок станции Свирь',\n",
       " 'садоводческое некоммерческое товарищество Лесная Поляна',\n",
       " 'садовое товарищество Новая Ропша',\n",
       " 'садовое товарищество Приладожский',\n",
       " 'садовое товарищество Рахья',\n",
       " 'садовое товарищество Садко',\n",
       " 'село Копорье',\n",
       " 'село Никольское',\n",
       " 'село Павлово',\n",
       " 'село Паша',\n",
       " 'село Путилово',\n",
       " 'село Рождествено',\n",
       " 'село Русско-Высоцкое',\n",
       " 'село Старая Ладога',\n",
       " 'село Шум']"
      ]
     },
     "execution_count": 77,
     "metadata": {},
     "output_type": "execute_result"
    }
   ],
   "source": [
    "data['locality_name'] = data['locality_name'].apply(lambda name: name.replace('ё', 'е'))\n",
    "sorted(data['locality_name'].unique())"
   ]
  },
  {
   "cell_type": "markdown",
   "metadata": {},
   "source": [
    "Уже лучше, но остались дубликаты вида:  \n",
    "1. 'поселок при железнодорожной станции Вещево' - 'поселок станции Вещево',\n",
    "2. 'коттеджный поселок Лесное' - 'поселок Лесное',\n",
    "3. 'поселок Рябово' - 'поселок городского типа Рябово',  \n",
    "Избавимся от них тем же методом, отсекая лишнее:"
   ]
  },
  {
   "cell_type": "code",
   "execution_count": 78,
   "metadata": {},
   "outputs": [
    {
     "data": {
      "text/plain": [
       "['Бокситогорск',\n",
       " 'Волосово',\n",
       " 'Волхов',\n",
       " 'Всеволожск',\n",
       " 'Выборг',\n",
       " 'Высоцк',\n",
       " 'Гатчина',\n",
       " 'Зеленогорск',\n",
       " 'Ивангород',\n",
       " 'Каменногорск',\n",
       " 'Кингисепп',\n",
       " 'Кириши',\n",
       " 'Кировск',\n",
       " 'Колпино',\n",
       " 'Коммунар',\n",
       " 'Красное Село',\n",
       " 'Кронштадт',\n",
       " 'Кудрово',\n",
       " 'Лодейное Поле',\n",
       " 'Ломоносов',\n",
       " 'Луга',\n",
       " 'Любань',\n",
       " 'Мурино',\n",
       " 'Никольское',\n",
       " 'Новая Ладога',\n",
       " 'Отрадное',\n",
       " 'Павловск',\n",
       " 'Петергоф',\n",
       " 'Пикалево',\n",
       " 'Подпорожье',\n",
       " 'Приморск',\n",
       " 'Приозерск',\n",
       " 'Пушкин',\n",
       " 'Санкт-Петербург',\n",
       " 'Светогорск',\n",
       " 'Сертолово',\n",
       " 'Сестрорецк',\n",
       " 'Сланцы',\n",
       " 'Сосновый Бор',\n",
       " 'Сясьстрой',\n",
       " 'Тихвин',\n",
       " 'Тосно',\n",
       " 'Шлиссельбург',\n",
       " 'городской поселок Большая Ижора',\n",
       " 'городской поселок Будогощь',\n",
       " 'городской поселок Виллози',\n",
       " 'городской поселок Лесогорский',\n",
       " 'городской поселок Мга',\n",
       " 'городской поселок Назия',\n",
       " 'городской поселок Новоселье',\n",
       " 'городской поселок Павлово',\n",
       " 'городской поселок Рощино',\n",
       " 'городской поселок Свирьстрой',\n",
       " 'городской поселок Советский',\n",
       " 'городской поселок Федоровское',\n",
       " 'городской поселок Янино-1',\n",
       " 'деревня Агалатово',\n",
       " 'деревня Аро',\n",
       " 'деревня Батово',\n",
       " 'деревня Бегуницы',\n",
       " 'деревня Белогорка',\n",
       " 'деревня Большая Вруда',\n",
       " 'деревня Большая Пустомержа',\n",
       " 'деревня Большие Колпаны',\n",
       " 'деревня Большое Рейзино',\n",
       " 'деревня Большой Сабск',\n",
       " 'деревня Бор',\n",
       " 'деревня Борисова Грива',\n",
       " 'деревня Ваганово',\n",
       " 'деревня Вартемяги',\n",
       " 'деревня Вахнова Кара',\n",
       " 'деревня Выскатка',\n",
       " 'деревня Гарболово',\n",
       " 'деревня Глинка',\n",
       " 'деревня Горбунки',\n",
       " 'деревня Гостилицы',\n",
       " 'деревня Заклинье',\n",
       " 'деревня Заневка',\n",
       " 'деревня Зимитицы',\n",
       " 'деревня Извара',\n",
       " 'деревня Иссад',\n",
       " 'деревня Калитино',\n",
       " 'деревня Кальтино',\n",
       " 'деревня Камышовка',\n",
       " 'деревня Каськово',\n",
       " 'деревня Келози',\n",
       " 'деревня Кипень',\n",
       " 'деревня Кисельня',\n",
       " 'деревня Колтуши',\n",
       " 'деревня Коркино',\n",
       " 'деревня Котлы',\n",
       " 'деревня Кривко',\n",
       " 'деревня Кудрово',\n",
       " 'деревня Кузьмолово',\n",
       " 'деревня Курковицы',\n",
       " 'деревня Куровицы',\n",
       " 'деревня Куттузи',\n",
       " 'деревня Лаврики',\n",
       " 'деревня Лаголово',\n",
       " 'деревня Лампово',\n",
       " 'деревня Лесколово',\n",
       " 'деревня Лопухинка',\n",
       " 'деревня Лупполово',\n",
       " 'деревня Малая Романовка',\n",
       " 'деревня Малое Верево',\n",
       " 'деревня Малое Карлино',\n",
       " 'деревня Малые Колпаны',\n",
       " 'деревня Мануйлово',\n",
       " 'деревня Меньково',\n",
       " 'деревня Мины',\n",
       " 'деревня Мистолово',\n",
       " 'деревня Ненимяки',\n",
       " 'деревня Нижние Осельки',\n",
       " 'деревня Нижняя',\n",
       " 'деревня Низино',\n",
       " 'деревня Новое Девяткино',\n",
       " 'деревня Новолисино',\n",
       " 'деревня Нурма',\n",
       " 'деревня Оржицы',\n",
       " 'деревня Парицы',\n",
       " 'деревня Пельгора',\n",
       " 'деревня Пеники',\n",
       " 'деревня Пижма',\n",
       " 'деревня Пикколово',\n",
       " 'деревня Пудомяги',\n",
       " 'деревня Пустынка',\n",
       " 'деревня Пчева',\n",
       " 'деревня Рабитицы',\n",
       " 'деревня Разбегаево',\n",
       " 'деревня Раздолье',\n",
       " 'деревня Разметелево',\n",
       " 'деревня Рапполово',\n",
       " 'деревня Реброво',\n",
       " 'деревня Русско',\n",
       " 'деревня Сижно',\n",
       " 'деревня Снегиревка',\n",
       " 'деревня Старая',\n",
       " 'деревня Старая Пустошь',\n",
       " 'деревня Старое Хинколово',\n",
       " 'деревня Старополье',\n",
       " 'деревня Старосиверская',\n",
       " 'деревня Старые Бегуницы',\n",
       " 'деревня Суоранда',\n",
       " 'деревня Сяськелево',\n",
       " 'деревня Тарасово',\n",
       " 'деревня Терпилицы',\n",
       " 'деревня Тихковицы',\n",
       " 'деревня Тойворово',\n",
       " 'деревня Торосово',\n",
       " 'деревня Торошковичи',\n",
       " 'деревня Трубников Бор',\n",
       " 'деревня Фалилеево',\n",
       " 'деревня Федоровское',\n",
       " 'деревня Хапо-Ое',\n",
       " 'деревня Хязельки',\n",
       " 'деревня Чудской Бор',\n",
       " 'деревня Шпаньково',\n",
       " 'деревня Щеглово',\n",
       " 'деревня Юкки',\n",
       " 'деревня Ялгино',\n",
       " 'деревня Яльгелево',\n",
       " 'деревня Ям-Тесово',\n",
       " 'поселок Александровская',\n",
       " 'поселок Алексеевка',\n",
       " 'поселок Аннино',\n",
       " 'поселок Барышево',\n",
       " 'поселок Белоостров',\n",
       " 'поселок Большая Ижора',\n",
       " 'поселок Бугры',\n",
       " 'поселок Важины',\n",
       " 'поселок Вознесенье',\n",
       " 'поселок Возрождение',\n",
       " 'поселок Войсковицы',\n",
       " 'поселок Войскорово',\n",
       " 'поселок Володарское',\n",
       " 'поселок Вырица',\n",
       " 'поселок Высокоключевой',\n",
       " 'поселок Гаврилово',\n",
       " 'поселок Гарболово',\n",
       " 'поселок Гладкое',\n",
       " 'поселок Глажево',\n",
       " 'поселок Глебычево',\n",
       " 'поселок Гончарово',\n",
       " 'поселок Громово',\n",
       " 'поселок Дзержинского',\n",
       " 'поселок Дружная Горка',\n",
       " 'поселок Дружноселье',\n",
       " 'поселок Дубровка',\n",
       " 'поселок Елизаветино',\n",
       " 'поселок Ефимовский',\n",
       " 'поселок Жилгородок',\n",
       " 'поселок Жилпоселок',\n",
       " 'поселок Житково',\n",
       " 'поселок Заводской',\n",
       " 'поселок Запорожское',\n",
       " 'поселок Зимитицы',\n",
       " 'поселок Ильичево',\n",
       " 'поселок Калитино',\n",
       " 'поселок Каложицы',\n",
       " 'поселок Кивеннапа Север',\n",
       " 'поселок Кикерино',\n",
       " 'поселок Кингисеппский',\n",
       " 'поселок Кирпичное',\n",
       " 'поселок Кобралово',\n",
       " 'поселок Кобринское',\n",
       " 'поселок Коммунары',\n",
       " 'поселок Кондратьево',\n",
       " 'поселок Коробицыно',\n",
       " 'поселок Котельский',\n",
       " 'поселок Красная Долина',\n",
       " 'поселок Красносельское',\n",
       " 'поселок Красный Бор',\n",
       " 'поселок Кузнечное',\n",
       " 'поселок Кузьмоловский',\n",
       " 'поселок Лебяжье',\n",
       " 'поселок Левашово',\n",
       " 'поселок Ленинское',\n",
       " 'поселок Лесное',\n",
       " 'поселок Лесогорский',\n",
       " 'поселок Лисий Нос',\n",
       " 'поселок Лукаши',\n",
       " 'поселок Любань',\n",
       " 'поселок Мга',\n",
       " 'поселок Мельниково',\n",
       " 'поселок Металлострой',\n",
       " 'поселок Мичуринское',\n",
       " 'поселок Молодежное',\n",
       " 'поселок Молодцово',\n",
       " 'поселок Мурино',\n",
       " 'поселок Мыза-Ивановка',\n",
       " 'поселок Назия',\n",
       " 'поселок Никольский',\n",
       " 'поселок Новогорелово',\n",
       " 'поселок Новый Свет',\n",
       " 'поселок Новый Учхоз',\n",
       " 'поселок Оредеж',\n",
       " 'поселок Павлово',\n",
       " 'поселок Пансионат Зеленый Бор',\n",
       " 'поселок Парголово',\n",
       " 'поселок Первомайское',\n",
       " 'поселок Перово',\n",
       " 'поселок Песочный',\n",
       " 'поселок Петро-Славянка',\n",
       " 'поселок Петровское',\n",
       " 'поселок Платформа 69-й километр',\n",
       " 'поселок Плодовое',\n",
       " 'поселок Плоское',\n",
       " 'поселок Победа',\n",
       " 'поселок Поляны',\n",
       " 'поселок Понтонный',\n",
       " 'поселок Почап',\n",
       " 'поселок Починок',\n",
       " 'поселок Пригородный',\n",
       " 'поселок Приладожский',\n",
       " 'поселок Пудость',\n",
       " 'поселок Пушное',\n",
       " 'поселок Пчевжа',\n",
       " 'поселок Рабитицы',\n",
       " 'поселок Рахья',\n",
       " 'поселок Репино',\n",
       " 'поселок Романовка',\n",
       " 'поселок Ромашки',\n",
       " 'поселок Ропша',\n",
       " 'поселок Рощино',\n",
       " 'поселок Рябово',\n",
       " 'поселок Саперное',\n",
       " 'поселок Саперный',\n",
       " 'поселок Севастьяново',\n",
       " 'поселок Селезнево',\n",
       " 'поселок Сельцо',\n",
       " 'поселок Семиозерье',\n",
       " 'поселок Семрино',\n",
       " 'поселок Серебрянский',\n",
       " 'поселок Сиверский',\n",
       " 'поселок Синявино',\n",
       " 'поселок Советский',\n",
       " 'поселок Совхозный',\n",
       " 'поселок Сосново',\n",
       " 'поселок Старая Малукса',\n",
       " 'поселок Стеклянный',\n",
       " 'поселок Стрельна',\n",
       " 'поселок Суйда',\n",
       " 'поселок Сумино',\n",
       " 'поселок Суходолье',\n",
       " 'поселок Счастье',\n",
       " 'поселок Тайцы',\n",
       " 'поселок Тельмана',\n",
       " 'поселок Терволово',\n",
       " 'поселок Тесово-4',\n",
       " 'поселок Токсово',\n",
       " 'поселок Торковичи',\n",
       " 'поселок Торфяное',\n",
       " 'поселок Углово',\n",
       " 'поселок Ульяновка',\n",
       " 'поселок Усть-Ижора',\n",
       " 'поселок Усть-Луга',\n",
       " 'поселок Ушаки',\n",
       " 'поселок Форносово',\n",
       " 'поселок Форт Красная Горка',\n",
       " 'поселок Цвелодубово',\n",
       " 'поселок Цвылево',\n",
       " 'поселок Шугозеро',\n",
       " 'поселок Шушары',\n",
       " 'поселок Щеглово',\n",
       " 'поселок имени Морозова',\n",
       " 'поселок имени Свердлова',\n",
       " 'поселок станции Вещево',\n",
       " 'поселок станции Громово',\n",
       " 'поселок станции Корнево',\n",
       " 'поселок станции Лужайка',\n",
       " 'поселок станции Приветнинское',\n",
       " 'поселок станции Свирь',\n",
       " 'садоводческое некоммерческое товарищество Лесная Поляна',\n",
       " 'садовое товарищество Новая Ропша',\n",
       " 'садовое товарищество Приладожский',\n",
       " 'садовое товарищество Рахья',\n",
       " 'садовое товарищество Садко',\n",
       " 'село Копорье',\n",
       " 'село Никольское',\n",
       " 'село Павлово',\n",
       " 'село Паша',\n",
       " 'село Путилово',\n",
       " 'село Рождествено',\n",
       " 'село Русско-Высоцкое',\n",
       " 'село Старая Ладога',\n",
       " 'село Шум']"
      ]
     },
     "execution_count": 78,
     "metadata": {},
     "output_type": "execute_result"
    }
   ],
   "source": [
    "data['locality_name'] = data['locality_name'].apply(lambda name: name.replace(' при железнодорожной', ''))\n",
    "data['locality_name'] = data['locality_name'].apply(lambda name: name.replace('коттеджный ', ''))\n",
    "data['locality_name'] = data['locality_name'].apply(lambda name: name.replace(' городского типа', ''))\n",
    "sorted(data['locality_name'].unique())"
   ]
  },
  {
   "cell_type": "markdown",
   "metadata": {},
   "source": [
    "Больше дубликатов не выявлено."
   ]
  },
  {
   "cell_type": "markdown",
   "metadata": {},
   "source": [
    "Займемся редкими и выбивающимися значениями (аномалиями) во всех столбцах. Ещё раз взглянем на гистограммы и пойдём по порядку:"
   ]
  },
  {
   "cell_type": "code",
   "execution_count": 79,
   "metadata": {},
   "outputs": [
    {
     "data": {
      "text/plain": [
       "array([[<AxesSubplot:title={'center':'total_images'}>,\n",
       "        <AxesSubplot:title={'center':'last_price'}>,\n",
       "        <AxesSubplot:title={'center':'total_area'}>,\n",
       "        <AxesSubplot:title={'center':'first_day_exposition'}>],\n",
       "       [<AxesSubplot:title={'center':'rooms'}>,\n",
       "        <AxesSubplot:title={'center':'ceiling_height'}>,\n",
       "        <AxesSubplot:title={'center':'floors_total'}>,\n",
       "        <AxesSubplot:title={'center':'living_area'}>],\n",
       "       [<AxesSubplot:title={'center':'floor'}>,\n",
       "        <AxesSubplot:title={'center':'kitchen_area'}>,\n",
       "        <AxesSubplot:title={'center':'balcony'}>,\n",
       "        <AxesSubplot:title={'center':'airports_nearest'}>],\n",
       "       [<AxesSubplot:title={'center':'cityCenters_nearest'}>,\n",
       "        <AxesSubplot:title={'center':'parks_around3000'}>,\n",
       "        <AxesSubplot:title={'center':'parks_nearest'}>,\n",
       "        <AxesSubplot:title={'center':'ponds_around3000'}>],\n",
       "       [<AxesSubplot:title={'center':'ponds_nearest'}>,\n",
       "        <AxesSubplot:title={'center':'days_exposition'}>, <AxesSubplot:>,\n",
       "        <AxesSubplot:>]], dtype=object)"
      ]
     },
     "execution_count": 79,
     "metadata": {},
     "output_type": "execute_result"
    },
    {
     "data": {
      "image/png": "[encoded data removed]",
      "text/plain": [
       "<Figure size 1080x1440 with 20 Axes>"
      ]
     },
     "metadata": {
      "needs_background": "light"
     },
     "output_type": "display_data"
    }
   ],
   "source": [
    "data.hist(figsize=(15, 20))"
   ]
  },
  {
   "cell_type": "code",
   "execution_count": 80,
   "metadata": {},
   "outputs": [
    {
     "data": {
      "text/plain": [
       "[0,\n",
       " 1,\n",
       " 2,\n",
       " 3,\n",
       " 4,\n",
       " 5,\n",
       " 6,\n",
       " 7,\n",
       " 8,\n",
       " 9,\n",
       " 10,\n",
       " 11,\n",
       " 12,\n",
       " 13,\n",
       " 14,\n",
       " 15,\n",
       " 16,\n",
       " 17,\n",
       " 18,\n",
       " 19,\n",
       " 20,\n",
       " 21,\n",
       " 22,\n",
       " 23,\n",
       " 24,\n",
       " 25,\n",
       " 26,\n",
       " 27,\n",
       " 28,\n",
       " 29,\n",
       " 30,\n",
       " 31,\n",
       " 32,\n",
       " 35,\n",
       " 37,\n",
       " 39,\n",
       " 42,\n",
       " 50]"
      ]
     },
     "execution_count": 80,
     "metadata": {},
     "output_type": "execute_result"
    }
   ],
   "source": [
    "sorted(data['total_images'].unique())"
   ]
  },
  {
   "cell_type": "markdown",
   "metadata": {},
   "source": [
    "50 фото - необычно, но нельзя сказать, что аномально. Пусть будут."
   ]
  },
  {
   "cell_type": "code",
   "execution_count": 81,
   "metadata": {},
   "outputs": [
    {
     "name": "stdout",
     "output_type": "stream",
     "text": [
      "[12190.0, 430000.0, 440000.0, 450000.0, 470000.0, 480000.0, 490000.0, 500000.0, 520000.0, 530000.0, 550000.0, 560000.0, 565000.0, 580000.0, 585000.0, 590000.0, 600000.0, 620000.0, 630000.0, 650000.0, 660000.0, 680000.0, 690000.0, 700000.0, 710000.0, 720000.0, 730000.0, 740000.0, 750000.0, 760000.0, 770000.0, 777000.0, 780000.0, 790000.0, 799000.0, 800000.0, 820000.0, 850000.0, 860000.0, 869000.0, 870000.0, 880000.0, 890000.0, 900000.0, 910000.0, 920000.0, 945750.0, 950000.0, 965780.0, 970000.0, 980000.0, 990000.0, 995000.0, 999000.0, 999999.0, 1000000.0, 1010000.0, 1020000.0, 1030000.0, 1050000.0, 1060000.0, 1070000.0, 1080000.0, 1090000.0, 1099000.0, 1100000.0, 1110000.0, 1130000.0, 1150000.0, 1170000.0, 1180000.0, 1190000.0, 1199000.0, 1200000.0, 1220000.0, 1230000.0, 1240000.0, 1249000.0, 1250000.0, 1260000.0, 1270000.0, 1280000.0, 1290000.0, 1300000.0, 1310000.0, 1315000.0, 1320000.0, 1330000.0, 1350000.0, 1353000.0, 1360000.0, 1370000.0, 1380000.0, 1390000.0, 1399000.0, 1400000.0, 1420000.0, 1430000.0, 1440000.0, 1449900.0, 1450000.0, 1470000.0, 1480000.0, 1490000.0, 1495000.0, 1499000.0, 1500000.0, 1510000.0, 1540000.0, 1550000.0, 1555000.0, 1560000.0, 1570000.0, 1580000.0, 1590000.0, 1599000.0, 1600000.0, 1625000.0, 1630000.0, 1634000.0, 1640000.0, 1650000.0, 1670000.0, 1671240.0, 1678000.0, 1680000.0, 1686000.0, 1690000.0, 1690715.0, 1700000.0, 1704062.0, 1718857.0, 1720000.0, 1730000.0, 1737000.0, 1740000.0, 1748700.0, 1750000.0, 1760000.0, 1770000.0, 1780000.0, 1790000.0, 1799000.0, 1800000.0, 1810000.0, 1811250.0, 1820000.0, 1830000.0, 1840000.0, 1846230.0, 1846648.0, 1850000.0, 1860000.0, 1870000.0, 1880000.0, 1888000.0, 1890000.0, 1897000.0, 1899000.0, 1899400.0, 1900000.0, 1920000.0, 1930000.0, 1935000.0, 1938000.0, 1940000.0, 1945000.0, 1950000.0, 1960000.0, 1961100.0, 1968000.0, 1970000.0, 1980000.0, 1987584.0, 1990000.0, 1995000.0, 1999000.0, 1999999.0, 2000000.0, 2006000.0, 2030000.0, 2034000.0, 2050000.0, 2060000.0, 2070000.0, 2080000.0, 2090000.0, 2096864.0, 2098800.0, 2099000.0, 2100000.0, 2106799.0, 2112000.0, 2120000.0, 2130000.0, 2140000.0, 2148188.0, 2149000.0, 2150000.0, 2156000.0, 2160000.0, 2170000.0, 2175000.0, 2176000.0, 2179000.0, 2180000.0, 2182000.0, 2190000.0, 2194000.0, 2199000.0, 2200000.0, 2204000.0, 2205000.0, 2208000.0, 2210000.0, 2211000.0, 2220000.0, 2222222.0, 2228000.0, 2230000.0, 2235000.0, 2237962.0, 2241000.0, 2244375.0, 2250000.0, 2260000.0, 2268000.0, 2270000.0, 2280000.0, 2288800.0, 2290000.0, 2299000.0, 2300000.0, 2310000.0, 2320000.0, 2325000.0, 2330000.0, 2334420.0, 2340000.0, 2346000.0, 2348500.0, 2349000.0, 2350000.0, 2356000.0, 2360000.0, 2370000.0, 2380000.0, 2385000.0, 2390000.0, 2391000.0, 2399000.0, 2400000.0, 2401200.0, 2405000.0, 2406450.0, 2414306.0, 2414400.0, 2420000.0, 2426000.0, 2430000.0, 2438033.0, 2440000.0, 2442000.0, 2445000.0, 2449000.0, 2450000.0, 2454000.0, 2460000.0, 2470000.0, 2475000.0, 2479750.0, 2480000.0, 2490000.0, 2494000.0, 2495000.0, 2498540.0, 2499999.0, 2500000.0, 2515000.0, 2520000.0, 2527570.0, 2530000.0, 2533531.0, 2537830.0, 2539460.0, 2539492.0, 2540000.0, 2545454.0, 2549000.0, 2550000.0, 2555000.0, 2558000.0, 2560000.0, 2561000.0, 2565000.0, 2566270.0, 2568000.0, 2570000.0, 2574000.0, 2575000.0, 2580000.0, 2583900.0, 2590000.0, 2595000.0, 2596200.0, 2596800.0, 2599000.0, 2600000.0, 2609170.0, 2612347.0, 2620000.0, 2625000.0, 2630000.0, 2635000.0, 2636000.0, 2640000.0, 2645000.0, 2650000.0, 2653525.0, 2654000.0, 2655000.0, 2660000.0, 2664000.0, 2668000.0, 2670000.0, 2680000.0, 2685000.0, 2690000.0, 2695000.0, 2698000.0, 2699000.0, 2700000.0, 2710000.0, 2720000.0, 2730000.0, 2736214.0, 2740000.0, 2746000.0, 2750000.0, 2756000.0, 2760000.0, 2765000.0, 2766000.0, 2770000.0, 2780000.0, 2790000.0, 2795000.0, 2799000.0, 2799900.0, 2800000.0, 2804250.0, 2805000.0, 2810000.0, 2815000.0, 2820000.0, 2830000.0, 2840000.0, 2846000.0, 2848000.0, 2849000.0, 2849999.0, 2850000.0, 2851000.0, 2855000.0, 2860000.0, 2860200.0, 2865000.0, 2870000.0, 2871000.0, 2874906.0, 2875000.0, 2876100.0, 2880000.0, 2885000.0, 2888000.0, 2890000.0, 2895000.0, 2897000.0, 2899000.0, 2899900.0, 2900000.0, 2903659.0, 2920000.0, 2925000.0, 2926000.0, 2930000.0, 2940000.0, 2945000.0, 2945600.0, 2948000.0, 2950000.0, 2952500.0, 2953000.0, 2960000.0, 2960431.0, 2967000.0, 2970000.0, 2975000.0, 2980000.0, 2982847.0, 2985000.0, 2990000.0, 2995000.0, 2997342.0, 2998000.0, 2999000.0, 2999999.0, 3000000.0, 3000060.0, 3001767.0, 3015000.0, 3019260.0, 3020000.0, 3024353.0, 3025000.0, 3030000.0, 3035000.0, 3040000.0, 3041000.0, 3045000.0, 3050000.0, 3055000.0, 3060000.0, 3062796.0, 3063600.0, 3070000.0, 3075000.0, 3080000.0, 3085000.0, 3085024.0, 3088000.0, 3089722.0, 3090000.0, 3094680.0, 3095000.0, 3099000.0, 3100000.0, 3100001.0, 3103000.0, 3109347.0, 3110000.0, 3114406.0, 3120000.0, 3122000.0, 3125000.0, 3128418.0, 3130000.0, 3134850.0, 3140000.0, 3145000.0, 3148000.0, 3149000.0, 3150000.0, 3150021.0, 3160000.0, 3170000.0, 3176737.0, 3180000.0, 3180500.0, 3182400.0, 3185000.0, 3190000.0, 3195000.0, 3198000.0, 3199000.0, 3200000.0, 3204000.0, 3210000.0, 3210440.0, 3215000.0, 3216089.0, 3218008.0, 3220000.0, 3225000.0, 3227000.0, 3230000.0, 3230765.0, 3233007.0, 3237314.0, 3238000.0, 3240000.0, 3240352.0, 3241540.0, 3244000.0, 3245000.0, 3247000.0, 3249000.0, 3250000.0, 3253000.0, 3255000.0, 3258925.0, 3260000.0, 3270000.0, 3275000.0, 3277000.0, 3280000.0, 3286000.0, 3288000.0, 3288600.0, 3290000.0, 3295000.0, 3299000.0, 3300000.0, 3302520.0, 3305000.0, 3307095.0, 3310000.0, 3315000.0, 3316541.0, 3320000.0, 3324108.0, 3328000.0, 3330000.0, 3331500.0, 3335000.0, 3340000.0, 3342000.0, 3343000.0, 3345000.0, 3349000.0, 3350000.0, 3355000.0, 3358000.0, 3360000.0, 3364930.0, 3369000.0, 3370000.0, 3375000.0, 3380000.0, 3381777.0, 3385000.0, 3390000.0, 3392333.0, 3394152.0, 3395000.0, 3398000.0, 3399000.0, 3400000.0, 3405000.0, 3406000.0, 3408000.0, 3413000.0, 3415000.0, 3420000.0, 3425000.0, 3429000.0, 3430000.0, 3433500.0, 3434000.0, 3435000.0, 3439200.0, 3440000.0, 3444000.0, 3445000.0, 3449000.0, 3450000.0, 3455000.0, 3456000.0, 3457000.0, 3458944.0, 3460000.0, 3465000.0, 3469000.0, 3469200.0, 3470000.0, 3470502.0, 3475000.0, 3480000.0, 3485000.0, 3490000.0, 3490304.0, 3495000.0, 3498000.0, 3499000.0, 3499999.0, 3500000.0, 3500100.0, 3503296.0, 3511000.0, 3515000.0, 3520000.0, 3521100.0, 3524454.0, 3525000.0, 3530000.0, 3535000.0, 3540000.0, 3546000.0, 3549000.0, 3550000.0, 3555000.0, 3556740.0, 3560000.0, 3564000.0, 3570000.0, 3575000.0, 3577388.0, 3579280.0, 3580000.0, 3584000.0, 3585000.0, 3589000.0, 3590000.0, 3595000.0, 3599000.0, 3599999.0, 3600000.0, 3604000.0, 3610000.0, 3620000.0, 3621000.0, 3624000.0, 3629000.0, 3630000.0, 3638724.0, 3640000.0, 3643000.0, 3644640.0, 3645000.0, 3649000.0, 3650000.0, 3650217.0, 3660000.0, 3666000.0, 3670000.0, 3675000.0, 3675420.0, 3676365.0, 3680000.0, 3681288.0, 3685000.0, 3687397.0, 3687480.0, 3687503.0, 3689762.0, 3690000.0, 3692000.0, 3695000.0, 3699000.0, 3700000.0, 3701000.0, 3702400.0, 3707000.0, 3710000.0, 3715000.0, 3715100.0, 3720000.0, 3724812.0, 3725000.0, 3730000.0, 3735000.0, 3735325.0, 3737000.0, 3740000.0, 3745000.0, 3749000.0, 3750000.0, 3753180.0, 3758556.0, 3759000.0, 3760000.0, 3770000.0, 3777000.0, 3780000.0, 3785000.0, 3785080.0, 3786000.0, 3790000.0, 3794000.0, 3795000.0, 3796000.0, 3797250.0, 3799000.0, 3800000.0, 3805000.0, 3806504.0, 3810000.0, 3814524.0, 3815000.0, 3820000.0, 3825000.0, 3830000.0, 3833000.0, 3835000.0, 3837000.0, 3840000.0, 3845000.0, 3849000.0, 3850000.0, 3859000.0, 3860000.0, 3865000.0, 3870000.0, 3875000.0, 3880000.0, 3885000.0, 3886000.0, 3890000.0, 3895000.0, 3899000.0, 3899999.0, 3900000.0, 3905000.0, 3910000.0, 3920000.0, 3925000.0, 3930000.0, 3935000.0, 3936700.0, 3937424.0, 3940000.0, 3949000.0, 3950000.0, 3950134.0, 3959600.0, 3960000.0, 3960396.0, 3961140.0, 3965000.0, 3970000.0, 3973464.0, 3975000.0, 3978000.0, 3980000.0, 3986000.0, 3987000.0, 3988000.0, 3990000.0, 3990900.0, 3992300.0, 3994000.0, 3995000.0, 3997000.0, 3999000.0, 3999999.0, 4000000.0, 4006000.0, 4010000.0, 4020000.0, 4025000.0, 4027000.0, 4030000.0, 4032000.0, 4032740.0, 4040000.0, 4045000.0, 4049000.0, 4050000.0, 4060000.0, 4070000.0, 4072000.0, 4075000.0, 4078000.0, 4080000.0, 4089000.0, 4090000.0, 4094000.0, 4098000.0, 4099000.0, 4100000.0, 4101534.0, 4103288.0, 4108100.0, 4110000.0, 4111200.0, 4115000.0, 4120000.0, 4125000.0, 4128115.0, 4129000.0, 4130000.0, 4132020.0, 4134000.0, 4135000.0, 4135800.0, 4136843.0, 4139000.0, 4140000.0, 4142016.0, 4145000.0, 4147200.0, 4148000.0, 4149000.0, 4150000.0, 4157000.0, 4157100.0, 4160000.0, 4167000.0, 4169000.0, 4170000.0, 4175000.0, 4178000.0, 4180000.0, 4185000.0, 4190000.0, 4195000.0, 4198000.0, 4198017.0, 4199000.0, 4200000.0, 4201475.0, 4213395.0, 4217000.0, 4217233.0, 4220000.0, 4225000.0, 4229988.0, 4230000.0, 4238000.0, 4240000.0, 4243000.0, 4245000.0, 4246000.0, 4250000.0, 4252249.0, 4253000.0, 4260000.0, 4262941.0, 4270000.0, 4275000.0, 4275062.0, 4277000.0, 4280000.0, 4282546.0, 4283300.0, 4285000.0, 4288000.0, 4290000.0, 4295000.0, 4296240.0, 4299000.0, 4300000.0, 4307000.0, 4310000.0, 4318000.0, 4319000.0, 4320000.0, 4325000.0, 4330000.0, 4340000.0, 4342000.0, 4345000.0, 4349000.0, 4350000.0, 4360000.0, 4365000.0, 4368750.0, 4369268.0, 4370000.0, 4371192.0, 4375000.0, 4380000.0, 4385000.0, 4386000.0, 4390000.0, 4395000.0, 4398307.0, 4399000.0, 4400000.0, 4403541.0, 4410000.0, 4412094.0, 4420000.0, 4421650.0, 4425000.0, 4430000.0, 4433484.0, 4435000.0, 4440000.0, 4448520.0, 4449000.0, 4450000.0, 4460000.0, 4465000.0, 4470000.0, 4472000.0, 4475000.0, 4478000.0, 4479300.0, 4480000.0, 4482900.0, 4488000.0, 4490000.0, 4495000.0, 4498000.0, 4499000.0, 4499999.0, 4500000.0, 4510000.0, 4512000.0, 4520000.0, 4522000.0, 4525000.0, 4530000.0, 4538000.0, 4540000.0, 4544000.0, 4550000.0, 4555000.0, 4558637.0, 4560000.0, 4570000.0, 4574160.0, 4575000.0, 4580000.0, 4581000.0, 4585000.0, 4589000.0, 4590000.0, 4593600.0, 4594000.0, 4595000.0, 4599000.0, 4600000.0, 4600006.0, 4610000.0, 4620000.0, 4625000.0, 4626540.0, 4630000.0, 4632000.0, 4635000.0, 4636000.0, 4640000.0, 4644000.0, 4646000.0, 4647000.0, 4650000.0, 4650259.0, 4658000.0, 4658410.0, 4660000.0, 4660400.0, 4665000.0, 4670000.0, 4675000.0, 4680000.0, 4685000.0, 4690000.0, 4692000.0, 4695000.0, 4699000.0, 4700000.0, 4700284.0, 4709190.0, 4710000.0, 4712500.0, 4720000.0, 4725000.0, 4730000.0, 4740000.0, 4745000.0, 4746000.0, 4749000.0, 4750000.0, 4754940.0, 4755000.0, 4755962.0, 4760935.0, 4768714.0, 4769000.0, 4770000.0, 4770338.0, 4775000.0, 4776000.0, 4777000.0, 4779000.0, 4779014.0, 4780000.0, 4785000.0, 4789500.0, 4790000.0, 4792000.0, 4794000.0, 4796000.0, 4798000.0, 4799000.0, 4799500.0, 4800000.0, 4800227.0, 4802250.0, 4820000.0, 4823000.0, 4825000.0, 4830000.0, 4833675.0, 4835000.0, 4838050.0, 4840000.0, 4845000.0, 4846000.0, 4847000.0, 4850000.0, 4852000.0, 4860000.0, 4861000.0, 4865000.0, 4868000.0, 4870000.0, 4873503.0, 4875000.0, 4880000.0, 4883913.0, 4885000.0, 4887000.0, 4890000.0, 4895796.0, 4897000.0, 4898000.0, 4899000.0, 4900000.0, 4904000.0, 4907999.0, 4919880.0, 4920000.0, 4924000.0, 4925000.0, 4928000.0, 4930000.0, 4931398.0, 4935000.0, 4939000.0, 4940000.0, 4940790.0, 4949000.0, 4950000.0, 4960000.0, 4970000.0, 4972336.0, 4974820.0, 4980000.0, 4985000.0, 4990000.0, 4995000.0, 4996750.0, 4998000.0, 4999000.0, 4999999.0, 5000000.0, 5000456.0, 5009000.0, 5015195.0, 5020000.0, 5026719.0, 5026792.0, 5030000.0, 5035000.0, 5040000.0, 5045000.0, 5047000.0, 5048000.0, 5049000.0, 5049998.0, 5050000.0, 5051000.0, 5055000.0, 5060000.0, 5067000.0, 5070000.0, 5080000.0, 5090000.0, 5095000.0, 5097439.0, 5098000.0, 5099000.0, 5100000.0, 5110000.0, 5120000.0, 5125000.0, 5127100.0, 5129783.0, 5130000.0, 5140000.0, 5142565.0, 5144000.0, 5148000.0, 5150000.0, 5155000.0, 5160000.0, 5170000.0, 5180000.0, 5182000.0, 5185000.0, 5190000.0, 5194638.0, 5195000.0, 5196000.0, 5199000.0, 5199999.0, 5200000.0, 5200140.0, 5201200.0, 5205000.0, 5210000.0, 5215000.0, 5216000.0, 5220000.0, 5228000.0, 5230000.0, 5235000.0, 5235450.0, 5239000.0, 5240000.0, 5248000.0, 5249000.0, 5249478.0, 5250000.0, 5251000.0, 5254628.0, 5255000.0, 5260000.0, 5265000.0, 5270000.0, 5270670.0, 5280000.0, 5289476.0, 5290000.0, 5295000.0, 5299000.0, 5300000.0, 5301000.0, 5302405.0, 5307000.0, 5310000.0, 5310196.0, 5310655.0, 5318994.0, 5320000.0, 5324000.0, 5325000.0, 5329100.0, 5330000.0, 5336000.0, 5340000.0, 5342000.0, 5350000.0, 5353300.0, 5355000.0, 5360000.0, 5370000.0, 5374015.0, 5380000.0, 5380992.0, 5386325.0, 5390000.0, 5395000.0, 5395770.0, 5399000.0, 5400000.0, 5400043.0, 5410000.0, 5411124.0, 5420000.0, 5424570.0, 5425000.0, 5426412.0, 5427000.0, 5430000.0, 5437000.0, 5438000.0, 5440000.0, 5442000.0, 5446075.0, 5449000.0, 5450000.0, 5460000.0, 5461890.0, 5467707.0, 5467950.0, 5470000.0, 5480000.0, 5482990.0, 5486000.0, 5488787.0, 5490000.0, 5491060.0, 5495000.0, 5496074.0, 5499000.0, 5500000.0, 5508000.0, 5510000.0, 5515000.0, 5520000.0, 5525000.0, 5530000.0, 5535000.0, 5537072.0, 5540000.0, 5550000.0, 5552240.0, 5556275.0, 5558560.0, 5560000.0, 5570000.0, 5571360.0, 5575000.0, 5578000.0, 5578947.0, 5580000.0, 5580279.0, 5580791.0, 5589000.0, 5590000.0, 5595000.0, 5595400.0, 5597000.0, 5599000.0, 5599725.0, 5600000.0, 5602774.0, 5604000.0, 5610000.0, 5613390.0, 5614800.0, 5616379.0, 5618733.0, 5619468.0, 5620020.0, 5620111.0, 5625000.0, 5630000.0, 5633000.0, 5635000.0, 5636656.0, 5637500.0, 5645078.0, 5649000.0, 5650000.0, 5654000.0, 5670000.0, 5672000.0, 5675000.0, 5677050.0, 5679678.0, 5680000.0, 5684221.0, 5690000.0, 5691410.0, 5694000.0, 5695000.0, 5696000.0, 5699000.0, 5700000.0, 5705000.0, 5720000.0, 5723761.0, 5725000.0, 5726475.0, 5730000.0, 5740000.0, 5748000.0, 5749000.0, 5750000.0, 5752000.0, 5760000.0, 5766000.0, 5770757.0, 5772000.0, 5777000.0, 5779000.0, 5780000.0, 5786000.0, 5790000.0, 5794000.0, 5799000.0, 5800000.0, 5804404.0, 5809000.0, 5810000.0, 5812413.0, 5812504.0, 5815000.0, 5817600.0, 5820000.0, 5825000.0, 5827690.0, 5830000.0, 5830007.0, 5830160.0, 5830583.0, 5832558.0, 5835000.0, 5840000.0, 5844438.0, 5849000.0, 5850000.0, 5863140.0, 5865000.0, 5867500.0, 5870000.0, 5874000.0, 5875000.0, 5880000.0, 5881000.0, 5881384.0, 5882539.0, 5885900.0, 5890000.0, 5894000.0, 5898000.0, 5899900.0, 5900000.0, 5901000.0, 5910000.0, 5911757.0, 5913000.0, 5915000.0, 5920000.0, 5923340.0, 5925000.0, 5925657.0, 5930000.0, 5930908.0, 5935000.0, 5940000.0, 5941091.0, 5949000.0, 5950000.0, 5951934.0, 5953044.0, 5954000.0, 5955103.0, 5960000.0, 5963000.0, 5966000.0, 5967734.0, 5968644.0, 5970000.0, 5971494.0, 5980000.0, 5984000.0, 5985000.0, 5990000.0, 5993000.0, 5995000.0, 5999000.0, 5999999.0, 6000000.0, 6000001.0, 6012000.0, 6021683.0, 6025000.0, 6029433.0, 6030000.0, 6036000.0, 6040000.0, 6042477.0, 6048770.0, 6049000.0, 6050000.0, 6051191.0, 6051250.0, 6060000.0, 6070000.0, 6075000.0, 6080000.0, 6082790.0, 6084227.0, 6085000.0, 6088000.0, 6090000.0, 6090700.0, 6099000.0, 6100000.0, 6100330.0, 6106066.0, 6110000.0, 6120000.0, 6140000.0, 6140693.0, 6142000.0, 6148000.0, 6150000.0, 6151120.0, 6160000.0, 6165000.0, 6170000.0, 6174438.0, 6177600.0, 6177643.0, 6180000.0, 6188957.0, 6190000.0, 6195000.0, 6199000.0, 6199424.0, 6200000.0, 6201000.0, 6204472.0, 6208824.0, 6209835.0, 6210000.0, 6215000.0, 6216981.0, 6220000.0, 6222000.0, 6225000.0, 6225832.0, 6230000.0, 6233148.0, 6234000.0, 6240000.0, 6248700.0, 6249600.0, 6250000.0, 6255000.0, 6260000.0, 6264000.0, 6265000.0, 6270000.0, 6272743.0, 6275000.0, 6276000.0, 6276110.0, 6280000.0, 6283000.0, 6285000.0, 6285480.0, 6287251.0, 6290000.0, 6295000.0, 6297880.0, 6299000.0, 6300000.0, 6300050.0, 6315000.0, 6317640.0, 6320000.0, 6324000.0, 6325000.0, 6329970.0, 6338000.0, 6350000.0, 6360136.0, 6361772.0, 6365000.0, 6366658.0, 6375000.0, 6379000.0, 6380000.0, 6385000.0, 6390000.0, 6394800.0, 6395000.0, 6399000.0, 6400000.0, 6400333.0, 6405000.0, 6413182.0, 6416000.0, 6417500.0, 6420000.0, 6425000.0, 6430000.0, 6435720.0, 6440000.0, 6447744.0, 6450000.0, 6460000.0, 6464000.0, 6470000.0, 6480000.0, 6485000.0, 6490000.0, 6494357.0, 6495000.0, 6497000.0, 6498000.0, 6499000.0, 6499999.0, 6500000.0, 6507813.0, 6519750.0, 6520000.0, 6525000.0, 6529500.0, 6540000.0, 6549999.0, 6550000.0, 6552700.0, 6555000.0, 6570000.0, 6575000.0, 6580000.0, 6590000.0, 6590220.0, 6595000.0, 6595420.0, 6596000.0, 6598000.0, 6599000.0, 6600000.0, 6607000.0, 6610000.0, 6615000.0, 6620000.0, 6625000.0, 6628500.0, 6630000.0, 6640000.0, 6649000.0, 6650000.0, 6660000.0, 6670000.0, 6680000.0, 6681000.0, 6685000.0, 6690000.0, 6695000.0, 6698000.0, 6699000.0, 6700000.0, 6712399.0, 6720000.0, 6725000.0, 6735600.0, 6740000.0, 6750000.0, 6755060.0, 6757702.0, 6760000.0, 6763392.0, 6770000.0, 6772762.0, 6775000.0, 6780000.0, 6790000.0, 6799000.0, 6800000.0, 6812033.0, 6816150.0, 6830000.0, 6834000.0, 6849000.0, 6850000.0, 6860000.0, 6864000.0, 6868120.0, 6870000.0, 6875055.0, 6880000.0, 6890000.0, 6899000.0, 6900000.0, 6903805.0, 6910000.0, 6920000.0, 6921909.0, 6925000.0, 6930000.0, 6935760.0, 6940637.0, 6945000.0, 6950000.0, 6958000.0, 6960000.0, 6968000.0, 6970000.0, 6980000.0, 6985230.0, 6990000.0, 6992000.0, 6995000.0, 6996000.0, 6997000.0, 6997502.0, 6999000.0, 7000000.0, 7002000.0, 7008000.0, 7018000.0, 7020000.0, 7030000.0, 7040000.0, 7049000.0, 7050000.0, 7066624.0, 7070434.0, 7076583.0, 7080000.0, 7090000.0, 7098000.0, 7099000.0, 7100000.0, 7102793.0, 7115634.0, 7120000.0, 7125000.0, 7130000.0, 7139645.0, 7140000.0, 7143060.0, 7145000.0, 7150000.0, 7160000.0, 7169260.0, 7170000.0, 7180000.0, 7190000.0, 7200000.0, 7201000.0, 7203654.0, 7210000.0, 7225000.0, 7228254.0, 7232310.0, 7240000.0, 7249000.0, 7250000.0, 7253540.0, 7257317.0, 7260000.0, 7263760.0, 7265000.0, 7270000.0, 7280000.0, 7283286.0, 7285000.0, 7290000.0, 7297000.0, 7299000.0, 7300000.0, 7305000.0, 7310000.0, 7347000.0, 7350000.0, 7350290.0, 7350900.0, 7360000.0, 7365000.0, 7367016.0, 7370000.0, 7375000.0, 7380000.0, 7390000.0, 7398000.0, 7399000.0, 7400000.0, 7407105.0, 7410000.0, 7430000.0, 7433186.0, 7440000.0, 7444176.0, 7445866.0, 7448000.0, 7450000.0, 7455637.0, 7470000.0, 7475000.0, 7476560.0, 7480000.0, 7490000.0, 7497600.0, 7499000.0, 7500000.0, 7500800.0, 7501000.0, 7515162.0, 7520000.0, 7535000.0, 7540000.0, 7545600.0, 7548000.0, 7550000.0, 7550875.0, 7557000.0, 7560000.0, 7563000.0, 7570000.0, 7575000.0, 7580000.0, 7585000.0, 7590000.0, 7600000.0, 7602000.0, 7610814.0, 7620000.0, 7625000.0, 7640000.0, 7650000.0, 7678000.0, 7680000.0, 7685993.0, 7690000.0, 7697000.0, 7700000.0, 7701650.0, 7703451.0, 7722600.0, 7725000.0, 7728000.0, 7730000.0, 7740000.0, 7750000.0, 7753921.0, 7760000.0, 7769900.0, 7770000.0, 7775417.0, 7777000.0, 7777777.0, 7778000.0, 7780000.0, 7790000.0, 7795000.0, 7799000.0, 7799999.0, 7800000.0, 7803000.0, 7806000.0, 7807800.0, 7810000.0, 7820000.0, 7825000.0, 7829000.0, 7835000.0, 7849000.0, 7850000.0, 7867616.0, 7870000.0, 7875000.0, 7888000.0, 7890000.0, 7894000.0, 7895000.0, 7900000.0, 7905000.0, 7907820.0, 7915000.0, 7920000.0, 7930000.0, 7940000.0, 7950000.0, 7952000.0, 7952112.0, 7957000.0, 7960000.0, 7970000.0, 7980000.0, 7985250.0, 7986000.0, 7990000.0, 7995000.0, 7999000.0, 7999999.0, 8000000.0, 8001805.0, 8010000.0, 8029000.0, 8037000.0, 8040000.0, 8045000.0, 8047185.0, 8050000.0, 8055000.0, 8060000.0, 8080000.0, 8090000.0, 8090518.0, 8100000.0, 8107000.0, 8130000.0, 8137395.0, 8150000.0, 8157700.0, 8160000.0, 8170000.0, 8176000.0, 8179000.0, 8180000.0, 8183000.0, 8190000.0, 8200000.0, 8209300.0, 8210000.0, 8220312.0, 8235000.0, 8245000.0, 8250000.0, 8255565.0, 8260000.0, 8270000.0, 8274950.0, 8275000.0, 8280000.0, 8290000.0, 8299000.0, 8300000.0, 8320000.0, 8326824.0, 8346152.0, 8350000.0, 8351000.0, 8353000.0, 8354205.0, 8364000.0, 8370000.0, 8380000.0, 8385000.0, 8389000.0, 8390000.0, 8399000.0, 8400000.0, 8418000.0, 8420000.0, 8435051.0, 8440000.0, 8449000.0, 8450000.0, 8455000.0, 8466000.0, 8470000.0, 8477000.0, 8480000.0, 8484000.0, 8484786.0, 8488000.0, 8490000.0, 8495000.0, 8499000.0, 8500000.0, 8520000.0, 8540000.0, 8544000.0, 8545000.0, 8548000.0, 8549000.0, 8550000.0, 8555000.0, 8555400.0, 8560000.0, 8570000.0, 8577905.0, 8580000.0, 8585256.0, 8589000.0, 8590000.0, 8595000.0, 8599999.0, 8600000.0, 8603000.0, 8625000.0, 8630000.0, 8635000.0, 8639000.0, 8641044.0, 8650000.0, 8660000.0, 8680000.0, 8690000.0, 8700000.0, 8703493.0, 8715000.0, 8715960.0, 8721680.0, 8725246.0, 8740000.0, 8750000.0, 8755014.0, 8760000.0, 8765000.0, 8770000.0, 8772000.0, 8778000.0, 8780000.0, 8787819.0, 8800000.0, 8810000.0, 8812000.0, 8820000.0, 8820890.0, 8822000.0, 8825000.0, 8835000.0, 8840000.0, 8850000.0, 8860000.0, 8865000.0, 8870000.0, 8880000.0, 8888888.0, 8890000.0, 8899000.0, 8900000.0, 8920262.0, 8925000.0, 8927070.0, 8931645.0, 8940000.0, 8945261.0, 8950000.0, 8970000.0, 8971000.0, 8975000.0, 8980000.0, 8985000.0, 8987413.0, 8990000.0, 8993202.0, 8995000.0, 8999000.0, 8999999.0, 9000000.0, 9009000.0, 9016000.0, 9020000.0, 9025000.0, 9046130.0, 9050000.0, 9060000.0, 9070000.0, 9072000.0, 9080000.0, 9090000.0, 9095000.0, 9100000.0, 9133890.0, 9140000.0, 9150000.0, 9170000.0, 9190000.0, 9199000.0, 9199888.0, 9200000.0, 9206000.0, 9211000.0, 9230000.0, 9240000.0, 9246000.0, 9250000.0, 9270000.0, 9272765.0, 9278000.0, 9280000.0, 9283468.0, 9290000.0, 9295000.0, 9300000.0, 9315000.0, 9329693.0, 9330000.0, 9333333.0, 9349988.0, 9350000.0, 9354231.0, 9359901.0, 9360000.0, 9380000.0, 9386000.0, 9390000.0, 9398000.0, 9400000.0, 9410000.0, 9411080.0, 9420000.0, 9442409.0, 9450000.0, 9470000.0, 9476000.0, 9480000.0, 9480400.0, 9490000.0, 9495000.0, 9499000.0, 9500000.0, 9516000.0, 9520000.0, 9525760.0, 9530000.0, 9555000.0, 9565000.0, 9567276.0, 9570000.0, 9590000.0, 9591727.0, 9599000.0, 9600000.0, 9607000.0, 9609600.0, 9610305.0, 9635000.0, 9635328.0, 9640000.0, 9649000.0, 9650000.0, 9680000.0, 9684619.0, 9685000.0, 9690000.0, 9699000.0, 9700000.0, 9735000.0, 9742915.0, 9750000.0, 9753380.0, 9788348.0, 9790000.0, 9792000.0, 9799000.0, 9800000.0, 9822904.0, 9828000.0, 9830000.0, 9833970.0, 9847530.0, 9850000.0, 9856000.0, 9860000.0, 9870000.0, 9888247.0, 9890000.0, 9897258.0, 9899000.0, 9900000.0, 9917600.0, 9950000.0, 9960000.0, 9962480.0, 9970000.0, 9973000.0, 9975000.0, 9977000.0, 9980000.0, 9980833.0, 9983000.0, 9990000.0, 9994000.0, 9998000.0, 9999000.0, 9999870.0, 9999999.0, 10000000.0, 10005649.0, 10012800.0, 10018000.0, 10019000.0, 10030000.0, 10038000.0, 10048500.0, 10050000.0, 10078000.0, 10090000.0, 10100000.0, 10117500.0, 10120000.0, 10130000.0, 10140000.0, 10150000.0, 10186401.0, 10197200.0, 10198000.0, 10200000.0, 10213688.0, 10225000.0, 10243350.0, 10250000.0, 10260000.0, 10296437.0, 10296911.0, 10300000.0, 10304000.0, 10305000.0, 10335000.0, 10338200.0, 10348000.0, 10350000.0, 10360000.0, 10366538.0, 10376552.0, 10379600.0, 10398000.0, 10400000.0, 10411000.0, 10412000.0, 10430000.0, 10440000.0, 10450000.0, 10480000.0, 10487000.0, 10490000.0, 10499000.0, 10500000.0, 10510000.0, 10517631.0, 10540000.0, 10550000.0, 10573000.0, 10580800.0, 10590000.0, 10599999.0, 10600000.0, 10624000.0, 10626000.0, 10635000.0, 10644939.0, 10648000.0, 10650000.0, 10651230.0, 10660000.0, 10665000.0, 10681500.0, 10690000.0, 10700000.0, 10737350.0, 10750000.0, 10767773.0, 10770000.0, 10778000.0, 10788000.0, 10790000.0, 10800000.0, 10815000.0, 10824000.0, 10828140.0, 10850000.0, 10860000.0, 10861350.0, 10880000.0, 10880100.0, 10890000.0, 10895000.0, 10898000.0, 10900000.0, 10912400.0, 10921556.0, 10949000.0, 10950000.0, 10965000.0, 10980000.0, 10990000.0, 10999000.0, 11000000.0, 11050000.0, 11060000.0, 11066961.0, 11067416.0, 11080008.0, 11083220.0, 11094336.0, 11100000.0, 11150000.0, 11170500.0, 11199000.0, 11200000.0, 11204000.0, 11207364.0, 11230000.0, 11250000.0, 11270000.0, 11277800.0, 11300000.0, 11305000.0, 11315000.0, 11320000.0, 11350000.0, 11359000.0, 11390000.0, 11399700.0, 11400000.0, 11403209.0, 11441000.0, 11446000.0, 11450000.0, 11464000.0, 11472552.0, 11475000.0, 11475975.0, 11490000.0, 11498000.0, 11499000.0, 11500000.0, 11507200.0, 11520000.0, 11545000.0, 11562376.0, 11564288.0, 11599000.0, 11600000.0, 11609000.0, 11615600.0, 11615928.0, 11620701.0, 11634919.0, 11640000.0, 11650000.0, 11675484.0, 11700000.0, 11703000.0, 11703236.0, 11730000.0, 11748225.0, 11750000.0, 11757590.0, 11768000.0, 11790000.0, 11793000.0, 11795000.0, 11800000.0, 11809670.0, 11820000.0, 11840000.0, 11850000.0, 11858000.0, 11866860.0, 11879250.0, 11880000.0, 11894400.0, 11900000.0, 11935000.0, 11939000.0, 11940000.0, 11950000.0, 11965000.0, 11967575.0, 11968000.0, 11970000.0, 11980000.0, 11983878.0, 11990000.0, 11995000.0, 11996000.0, 11997000.0, 11999000.0, 12000000.0, 12036000.0, 12054000.0, 12084000.0, 12100000.0, 12150000.0, 12160000.0, 12180000.0, 12185600.0, 12190000.0, 12200000.0, 12231091.0, 12250000.0, 12263600.0, 12288000.0, 12300000.0, 12303979.0, 12306168.0, 12350000.0, 12354000.0, 12360000.0, 12371278.0, 12390000.0, 12399000.0, 12400000.0, 12450000.0, 12480000.0, 12480750.0, 12490000.0, 12499000.0, 12500000.0, 12508697.0, 12511000.0, 12530000.0, 12561120.0, 12580000.0, 12585022.0, 12590000.0, 12596900.0, 12600000.0, 12610000.0, 12614850.0, 12615831.0, 12645000.0, 12650000.0, 12665000.0, 12680000.0, 12687600.0, 12690000.0, 12699000.0, 12700000.0, 12703590.0, 12705000.0, 12710000.0, 12734000.0, 12738000.0, 12740070.0, 12750000.0, 12780000.0, 12789000.0, 12790000.0, 12800000.0, 12849209.0, 12850000.0, 12870000.0, 12890000.0, 12900000.0, 12922000.0, 12925653.0, 12950000.0, 12959000.0, 12980000.0, 12990000.0, 12997000.0, 12998000.0, 12999000.0, 13000000.0, 13005105.0, 13030000.0, 13040000.0, 13043000.0, 13043097.0, 13050000.0, 13100000.0, 13150000.0, 13179000.0, 13180000.0, 13200000.0, 13230000.0, 13235000.0, 13250000.0, 13289860.0, 13290000.0, 13299000.0, 13300000.0, 13310800.0, 13330000.0, 13333000.0, 13351000.0, 13400000.0, 13450000.0, 13460000.0, 13479200.0, 13480000.0, 13490000.0, 13499000.0, 13500000.0, 13520000.0, 13544976.0, 13545000.0, 13550000.0, 13580000.0, 13590000.0, 13595000.0, 13605800.0, 13650000.0, 13660000.0, 13684000.0, 13690000.0, 13700000.0, 13705200.0, 13744000.0, 13750000.0, 13800000.0, 13833930.0, 13850000.0, 13880000.0, 13890000.0, 13900000.0, 13922460.0, 13950000.0, 13975000.0, 13978000.0, 13986000.0, 13990000.0, 13994500.0, 13999000.0, 14000000.0, 14050000.0, 14073620.0, 14100000.0, 14108500.0, 14145000.0, 14150000.0, 14166000.0, 14174400.0, 14200000.0, 14214000.0, 14220000.0, 14240000.0, 14250000.0, 14300000.0, 14343480.0, 14350000.0, 14380000.0, 14400000.0, 14450000.0, 14485000.0, 14490000.0, 14500000.0, 14501000.0, 14535000.0, 14538350.0, 14550000.0, 14569263.0, 14586000.0, 14600000.0, 14700000.0, 14750000.0, 14780000.0, 14790000.0, 14799000.0, 14800000.0, 14825041.0, 14850000.0, 14890000.0, 14898509.0, 14900000.0, 14948000.0, 14950000.0, 14970000.0, 14980000.0, 14990000.0, 14998000.0, 14999000.0, 14999999.0, 15000000.0, 15093000.0, 15098000.0, 15100000.0, 15104000.0, 15120000.0, 15129600.0, 15190500.0, 15200000.0, 15276000.0, 15300000.0, 15350000.0, 15357000.0, 15373187.0, 15398992.0, 15400000.0, 15450000.0, 15490000.0, 15499000.0, 15500000.0, 15520000.0, 15525000.0, 15600000.0, 15642981.0, 15680000.0, 15700000.0, 15715440.0, 15728409.0, 15748800.0, 15750000.0, 15772260.0, 15782000.0, 15786435.0, 15800000.0, 15801000.0, 15884000.0, 15888600.0, 15890000.0, 15900000.0, 15950000.0, 15990000.0, 16000000.0, 16008000.0, 16010211.0, 16051000.0, 16052837.0, 16070000.0, 16073000.0, 16080000.0, 16100000.0, 16120000.0, 16137000.0, 16150000.0, 16177174.0, 16200000.0, 16218000.0, 16250000.0, 16300000.0, 16359000.0, 16399282.0, 16400000.0, 16436127.0, 16450000.0, 16457760.0, 16471698.0, 16490000.0, 16499000.0, 16500000.0, 16512000.0, 16550000.0, 16600000.0, 16650000.0, 16698000.0, 16700000.0, 16730000.0, 16775132.0, 16800000.0, 16830000.0, 16850000.0, 16900000.0, 16912000.0, 16913068.0, 16990000.0, 17000000.0, 17051000.0, 17072640.0, 17100000.0, 17200000.0, 17212500.0, 17226000.0, 17250000.0, 17299000.0, 17300000.0, 17350000.0, 17385000.0, 17390000.0, 17400000.0, 17414720.0, 17480000.0, 17500000.0, 17508600.0, 17537000.0, 17600000.0, 17630000.0, 17667280.0, 17671500.0, 17675000.0, 17700000.0, 17753472.0, 17800000.0, 17807836.0, 17850000.0, 17860000.0, 17900000.0, 17990000.0, 17998000.0, 18000000.0, 18010000.0, 18055216.0, 18100000.0, 18120000.0, 18130500.0, 18200000.0, 18206548.0, 18250000.0, 18280000.0, 18300000.0, 18312000.0, 18326016.0, 18333732.0, 18350000.0, 18353328.0, 18358968.0, 18400000.0, 18450000.0, 18480000.0, 18490000.0, 18500000.0, 18600884.0, 18700000.0, 18777000.0, 18800000.0, 18813900.0, 18850000.0, 18900000.0, 18924000.0, 18950000.0, 18990000.0, 19000000.0, 19084000.0, 19090000.0, 19150000.0, 19173000.0, 19200000.0, 19270682.0, 19300000.0, 19327000.0, 19335000.0, 19354948.0, 19370000.0, 19400000.0, 19471000.0, 19500000.0, 19600000.0, 19700000.0, 19713740.0, 19770000.0, 19800000.0, 19818230.0, 19837000.0, 19900000.0, 19950000.0, 19980000.0, 19990000.0, 19999000.0, 20000000.0, 20040000.0, 20100000.0, 20275036.0, 20295200.0, 20300000.0, 20338132.0, 20345000.0, 20350000.0, 20370000.0, 20445000.0, 20471250.0, 20490000.0, 20500000.0, 20600000.0, 20632000.0, 20646648.0, 20680000.0, 20700000.0, 20786000.0, 20800000.0, 20850000.0, 20851478.0, 20900000.0, 20950000.0, 20990000.0, 21000000.0, 21042018.0, 21071500.0, 21161062.0, 21187872.0, 21280000.0, 21300000.0, 21321556.0, 21387000.0, 21400000.0, 21453004.0, 21500000.0, 21501000.0, 21598936.0, 21600000.0, 21615000.0, 21663000.0, 21700000.0, 21750000.0, 21800000.0, 21821800.0, 21840000.0, 21900000.0, 21988800.0, 21990000.0, 22000000.0, 22057100.0, 22100000.0, 22160000.0, 22190000.0, 22200000.0, 22212254.0, 22220000.0, 22250000.0, 22315000.0, 22400000.0, 22450000.0, 22500000.0, 22520000.0, 22523032.0, 22529250.0, 22642800.0, 22743212.0, 22800000.0, 22900000.0, 22932404.0, 22950000.0, 22990000.0, 23000000.0, 23169000.0, 23200000.0, 23290000.0, 23300000.0, 23321944.0, 23411700.0, 23417400.0, 23500000.0, 23600000.0, 23617000.0, 23684000.0, 23716800.0, 23750000.0, 23800000.0, 23900000.0, 23990000.0, 23999088.0, 24000000.0, 24300000.0, 24359088.0, 24412900.0, 24432000.0, 24466724.0, 24499000.0, 24500000.0, 24700000.0, 24719904.0, 24800000.0, 24821600.0, 24900000.0, 25000000.0, 25023000.0, 25092624.0, 25200000.0, 25300000.0, 25398000.0, 25476800.0, 25490000.0, 25500000.0, 25600000.0, 25717300.0, 25779030.0, 25800000.0, 25835000.0, 25897000.0, 25900000.0, 25990000.0, 26000000.0, 26037742.0, 26107410.0, 26259820.0, 26300000.0, 26310000.0, 26360000.0, 26391824.0, 26400000.0, 26450000.0, 26477136.0, 26500000.0, 26557000.0, 26558000.0, 26750000.0, 26800000.0, 26900000.0, 26990000.0, 27000000.0, 27243166.0, 27250000.0, 27273000.0, 27420000.0, 27500000.0, 27577200.0, 27600000.0, 27700000.0, 27840000.0, 27850000.0, 27900000.0, 27933600.0, 28000000.0, 28050000.0, 28099500.0, 28114000.0, 28177652.0, 28500000.0, 28521092.0, 28570000.0, 28659000.0, 28789000.0, 28800000.0, 28899000.0, 29000000.0, 29216000.0, 29370000.0, 29375000.0, 29500000.0, 29800000.0, 29849500.0, 29900000.0, 29990000.0, 29999000.0, 30000000.0, 30050000.0, 30500000.0, 30600000.0, 30750000.0, 30877260.0, 30891300.0, 30899000.0, 30900000.0, 31000000.0, 31099000.0, 31490000.0, 31500000.0, 31557860.0, 31750000.0, 32000000.0, 32100000.0, 32238780.0, 32250000.0, 32260000.0, 32350000.0, 32500000.0, 32524000.0, 32550000.0, 32894076.0, 33000000.0, 33300000.0, 33415200.0, 33500000.0, 33800000.0, 33990000.0, 34000000.0, 34315000.0, 34400000.0, 34500000.0, 34551000.0, 34878556.0, 34979000.0, 35000000.0, 35107000.0, 35290000.0, 35300000.0, 35499000.0, 35500000.0, 35900000.0, 35953504.0, 36000000.0, 36001900.0, 36500000.0, 36700000.0, 36750000.0, 36800000.0, 36900000.0, 37000000.0, 37199888.0, 37272000.0, 37500000.0, 37800000.0, 37900000.0, 37998000.0, 37999000.0, 38000000.0, 38500000.0, 38600000.0, 38900000.0, 39000000.0, 39744000.0, 39773280.0, 39900000.0, 39990000.0, 40000000.0, 40348248.0, 40488000.0, 40662000.0, 41484000.0, 41900000.0, 42000000.0, 42738000.0, 43000000.0, 43185328.0, 43500000.0, 43511000.0, 43900000.0, 44000000.0, 44500000.0, 45000000.0, 45900000.0, 46000000.0, 46424072.0, 46950000.0, 47000000.0, 47500000.0, 47700000.0, 48000000.0, 48763000.0, 49000000.0, 49500000.0, 49798000.0, 49900000.0, 49950000.0, 49968900.0, 50000000.0, 50788000.0, 51000000.0, 52000000.0, 53000000.0, 53250000.0, 53800000.0, 54000000.0, 55000000.0, 55800000.0, 55845000.0, 55900000.0, 55969724.0, 56000000.0, 56844500.0, 57000000.0, 57906000.0, 58000000.0, 58500000.0, 59000000.0, 59534892.0, 59800000.0, 59914124.0, 60309900.0, 60999000.0, 62171920.0, 62316000.0, 63900000.0, 64500000.0, 64900000.0, 64990000.0, 65000000.0, 65138176.0, 65850000.0, 66500000.0, 66571000.0, 67000000.0, 68000000.0, 68500000.0, 71000000.0, 72000000.0, 72375000.0, 73884056.0, 73900000.0, 74000000.0, 75000000.0, 76837000.0, 77000000.0, 77349000.0, 77612080.0, 79000000.0, 79339000.0, 80000000.0, 81960000.0, 82000000.0, 82400000.0, 83000000.0, 83820000.0, 84000000.0, 84382000.0, 85000000.0, 86738800.0, 87000000.0, 88000000.0, 90000000.0, 91075000.0, 91500000.0, 95000000.0, 96000000.0, 98000000.0, 99000000.0, 115490000.0, 118000000.0, 119000000.0, 120000000.0, 122000000.0, 124000000.0, 124350000.0, 124480000.0, 125000000.0, 130000000.0, 130278280.0, 131000000.0, 135000000.0, 140000000.0, 148000000.0, 150000000.0, 155000000.0, 159000000.0, 159984000.0, 160000000.0, 180000000.0, 190870000.0, 230000000.0, 240000000.0, 245000000.0, 289238400.0, 300000000.0, 330000000.0, 401300000.0, 420000000.0, 763000000.0]\n"
     ]
    }
   ],
   "source": [
    "print(sorted(data['last_price'].unique()))"
   ]
  },
  {
   "cell_type": "markdown",
   "metadata": {},
   "source": [
    "Квартиры за 763 миллиона - бывают, конечно, но скорее всего это лишние два нуля в цене. Проверим, посмотрев на данные об этой квартире:"
   ]
  },
  {
   "cell_type": "code",
   "execution_count": 82,
   "metadata": {},
   "outputs": [
    {
     "data": {
      "text/html": [
       "<div>\n",
       "<style scoped>\n",
       "    .dataframe tbody tr th:only-of-type {\n",
       "        vertical-align: middle;\n",
       "    }\n",
       "\n",
       "    .dataframe tbody tr th {\n",
       "        vertical-align: top;\n",
       "    }\n",
       "\n",
       "    .dataframe thead th {\n",
       "        text-align: right;\n",
       "    }\n",
       "</style>\n",
       "<table border=\"1\" class=\"dataframe\">\n",
       "  <thead>\n",
       "    <tr style=\"text-align: right;\">\n",
       "      <th></th>\n",
       "      <th>total_images</th>\n",
       "      <th>last_price</th>\n",
       "      <th>total_area</th>\n",
       "      <th>first_day_exposition</th>\n",
       "      <th>rooms</th>\n",
       "      <th>ceiling_height</th>\n",
       "      <th>floors_total</th>\n",
       "      <th>living_area</th>\n",
       "      <th>floor</th>\n",
       "      <th>studio</th>\n",
       "      <th>...</th>\n",
       "      <th>kitchen_area</th>\n",
       "      <th>balcony</th>\n",
       "      <th>locality_name</th>\n",
       "      <th>airports_nearest</th>\n",
       "      <th>cityCenters_nearest</th>\n",
       "      <th>parks_around3000</th>\n",
       "      <th>parks_nearest</th>\n",
       "      <th>ponds_around3000</th>\n",
       "      <th>ponds_nearest</th>\n",
       "      <th>days_exposition</th>\n",
       "    </tr>\n",
       "  </thead>\n",
       "  <tbody>\n",
       "    <tr>\n",
       "      <th>1026</th>\n",
       "      <td>20</td>\n",
       "      <td>155000000.0</td>\n",
       "      <td>310.0</td>\n",
       "      <td>2018-10-12</td>\n",
       "      <td>5</td>\n",
       "      <td>5.30</td>\n",
       "      <td>3</td>\n",
       "      <td>190.0</td>\n",
       "      <td>3</td>\n",
       "      <td>False</td>\n",
       "      <td>...</td>\n",
       "      <td>63.0</td>\n",
       "      <td>2</td>\n",
       "      <td>Санкт-Петербург</td>\n",
       "      <td>24899.0</td>\n",
       "      <td>4785.0</td>\n",
       "      <td>0</td>\n",
       "      <td>NaN</td>\n",
       "      <td>1</td>\n",
       "      <td>603.0</td>\n",
       "      <td>732</td>\n",
       "    </tr>\n",
       "    <tr>\n",
       "      <th>1436</th>\n",
       "      <td>19</td>\n",
       "      <td>330000000.0</td>\n",
       "      <td>190.0</td>\n",
       "      <td>2018-04-04</td>\n",
       "      <td>3</td>\n",
       "      <td>3.50</td>\n",
       "      <td>7</td>\n",
       "      <td>95.0</td>\n",
       "      <td>5</td>\n",
       "      <td>False</td>\n",
       "      <td>...</td>\n",
       "      <td>40.0</td>\n",
       "      <td>0</td>\n",
       "      <td>Санкт-Петербург</td>\n",
       "      <td>23011.0</td>\n",
       "      <td>1197.0</td>\n",
       "      <td>3</td>\n",
       "      <td>519.0</td>\n",
       "      <td>3</td>\n",
       "      <td>285.0</td>\n",
       "      <td>233</td>\n",
       "    </tr>\n",
       "    <tr>\n",
       "      <th>2536</th>\n",
       "      <td>16</td>\n",
       "      <td>159984000.0</td>\n",
       "      <td>242.4</td>\n",
       "      <td>2015-08-27</td>\n",
       "      <td>4</td>\n",
       "      <td>3.85</td>\n",
       "      <td>9</td>\n",
       "      <td>131.0</td>\n",
       "      <td>7</td>\n",
       "      <td>False</td>\n",
       "      <td>...</td>\n",
       "      <td>20.0</td>\n",
       "      <td>0</td>\n",
       "      <td>Санкт-Петербург</td>\n",
       "      <td>21946.0</td>\n",
       "      <td>2242.0</td>\n",
       "      <td>1</td>\n",
       "      <td>679.0</td>\n",
       "      <td>1</td>\n",
       "      <td>227.0</td>\n",
       "      <td>501</td>\n",
       "    </tr>\n",
       "    <tr>\n",
       "      <th>5893</th>\n",
       "      <td>3</td>\n",
       "      <td>230000000.0</td>\n",
       "      <td>500.0</td>\n",
       "      <td>2017-05-31</td>\n",
       "      <td>6</td>\n",
       "      <td>2.65</td>\n",
       "      <td>7</td>\n",
       "      <td>30.0</td>\n",
       "      <td>7</td>\n",
       "      <td>False</td>\n",
       "      <td>...</td>\n",
       "      <td>40.0</td>\n",
       "      <td>0</td>\n",
       "      <td>Санкт-Петербург</td>\n",
       "      <td>32440.0</td>\n",
       "      <td>5297.0</td>\n",
       "      <td>0</td>\n",
       "      <td>NaN</td>\n",
       "      <td>2</td>\n",
       "      <td>198.0</td>\n",
       "      <td>50</td>\n",
       "    </tr>\n",
       "    <tr>\n",
       "      <th>7857</th>\n",
       "      <td>11</td>\n",
       "      <td>150000000.0</td>\n",
       "      <td>230.0</td>\n",
       "      <td>2017-10-25</td>\n",
       "      <td>8</td>\n",
       "      <td>2.65</td>\n",
       "      <td>8</td>\n",
       "      <td>220.0</td>\n",
       "      <td>8</td>\n",
       "      <td>False</td>\n",
       "      <td>...</td>\n",
       "      <td>9.1</td>\n",
       "      <td>0</td>\n",
       "      <td>Санкт-Петербург</td>\n",
       "      <td>25525.0</td>\n",
       "      <td>5845.0</td>\n",
       "      <td>2</td>\n",
       "      <td>116.0</td>\n",
       "      <td>0</td>\n",
       "      <td>NaN</td>\n",
       "      <td>135</td>\n",
       "    </tr>\n",
       "    <tr>\n",
       "      <th>8900</th>\n",
       "      <td>13</td>\n",
       "      <td>190870000.0</td>\n",
       "      <td>268.0</td>\n",
       "      <td>2016-03-25</td>\n",
       "      <td>3</td>\n",
       "      <td>2.65</td>\n",
       "      <td>8</td>\n",
       "      <td>132.0</td>\n",
       "      <td>7</td>\n",
       "      <td>False</td>\n",
       "      <td>...</td>\n",
       "      <td>40.0</td>\n",
       "      <td>0</td>\n",
       "      <td>Санкт-Петербург</td>\n",
       "      <td>32440.0</td>\n",
       "      <td>5297.0</td>\n",
       "      <td>0</td>\n",
       "      <td>NaN</td>\n",
       "      <td>2</td>\n",
       "      <td>198.0</td>\n",
       "      <td>901</td>\n",
       "    </tr>\n",
       "    <tr>\n",
       "      <th>12971</th>\n",
       "      <td>19</td>\n",
       "      <td>763000000.0</td>\n",
       "      <td>400.0</td>\n",
       "      <td>2017-09-30</td>\n",
       "      <td>7</td>\n",
       "      <td>2.65</td>\n",
       "      <td>10</td>\n",
       "      <td>250.0</td>\n",
       "      <td>10</td>\n",
       "      <td>False</td>\n",
       "      <td>...</td>\n",
       "      <td>9.1</td>\n",
       "      <td>2</td>\n",
       "      <td>Санкт-Петербург</td>\n",
       "      <td>25108.0</td>\n",
       "      <td>3956.0</td>\n",
       "      <td>1</td>\n",
       "      <td>530.0</td>\n",
       "      <td>3</td>\n",
       "      <td>756.0</td>\n",
       "      <td>33</td>\n",
       "    </tr>\n",
       "    <tr>\n",
       "      <th>13749</th>\n",
       "      <td>7</td>\n",
       "      <td>240000000.0</td>\n",
       "      <td>410.0</td>\n",
       "      <td>2017-04-01</td>\n",
       "      <td>6</td>\n",
       "      <td>3.40</td>\n",
       "      <td>7</td>\n",
       "      <td>218.0</td>\n",
       "      <td>7</td>\n",
       "      <td>False</td>\n",
       "      <td>...</td>\n",
       "      <td>40.0</td>\n",
       "      <td>0</td>\n",
       "      <td>Санкт-Петербург</td>\n",
       "      <td>32440.0</td>\n",
       "      <td>5297.0</td>\n",
       "      <td>0</td>\n",
       "      <td>NaN</td>\n",
       "      <td>2</td>\n",
       "      <td>198.0</td>\n",
       "      <td>199</td>\n",
       "    </tr>\n",
       "    <tr>\n",
       "      <th>14706</th>\n",
       "      <td>15</td>\n",
       "      <td>401300000.0</td>\n",
       "      <td>401.0</td>\n",
       "      <td>2016-02-20</td>\n",
       "      <td>5</td>\n",
       "      <td>2.65</td>\n",
       "      <td>9</td>\n",
       "      <td>204.0</td>\n",
       "      <td>9</td>\n",
       "      <td>False</td>\n",
       "      <td>...</td>\n",
       "      <td>24.0</td>\n",
       "      <td>3</td>\n",
       "      <td>Санкт-Петербург</td>\n",
       "      <td>21912.0</td>\n",
       "      <td>2389.0</td>\n",
       "      <td>1</td>\n",
       "      <td>545.0</td>\n",
       "      <td>1</td>\n",
       "      <td>478.0</td>\n",
       "      <td>393</td>\n",
       "    </tr>\n",
       "    <tr>\n",
       "      <th>15016</th>\n",
       "      <td>8</td>\n",
       "      <td>150000000.0</td>\n",
       "      <td>500.0</td>\n",
       "      <td>2016-01-13</td>\n",
       "      <td>4</td>\n",
       "      <td>3.20</td>\n",
       "      <td>7</td>\n",
       "      <td>30.0</td>\n",
       "      <td>7</td>\n",
       "      <td>False</td>\n",
       "      <td>...</td>\n",
       "      <td>9.1</td>\n",
       "      <td>0</td>\n",
       "      <td>Санкт-Петербург</td>\n",
       "      <td>33058.0</td>\n",
       "      <td>6150.0</td>\n",
       "      <td>3</td>\n",
       "      <td>209.0</td>\n",
       "      <td>3</td>\n",
       "      <td>531.0</td>\n",
       "      <td>303</td>\n",
       "    </tr>\n",
       "    <tr>\n",
       "      <th>15651</th>\n",
       "      <td>20</td>\n",
       "      <td>300000000.0</td>\n",
       "      <td>618.0</td>\n",
       "      <td>2017-12-18</td>\n",
       "      <td>7</td>\n",
       "      <td>3.40</td>\n",
       "      <td>7</td>\n",
       "      <td>258.0</td>\n",
       "      <td>5</td>\n",
       "      <td>False</td>\n",
       "      <td>...</td>\n",
       "      <td>70.0</td>\n",
       "      <td>0</td>\n",
       "      <td>Санкт-Петербург</td>\n",
       "      <td>32440.0</td>\n",
       "      <td>5297.0</td>\n",
       "      <td>0</td>\n",
       "      <td>NaN</td>\n",
       "      <td>2</td>\n",
       "      <td>198.0</td>\n",
       "      <td>111</td>\n",
       "    </tr>\n",
       "    <tr>\n",
       "      <th>16461</th>\n",
       "      <td>17</td>\n",
       "      <td>245000000.0</td>\n",
       "      <td>285.7</td>\n",
       "      <td>2017-04-10</td>\n",
       "      <td>6</td>\n",
       "      <td>3.35</td>\n",
       "      <td>7</td>\n",
       "      <td>182.8</td>\n",
       "      <td>4</td>\n",
       "      <td>False</td>\n",
       "      <td>...</td>\n",
       "      <td>29.8</td>\n",
       "      <td>0</td>\n",
       "      <td>Санкт-Петербург</td>\n",
       "      <td>33143.0</td>\n",
       "      <td>6235.0</td>\n",
       "      <td>3</td>\n",
       "      <td>400.0</td>\n",
       "      <td>3</td>\n",
       "      <td>140.0</td>\n",
       "      <td>249</td>\n",
       "    </tr>\n",
       "    <tr>\n",
       "      <th>16495</th>\n",
       "      <td>12</td>\n",
       "      <td>159000000.0</td>\n",
       "      <td>260.0</td>\n",
       "      <td>2017-04-04</td>\n",
       "      <td>4</td>\n",
       "      <td>2.65</td>\n",
       "      <td>5</td>\n",
       "      <td>180.0</td>\n",
       "      <td>4</td>\n",
       "      <td>False</td>\n",
       "      <td>...</td>\n",
       "      <td>30.0</td>\n",
       "      <td>2</td>\n",
       "      <td>Санкт-Петербург</td>\n",
       "      <td>21740.0</td>\n",
       "      <td>436.0</td>\n",
       "      <td>2</td>\n",
       "      <td>138.0</td>\n",
       "      <td>3</td>\n",
       "      <td>620.0</td>\n",
       "      <td>178</td>\n",
       "    </tr>\n",
       "    <tr>\n",
       "      <th>19155</th>\n",
       "      <td>20</td>\n",
       "      <td>160000000.0</td>\n",
       "      <td>243.0</td>\n",
       "      <td>2018-11-12</td>\n",
       "      <td>5</td>\n",
       "      <td>2.65</td>\n",
       "      <td>5</td>\n",
       "      <td>145.0</td>\n",
       "      <td>4</td>\n",
       "      <td>False</td>\n",
       "      <td>...</td>\n",
       "      <td>33.0</td>\n",
       "      <td>0</td>\n",
       "      <td>Санкт-Петербург</td>\n",
       "      <td>22640.0</td>\n",
       "      <td>555.0</td>\n",
       "      <td>3</td>\n",
       "      <td>285.0</td>\n",
       "      <td>1</td>\n",
       "      <td>200.0</td>\n",
       "      <td>18</td>\n",
       "    </tr>\n",
       "    <tr>\n",
       "      <th>19540</th>\n",
       "      <td>8</td>\n",
       "      <td>420000000.0</td>\n",
       "      <td>900.0</td>\n",
       "      <td>2017-12-06</td>\n",
       "      <td>12</td>\n",
       "      <td>2.80</td>\n",
       "      <td>25</td>\n",
       "      <td>409.7</td>\n",
       "      <td>25</td>\n",
       "      <td>False</td>\n",
       "      <td>...</td>\n",
       "      <td>112.0</td>\n",
       "      <td>0</td>\n",
       "      <td>Санкт-Петербург</td>\n",
       "      <td>30706.0</td>\n",
       "      <td>7877.0</td>\n",
       "      <td>0</td>\n",
       "      <td>NaN</td>\n",
       "      <td>2</td>\n",
       "      <td>318.0</td>\n",
       "      <td>106</td>\n",
       "    </tr>\n",
       "    <tr>\n",
       "      <th>19865</th>\n",
       "      <td>20</td>\n",
       "      <td>180000000.0</td>\n",
       "      <td>347.0</td>\n",
       "      <td>2015-01-21</td>\n",
       "      <td>8</td>\n",
       "      <td>3.90</td>\n",
       "      <td>6</td>\n",
       "      <td>260.0</td>\n",
       "      <td>3</td>\n",
       "      <td>False</td>\n",
       "      <td>...</td>\n",
       "      <td>45.0</td>\n",
       "      <td>0</td>\n",
       "      <td>Санкт-Петербург</td>\n",
       "      <td>23962.0</td>\n",
       "      <td>3794.0</td>\n",
       "      <td>2</td>\n",
       "      <td>537.0</td>\n",
       "      <td>3</td>\n",
       "      <td>501.0</td>\n",
       "      <td>834</td>\n",
       "    </tr>\n",
       "    <tr>\n",
       "      <th>22831</th>\n",
       "      <td>18</td>\n",
       "      <td>289238400.0</td>\n",
       "      <td>187.5</td>\n",
       "      <td>2019-03-19</td>\n",
       "      <td>2</td>\n",
       "      <td>3.37</td>\n",
       "      <td>6</td>\n",
       "      <td>63.7</td>\n",
       "      <td>6</td>\n",
       "      <td>False</td>\n",
       "      <td>...</td>\n",
       "      <td>30.2</td>\n",
       "      <td>0</td>\n",
       "      <td>Санкт-Петербург</td>\n",
       "      <td>22494.0</td>\n",
       "      <td>1073.0</td>\n",
       "      <td>3</td>\n",
       "      <td>386.0</td>\n",
       "      <td>3</td>\n",
       "      <td>188.0</td>\n",
       "      <td>732</td>\n",
       "    </tr>\n",
       "  </tbody>\n",
       "</table>\n",
       "<p>17 rows × 21 columns</p>\n",
       "</div>"
      ],
      "text/plain": [
       "       total_images   last_price  total_area first_day_exposition  rooms  \\\n",
       "1026             20  155000000.0       310.0           2018-10-12      5   \n",
       "1436             19  330000000.0       190.0           2018-04-04      3   \n",
       "2536             16  159984000.0       242.4           2015-08-27      4   \n",
       "5893              3  230000000.0       500.0           2017-05-31      6   \n",
       "7857             11  150000000.0       230.0           2017-10-25      8   \n",
       "8900             13  190870000.0       268.0           2016-03-25      3   \n",
       "12971            19  763000000.0       400.0           2017-09-30      7   \n",
       "13749             7  240000000.0       410.0           2017-04-01      6   \n",
       "14706            15  401300000.0       401.0           2016-02-20      5   \n",
       "15016             8  150000000.0       500.0           2016-01-13      4   \n",
       "15651            20  300000000.0       618.0           2017-12-18      7   \n",
       "16461            17  245000000.0       285.7           2017-04-10      6   \n",
       "16495            12  159000000.0       260.0           2017-04-04      4   \n",
       "19155            20  160000000.0       243.0           2018-11-12      5   \n",
       "19540             8  420000000.0       900.0           2017-12-06     12   \n",
       "19865            20  180000000.0       347.0           2015-01-21      8   \n",
       "22831            18  289238400.0       187.5           2019-03-19      2   \n",
       "\n",
       "       ceiling_height  floors_total  living_area  floor  studio  ...  \\\n",
       "1026             5.30             3        190.0      3   False  ...   \n",
       "1436             3.50             7         95.0      5   False  ...   \n",
       "2536             3.85             9        131.0      7   False  ...   \n",
       "5893             2.65             7         30.0      7   False  ...   \n",
       "7857             2.65             8        220.0      8   False  ...   \n",
       "8900             2.65             8        132.0      7   False  ...   \n",
       "12971            2.65            10        250.0     10   False  ...   \n",
       "13749            3.40             7        218.0      7   False  ...   \n",
       "14706            2.65             9        204.0      9   False  ...   \n",
       "15016            3.20             7         30.0      7   False  ...   \n",
       "15651            3.40             7        258.0      5   False  ...   \n",
       "16461            3.35             7        182.8      4   False  ...   \n",
       "16495            2.65             5        180.0      4   False  ...   \n",
       "19155            2.65             5        145.0      4   False  ...   \n",
       "19540            2.80            25        409.7     25   False  ...   \n",
       "19865            3.90             6        260.0      3   False  ...   \n",
       "22831            3.37             6         63.7      6   False  ...   \n",
       "\n",
       "       kitchen_area  balcony    locality_name airports_nearest  \\\n",
       "1026           63.0        2  Санкт-Петербург          24899.0   \n",
       "1436           40.0        0  Санкт-Петербург          23011.0   \n",
       "2536           20.0        0  Санкт-Петербург          21946.0   \n",
       "5893           40.0        0  Санкт-Петербург          32440.0   \n",
       "7857            9.1        0  Санкт-Петербург          25525.0   \n",
       "8900           40.0        0  Санкт-Петербург          32440.0   \n",
       "12971           9.1        2  Санкт-Петербург          25108.0   \n",
       "13749          40.0        0  Санкт-Петербург          32440.0   \n",
       "14706          24.0        3  Санкт-Петербург          21912.0   \n",
       "15016           9.1        0  Санкт-Петербург          33058.0   \n",
       "15651          70.0        0  Санкт-Петербург          32440.0   \n",
       "16461          29.8        0  Санкт-Петербург          33143.0   \n",
       "16495          30.0        2  Санкт-Петербург          21740.0   \n",
       "19155          33.0        0  Санкт-Петербург          22640.0   \n",
       "19540         112.0        0  Санкт-Петербург          30706.0   \n",
       "19865          45.0        0  Санкт-Петербург          23962.0   \n",
       "22831          30.2        0  Санкт-Петербург          22494.0   \n",
       "\n",
       "       cityCenters_nearest  parks_around3000  parks_nearest  ponds_around3000  \\\n",
       "1026                4785.0                 0            NaN                 1   \n",
       "1436                1197.0                 3          519.0                 3   \n",
       "2536                2242.0                 1          679.0                 1   \n",
       "5893                5297.0                 0            NaN                 2   \n",
       "7857                5845.0                 2          116.0                 0   \n",
       "8900                5297.0                 0            NaN                 2   \n",
       "12971               3956.0                 1          530.0                 3   \n",
       "13749               5297.0                 0            NaN                 2   \n",
       "14706               2389.0                 1          545.0                 1   \n",
       "15016               6150.0                 3          209.0                 3   \n",
       "15651               5297.0                 0            NaN                 2   \n",
       "16461               6235.0                 3          400.0                 3   \n",
       "16495                436.0                 2          138.0                 3   \n",
       "19155                555.0                 3          285.0                 1   \n",
       "19540               7877.0                 0            NaN                 2   \n",
       "19865               3794.0                 2          537.0                 3   \n",
       "22831               1073.0                 3          386.0                 3   \n",
       "\n",
       "       ponds_nearest  days_exposition  \n",
       "1026           603.0              732  \n",
       "1436           285.0              233  \n",
       "2536           227.0              501  \n",
       "5893           198.0               50  \n",
       "7857             NaN              135  \n",
       "8900           198.0              901  \n",
       "12971          756.0               33  \n",
       "13749          198.0              199  \n",
       "14706          478.0              393  \n",
       "15016          531.0              303  \n",
       "15651          198.0              111  \n",
       "16461          140.0              249  \n",
       "16495          620.0              178  \n",
       "19155          200.0               18  \n",
       "19540          318.0              106  \n",
       "19865          501.0              834  \n",
       "22831          188.0              732  \n",
       "\n",
       "[17 rows x 21 columns]"
      ]
     },
     "execution_count": 82,
     "metadata": {},
     "output_type": "execute_result"
    }
   ],
   "source": [
    "data.query('last_price>=150000000')"
   ]
  },
  {
   "cell_type": "markdown",
   "metadata": {},
   "source": [
    "По состоянию на конец марта 2022 года, средневзвешенная стоимость квадратного метра в СПб на первичном рынке жилья (включая комфорт-, бизнес- и премиум-классы) составила 247 тыс. руб.\n",
    "Если площадь - действительно 400 квадратных метров, данные правдоподобны. Видимо, это какое-то элитное жильё. Но таких квартир слишком мало, чтобы делать хоть какие-то выводы. Устраним их из данных."
   ]
  },
  {
   "cell_type": "code",
   "execution_count": 83,
   "metadata": {},
   "outputs": [
    {
     "data": {
      "text/plain": [
       "count    2.365000e+04\n",
       "mean     6.541127e+06\n",
       "std      1.089640e+07\n",
       "min      1.219000e+04\n",
       "25%      3.400000e+06\n",
       "50%      4.650000e+06\n",
       "75%      6.799000e+06\n",
       "max      7.630000e+08\n",
       "Name: last_price, dtype: float64"
      ]
     },
     "execution_count": 83,
     "metadata": {},
     "output_type": "execute_result"
    }
   ],
   "source": [
    "data['last_price'].describe()"
   ]
  },
  {
   "cell_type": "markdown",
   "metadata": {},
   "source": [
    "Видно, что 75% отстают от максимума на несколько порядков. Помимо того, минимум - всего 12 тысяч рублей, что тоже абсурд. Наши данные - о продаже жилья, а не об аренде. Данные меньше миллиона и больше 10 миллионов можно с чистой совестью исключать."
   ]
  },
  {
   "cell_type": "code",
   "execution_count": 84,
   "metadata": {},
   "outputs": [
    {
     "data": {
      "text/plain": [
       "<AxesSubplot:>"
      ]
     },
     "execution_count": 84,
     "metadata": {},
     "output_type": "execute_result"
    },
    {
     "data": {
      "image/png": "[encoded data removed]",
      "text/plain": [
       "<Figure size 432x288 with 1 Axes>"
      ]
     },
     "metadata": {
      "needs_background": "light"
     },
     "output_type": "display_data"
    }
   ],
   "source": [
    "data = data.query('1000000<=last_price<=10000000')\n",
    "data['last_price'].hist()"
   ]
  },
  {
   "cell_type": "markdown",
   "metadata": {},
   "source": [
    "Выглядит здраво. Идём дальше."
   ]
  },
  {
   "cell_type": "code",
   "execution_count": 85,
   "metadata": {},
   "outputs": [
    {
     "data": {
      "text/plain": [
       "count    20712.000000\n",
       "mean        52.203820\n",
       "std         17.817222\n",
       "min         12.000000\n",
       "25%         38.800000\n",
       "50%         48.300000\n",
       "75%         62.100000\n",
       "max        201.500000\n",
       "Name: total_area, dtype: float64"
      ]
     },
     "execution_count": 85,
     "metadata": {},
     "output_type": "execute_result"
    },
    {
     "data": {
      "image/png": "[encoded data removed]",
      "text/plain": [
       "<Figure size 432x288 with 1 Axes>"
      ]
     },
     "metadata": {
      "needs_background": "light"
     },
     "output_type": "display_data"
    }
   ],
   "source": [
    "data.boxplot('total_area')\n",
    "data['total_area'].describe()"
   ]
  },
  {
   "cell_type": "markdown",
   "metadata": {},
   "source": [
    "Видно, что квартиры больше 100 квадратов - единичные случаи. Смело отбросим их. "
   ]
  },
  {
   "cell_type": "code",
   "execution_count": 86,
   "metadata": {},
   "outputs": [
    {
     "data": {
      "text/plain": [
       "<AxesSubplot:>"
      ]
     },
     "execution_count": 86,
     "metadata": {},
     "output_type": "execute_result"
    },
    {
     "data": {
      "image/png": "[encoded data removed]",
      "text/plain": [
       "<Figure size 432x288 with 1 Axes>"
      ]
     },
     "metadata": {
      "needs_background": "light"
     },
     "output_type": "display_data"
    }
   ],
   "source": [
    "data = data.query('total_area<=100')\n",
    "data['total_area'].hist()"
   ]
  },
  {
   "cell_type": "markdown",
   "metadata": {},
   "source": [
    "Неплохо. Идём дальше."
   ]
  },
  {
   "cell_type": "code",
   "execution_count": 87,
   "metadata": {},
   "outputs": [
    {
     "data": {
      "text/plain": [
       "<AxesSubplot:>"
      ]
     },
     "execution_count": 87,
     "metadata": {},
     "output_type": "execute_result"
    },
    {
     "data": {
      "image/png": "[encoded data removed]",
      "text/plain": [
       "<Figure size 432x288 with 1 Axes>"
      ]
     },
     "metadata": {
      "needs_background": "light"
     },
     "output_type": "display_data"
    }
   ],
   "source": [
    "data['first_day_exposition'].hist()"
   ]
  },
  {
   "cell_type": "markdown",
   "metadata": {},
   "source": [
    "Здесь нет ничего подозрительного. Можно отметить, что со временем сервис становился популярнее."
   ]
  },
  {
   "cell_type": "code",
   "execution_count": 88,
   "metadata": {},
   "outputs": [
    {
     "data": {
      "text/plain": [
       "count    20422.000000\n",
       "mean         1.875331\n",
       "std          0.866501\n",
       "min          0.000000\n",
       "25%          1.000000\n",
       "50%          2.000000\n",
       "75%          2.000000\n",
       "max          6.000000\n",
       "Name: rooms, dtype: float64"
      ]
     },
     "execution_count": 88,
     "metadata": {},
     "output_type": "execute_result"
    }
   ],
   "source": [
    "data['rooms'].describe()"
   ]
  },
  {
   "cell_type": "code",
   "execution_count": 89,
   "metadata": {},
   "outputs": [
    {
     "data": {
      "text/html": [
       "<div>\n",
       "<style scoped>\n",
       "    .dataframe tbody tr th:only-of-type {\n",
       "        vertical-align: middle;\n",
       "    }\n",
       "\n",
       "    .dataframe tbody tr th {\n",
       "        vertical-align: top;\n",
       "    }\n",
       "\n",
       "    .dataframe thead th {\n",
       "        text-align: right;\n",
       "    }\n",
       "</style>\n",
       "<table border=\"1\" class=\"dataframe\">\n",
       "  <thead>\n",
       "    <tr style=\"text-align: right;\">\n",
       "      <th></th>\n",
       "      <th>last_price</th>\n",
       "    </tr>\n",
       "    <tr>\n",
       "      <th>rooms</th>\n",
       "      <th></th>\n",
       "    </tr>\n",
       "  </thead>\n",
       "  <tbody>\n",
       "    <tr>\n",
       "      <th>0</th>\n",
       "      <td>194</td>\n",
       "    </tr>\n",
       "    <tr>\n",
       "      <th>1</th>\n",
       "      <td>7868</td>\n",
       "    </tr>\n",
       "    <tr>\n",
       "      <th>2</th>\n",
       "      <td>7262</td>\n",
       "    </tr>\n",
       "    <tr>\n",
       "      <th>3</th>\n",
       "      <td>4520</td>\n",
       "    </tr>\n",
       "    <tr>\n",
       "      <th>4</th>\n",
       "      <td>546</td>\n",
       "    </tr>\n",
       "    <tr>\n",
       "      <th>5</th>\n",
       "      <td>30</td>\n",
       "    </tr>\n",
       "    <tr>\n",
       "      <th>6</th>\n",
       "      <td>2</td>\n",
       "    </tr>\n",
       "  </tbody>\n",
       "</table>\n",
       "</div>"
      ],
      "text/plain": [
       "       last_price\n",
       "rooms            \n",
       "0             194\n",
       "1            7868\n",
       "2            7262\n",
       "3            4520\n",
       "4             546\n",
       "5              30\n",
       "6               2"
      ]
     },
     "execution_count": 89,
     "metadata": {},
     "output_type": "execute_result"
    }
   ],
   "source": [
    "pd.pivot_table(data, index='rooms', values='last_price', aggfunc='count')"
   ]
  },
  {
   "cell_type": "markdown",
   "metadata": {},
   "source": [
    "0 комнат - нежилое помещение либо некорректные данные. 5 и 6 комнат - слишком редки. отбросим их."
   ]
  },
  {
   "cell_type": "code",
   "execution_count": 90,
   "metadata": {},
   "outputs": [
    {
     "data": {
      "text/plain": [
       "count    20196.000000\n",
       "mean         1.888295\n",
       "std          0.842072\n",
       "min          1.000000\n",
       "25%          1.000000\n",
       "50%          2.000000\n",
       "75%          3.000000\n",
       "max          4.000000\n",
       "Name: rooms, dtype: float64"
      ]
     },
     "execution_count": 90,
     "metadata": {},
     "output_type": "execute_result"
    }
   ],
   "source": [
    "data = data.query('1<=rooms<=4')\n",
    "data['rooms'].describe()"
   ]
  },
  {
   "cell_type": "markdown",
   "metadata": {},
   "source": [
    "Стало лучше. Идём дальше."
   ]
  },
  {
   "cell_type": "code",
   "execution_count": 91,
   "metadata": {},
   "outputs": [
    {
     "data": {
      "text/html": [
       "<div>\n",
       "<style scoped>\n",
       "    .dataframe tbody tr th:only-of-type {\n",
       "        vertical-align: middle;\n",
       "    }\n",
       "\n",
       "    .dataframe tbody tr th {\n",
       "        vertical-align: top;\n",
       "    }\n",
       "\n",
       "    .dataframe thead th {\n",
       "        text-align: right;\n",
       "    }\n",
       "</style>\n",
       "<table border=\"1\" class=\"dataframe\">\n",
       "  <thead>\n",
       "    <tr style=\"text-align: right;\">\n",
       "      <th></th>\n",
       "      <th>last_price</th>\n",
       "    </tr>\n",
       "    <tr>\n",
       "      <th>ceiling_height</th>\n",
       "      <th></th>\n",
       "    </tr>\n",
       "  </thead>\n",
       "  <tbody>\n",
       "    <tr>\n",
       "      <th>1.00</th>\n",
       "      <td>1</td>\n",
       "    </tr>\n",
       "    <tr>\n",
       "      <th>1.20</th>\n",
       "      <td>1</td>\n",
       "    </tr>\n",
       "    <tr>\n",
       "      <th>1.75</th>\n",
       "      <td>1</td>\n",
       "    </tr>\n",
       "    <tr>\n",
       "      <th>2.00</th>\n",
       "      <td>10</td>\n",
       "    </tr>\n",
       "    <tr>\n",
       "      <th>2.20</th>\n",
       "      <td>1</td>\n",
       "    </tr>\n",
       "    <tr>\n",
       "      <th>...</th>\n",
       "      <td>...</td>\n",
       "    </tr>\n",
       "    <tr>\n",
       "      <th>25.00</th>\n",
       "      <td>7</td>\n",
       "    </tr>\n",
       "    <tr>\n",
       "      <th>26.00</th>\n",
       "      <td>1</td>\n",
       "    </tr>\n",
       "    <tr>\n",
       "      <th>27.00</th>\n",
       "      <td>7</td>\n",
       "    </tr>\n",
       "    <tr>\n",
       "      <th>27.50</th>\n",
       "      <td>1</td>\n",
       "    </tr>\n",
       "    <tr>\n",
       "      <th>32.00</th>\n",
       "      <td>2</td>\n",
       "    </tr>\n",
       "  </tbody>\n",
       "</table>\n",
       "<p>150 rows × 1 columns</p>\n",
       "</div>"
      ],
      "text/plain": [
       "                last_price\n",
       "ceiling_height            \n",
       "1.00                     1\n",
       "1.20                     1\n",
       "1.75                     1\n",
       "2.00                    10\n",
       "2.20                     1\n",
       "...                    ...\n",
       "25.00                    7\n",
       "26.00                    1\n",
       "27.00                    7\n",
       "27.50                    1\n",
       "32.00                    2\n",
       "\n",
       "[150 rows x 1 columns]"
      ]
     },
     "execution_count": 91,
     "metadata": {},
     "output_type": "execute_result"
    }
   ],
   "source": [
    "pd.pivot_table(data, index='ceiling_height', values='last_price', aggfunc='count')"
   ]
  },
  {
   "cell_type": "code",
   "execution_count": 92,
   "metadata": {},
   "outputs": [
    {
     "data": {
      "text/plain": [
       "count    20196.000000\n",
       "mean         2.690363\n",
       "std          0.788231\n",
       "min          1.000000\n",
       "25%          2.600000\n",
       "50%          2.650000\n",
       "75%          2.650000\n",
       "max         32.000000\n",
       "Name: ceiling_height, dtype: float64"
      ]
     },
     "execution_count": 92,
     "metadata": {},
     "output_type": "execute_result"
    }
   ],
   "source": [
    "data['ceiling_height'].describe()"
   ]
  },
  {
   "cell_type": "markdown",
   "metadata": {},
   "source": [
    "По нормативам, высота потолка не может быть менее 2.5 метров. Значения меньше можно отбросить, это не жильё (гараж?). Что касается аномально высоких потолков, возможно, имелась ввиду величина в 10 раз меньше (32 метра - 3.2 метра, стандарт) "
   ]
  },
  {
   "cell_type": "code",
   "execution_count": 93,
   "metadata": {},
   "outputs": [
    {
     "data": {
      "text/plain": [
       "count    20119.000000\n",
       "mean         2.666324\n",
       "std          0.184858\n",
       "min          2.500000\n",
       "25%          2.600000\n",
       "50%          2.650000\n",
       "75%          2.650000\n",
       "max          8.300000\n",
       "Name: ceiling_height, dtype: float64"
      ]
     },
     "execution_count": 93,
     "metadata": {},
     "output_type": "execute_result"
    }
   ],
   "source": [
    "data['ceiling_height'] = data['ceiling_height'].apply(lambda x: x if x<=10 else x/10)\n",
    "data = data.query('ceiling_height>=2.5')\n",
    "data['ceiling_height'].describe()"
   ]
  },
  {
   "cell_type": "markdown",
   "metadata": {},
   "source": [
    "Уже лучше. Посмотрим на гистограмму. Если остались аномальные значения, то их уже точно не исправить. Удалим."
   ]
  },
  {
   "cell_type": "code",
   "execution_count": 94,
   "metadata": {},
   "outputs": [
    {
     "data": {
      "text/plain": [
       "<AxesSubplot:>"
      ]
     },
     "execution_count": 94,
     "metadata": {},
     "output_type": "execute_result"
    },
    {
     "data": {
      "image/png": "[encoded data removed]",
      "text/plain": [
       "<Figure size 432x288 with 1 Axes>"
      ]
     },
     "metadata": {
      "needs_background": "light"
     },
     "output_type": "display_data"
    }
   ],
   "source": [
    "data['ceiling_height'].hist(bins=10)"
   ]
  },
  {
   "cell_type": "code",
   "execution_count": 95,
   "metadata": {
    "scrolled": true
   },
   "outputs": [
    {
     "data": {
      "text/html": [
       "<div>\n",
       "<style scoped>\n",
       "    .dataframe tbody tr th:only-of-type {\n",
       "        vertical-align: middle;\n",
       "    }\n",
       "\n",
       "    .dataframe tbody tr th {\n",
       "        vertical-align: top;\n",
       "    }\n",
       "\n",
       "    .dataframe thead th {\n",
       "        text-align: right;\n",
       "    }\n",
       "</style>\n",
       "<table border=\"1\" class=\"dataframe\">\n",
       "  <thead>\n",
       "    <tr style=\"text-align: right;\">\n",
       "      <th></th>\n",
       "      <th>last_price</th>\n",
       "    </tr>\n",
       "    <tr>\n",
       "      <th>ceiling_height</th>\n",
       "      <th></th>\n",
       "    </tr>\n",
       "  </thead>\n",
       "  <tbody>\n",
       "    <tr>\n",
       "      <th>3.30</th>\n",
       "      <td>61</td>\n",
       "    </tr>\n",
       "    <tr>\n",
       "      <th>3.31</th>\n",
       "      <td>2</td>\n",
       "    </tr>\n",
       "    <tr>\n",
       "      <th>3.32</th>\n",
       "      <td>1</td>\n",
       "    </tr>\n",
       "    <tr>\n",
       "      <th>3.33</th>\n",
       "      <td>2</td>\n",
       "    </tr>\n",
       "    <tr>\n",
       "      <th>3.34</th>\n",
       "      <td>1</td>\n",
       "    </tr>\n",
       "    <tr>\n",
       "      <th>3.35</th>\n",
       "      <td>4</td>\n",
       "    </tr>\n",
       "    <tr>\n",
       "      <th>3.37</th>\n",
       "      <td>1</td>\n",
       "    </tr>\n",
       "    <tr>\n",
       "      <th>3.38</th>\n",
       "      <td>4</td>\n",
       "    </tr>\n",
       "    <tr>\n",
       "      <th>3.40</th>\n",
       "      <td>35</td>\n",
       "    </tr>\n",
       "    <tr>\n",
       "      <th>3.42</th>\n",
       "      <td>1</td>\n",
       "    </tr>\n",
       "    <tr>\n",
       "      <th>3.44</th>\n",
       "      <td>1</td>\n",
       "    </tr>\n",
       "    <tr>\n",
       "      <th>3.45</th>\n",
       "      <td>6</td>\n",
       "    </tr>\n",
       "    <tr>\n",
       "      <th>3.46</th>\n",
       "      <td>2</td>\n",
       "    </tr>\n",
       "    <tr>\n",
       "      <th>3.47</th>\n",
       "      <td>2</td>\n",
       "    </tr>\n",
       "    <tr>\n",
       "      <th>3.48</th>\n",
       "      <td>1</td>\n",
       "    </tr>\n",
       "    <tr>\n",
       "      <th>3.49</th>\n",
       "      <td>1</td>\n",
       "    </tr>\n",
       "    <tr>\n",
       "      <th>3.50</th>\n",
       "      <td>49</td>\n",
       "    </tr>\n",
       "    <tr>\n",
       "      <th>3.54</th>\n",
       "      <td>4</td>\n",
       "    </tr>\n",
       "    <tr>\n",
       "      <th>3.55</th>\n",
       "      <td>6</td>\n",
       "    </tr>\n",
       "    <tr>\n",
       "      <th>3.56</th>\n",
       "      <td>1</td>\n",
       "    </tr>\n",
       "    <tr>\n",
       "      <th>3.57</th>\n",
       "      <td>1</td>\n",
       "    </tr>\n",
       "    <tr>\n",
       "      <th>3.59</th>\n",
       "      <td>1</td>\n",
       "    </tr>\n",
       "    <tr>\n",
       "      <th>3.60</th>\n",
       "      <td>10</td>\n",
       "    </tr>\n",
       "    <tr>\n",
       "      <th>3.62</th>\n",
       "      <td>2</td>\n",
       "    </tr>\n",
       "    <tr>\n",
       "      <th>3.63</th>\n",
       "      <td>1</td>\n",
       "    </tr>\n",
       "    <tr>\n",
       "      <th>3.65</th>\n",
       "      <td>2</td>\n",
       "    </tr>\n",
       "    <tr>\n",
       "      <th>3.67</th>\n",
       "      <td>1</td>\n",
       "    </tr>\n",
       "    <tr>\n",
       "      <th>3.70</th>\n",
       "      <td>10</td>\n",
       "    </tr>\n",
       "    <tr>\n",
       "      <th>3.75</th>\n",
       "      <td>6</td>\n",
       "    </tr>\n",
       "    <tr>\n",
       "      <th>3.78</th>\n",
       "      <td>1</td>\n",
       "    </tr>\n",
       "    <tr>\n",
       "      <th>3.80</th>\n",
       "      <td>7</td>\n",
       "    </tr>\n",
       "    <tr>\n",
       "      <th>3.83</th>\n",
       "      <td>1</td>\n",
       "    </tr>\n",
       "    <tr>\n",
       "      <th>3.85</th>\n",
       "      <td>1</td>\n",
       "    </tr>\n",
       "    <tr>\n",
       "      <th>3.88</th>\n",
       "      <td>1</td>\n",
       "    </tr>\n",
       "    <tr>\n",
       "      <th>3.90</th>\n",
       "      <td>2</td>\n",
       "    </tr>\n",
       "    <tr>\n",
       "      <th>3.95</th>\n",
       "      <td>3</td>\n",
       "    </tr>\n",
       "    <tr>\n",
       "      <th>3.98</th>\n",
       "      <td>1</td>\n",
       "    </tr>\n",
       "    <tr>\n",
       "      <th>4.00</th>\n",
       "      <td>14</td>\n",
       "    </tr>\n",
       "    <tr>\n",
       "      <th>4.06</th>\n",
       "      <td>1</td>\n",
       "    </tr>\n",
       "    <tr>\n",
       "      <th>4.10</th>\n",
       "      <td>2</td>\n",
       "    </tr>\n",
       "    <tr>\n",
       "      <th>4.15</th>\n",
       "      <td>1</td>\n",
       "    </tr>\n",
       "    <tr>\n",
       "      <th>4.19</th>\n",
       "      <td>2</td>\n",
       "    </tr>\n",
       "    <tr>\n",
       "      <th>4.20</th>\n",
       "      <td>2</td>\n",
       "    </tr>\n",
       "    <tr>\n",
       "      <th>4.30</th>\n",
       "      <td>1</td>\n",
       "    </tr>\n",
       "    <tr>\n",
       "      <th>4.37</th>\n",
       "      <td>1</td>\n",
       "    </tr>\n",
       "    <tr>\n",
       "      <th>4.50</th>\n",
       "      <td>3</td>\n",
       "    </tr>\n",
       "    <tr>\n",
       "      <th>4.70</th>\n",
       "      <td>1</td>\n",
       "    </tr>\n",
       "    <tr>\n",
       "      <th>5.30</th>\n",
       "      <td>1</td>\n",
       "    </tr>\n",
       "    <tr>\n",
       "      <th>8.00</th>\n",
       "      <td>3</td>\n",
       "    </tr>\n",
       "    <tr>\n",
       "      <th>8.30</th>\n",
       "      <td>1</td>\n",
       "    </tr>\n",
       "  </tbody>\n",
       "</table>\n",
       "</div>"
      ],
      "text/plain": [
       "                last_price\n",
       "ceiling_height            \n",
       "3.30                    61\n",
       "3.31                     2\n",
       "3.32                     1\n",
       "3.33                     2\n",
       "3.34                     1\n",
       "3.35                     4\n",
       "3.37                     1\n",
       "3.38                     4\n",
       "3.40                    35\n",
       "3.42                     1\n",
       "3.44                     1\n",
       "3.45                     6\n",
       "3.46                     2\n",
       "3.47                     2\n",
       "3.48                     1\n",
       "3.49                     1\n",
       "3.50                    49\n",
       "3.54                     4\n",
       "3.55                     6\n",
       "3.56                     1\n",
       "3.57                     1\n",
       "3.59                     1\n",
       "3.60                    10\n",
       "3.62                     2\n",
       "3.63                     1\n",
       "3.65                     2\n",
       "3.67                     1\n",
       "3.70                    10\n",
       "3.75                     6\n",
       "3.78                     1\n",
       "3.80                     7\n",
       "3.83                     1\n",
       "3.85                     1\n",
       "3.88                     1\n",
       "3.90                     2\n",
       "3.95                     3\n",
       "3.98                     1\n",
       "4.00                    14\n",
       "4.06                     1\n",
       "4.10                     2\n",
       "4.15                     1\n",
       "4.19                     2\n",
       "4.20                     2\n",
       "4.30                     1\n",
       "4.37                     1\n",
       "4.50                     3\n",
       "4.70                     1\n",
       "5.30                     1\n",
       "8.00                     3\n",
       "8.30                     1"
      ]
     },
     "execution_count": 95,
     "metadata": {},
     "output_type": "execute_result"
    }
   ],
   "source": [
    "pd.pivot_table(data, index='ceiling_height', values='last_price', aggfunc='count').tail(50)"
   ]
  },
  {
   "cell_type": "markdown",
   "metadata": {},
   "source": [
    "Отбросим значения выше 3.50"
   ]
  },
  {
   "cell_type": "code",
   "execution_count": 96,
   "metadata": {},
   "outputs": [],
   "source": [
    "data = data.query('ceiling_height<=3.50')"
   ]
  },
  {
   "cell_type": "markdown",
   "metadata": {},
   "source": [
    "Идём дальше."
   ]
  },
  {
   "cell_type": "code",
   "execution_count": 97,
   "metadata": {
    "scrolled": true
   },
   "outputs": [
    {
     "data": {
      "text/html": [
       "<div>\n",
       "<style scoped>\n",
       "    .dataframe tbody tr th:only-of-type {\n",
       "        vertical-align: middle;\n",
       "    }\n",
       "\n",
       "    .dataframe tbody tr th {\n",
       "        vertical-align: top;\n",
       "    }\n",
       "\n",
       "    .dataframe thead th {\n",
       "        text-align: right;\n",
       "    }\n",
       "</style>\n",
       "<table border=\"1\" class=\"dataframe\">\n",
       "  <thead>\n",
       "    <tr style=\"text-align: right;\">\n",
       "      <th></th>\n",
       "      <th>last_price</th>\n",
       "    </tr>\n",
       "    <tr>\n",
       "      <th>floors_total</th>\n",
       "      <th></th>\n",
       "    </tr>\n",
       "  </thead>\n",
       "  <tbody>\n",
       "    <tr>\n",
       "      <th>1</th>\n",
       "      <td>19</td>\n",
       "    </tr>\n",
       "    <tr>\n",
       "      <th>2</th>\n",
       "      <td>290</td>\n",
       "    </tr>\n",
       "    <tr>\n",
       "      <th>3</th>\n",
       "      <td>524</td>\n",
       "    </tr>\n",
       "    <tr>\n",
       "      <th>4</th>\n",
       "      <td>879</td>\n",
       "    </tr>\n",
       "    <tr>\n",
       "      <th>5</th>\n",
       "      <td>5045</td>\n",
       "    </tr>\n",
       "    <tr>\n",
       "      <th>6</th>\n",
       "      <td>546</td>\n",
       "    </tr>\n",
       "    <tr>\n",
       "      <th>7</th>\n",
       "      <td>362</td>\n",
       "    </tr>\n",
       "    <tr>\n",
       "      <th>8</th>\n",
       "      <td>228</td>\n",
       "    </tr>\n",
       "    <tr>\n",
       "      <th>9</th>\n",
       "      <td>3604</td>\n",
       "    </tr>\n",
       "    <tr>\n",
       "      <th>10</th>\n",
       "      <td>1009</td>\n",
       "    </tr>\n",
       "    <tr>\n",
       "      <th>11</th>\n",
       "      <td>150</td>\n",
       "    </tr>\n",
       "    <tr>\n",
       "      <th>12</th>\n",
       "      <td>1233</td>\n",
       "    </tr>\n",
       "    <tr>\n",
       "      <th>13</th>\n",
       "      <td>176</td>\n",
       "    </tr>\n",
       "    <tr>\n",
       "      <th>14</th>\n",
       "      <td>505</td>\n",
       "    </tr>\n",
       "    <tr>\n",
       "      <th>15</th>\n",
       "      <td>305</td>\n",
       "    </tr>\n",
       "    <tr>\n",
       "      <th>16</th>\n",
       "      <td>1155</td>\n",
       "    </tr>\n",
       "    <tr>\n",
       "      <th>17</th>\n",
       "      <td>729</td>\n",
       "    </tr>\n",
       "    <tr>\n",
       "      <th>18</th>\n",
       "      <td>440</td>\n",
       "    </tr>\n",
       "    <tr>\n",
       "      <th>19</th>\n",
       "      <td>287</td>\n",
       "    </tr>\n",
       "    <tr>\n",
       "      <th>20</th>\n",
       "      <td>206</td>\n",
       "    </tr>\n",
       "    <tr>\n",
       "      <th>21</th>\n",
       "      <td>138</td>\n",
       "    </tr>\n",
       "    <tr>\n",
       "      <th>22</th>\n",
       "      <td>251</td>\n",
       "    </tr>\n",
       "    <tr>\n",
       "      <th>23</th>\n",
       "      <td>314</td>\n",
       "    </tr>\n",
       "    <tr>\n",
       "      <th>24</th>\n",
       "      <td>400</td>\n",
       "    </tr>\n",
       "    <tr>\n",
       "      <th>25</th>\n",
       "      <td>907</td>\n",
       "    </tr>\n",
       "    <tr>\n",
       "      <th>26</th>\n",
       "      <td>118</td>\n",
       "    </tr>\n",
       "    <tr>\n",
       "      <th>27</th>\n",
       "      <td>159</td>\n",
       "    </tr>\n",
       "    <tr>\n",
       "      <th>28</th>\n",
       "      <td>20</td>\n",
       "    </tr>\n",
       "    <tr>\n",
       "      <th>29</th>\n",
       "      <td>1</td>\n",
       "    </tr>\n",
       "    <tr>\n",
       "      <th>34</th>\n",
       "      <td>1</td>\n",
       "    </tr>\n",
       "    <tr>\n",
       "      <th>35</th>\n",
       "      <td>18</td>\n",
       "    </tr>\n",
       "    <tr>\n",
       "      <th>36</th>\n",
       "      <td>3</td>\n",
       "    </tr>\n",
       "    <tr>\n",
       "      <th>52</th>\n",
       "      <td>1</td>\n",
       "    </tr>\n",
       "    <tr>\n",
       "      <th>60</th>\n",
       "      <td>1</td>\n",
       "    </tr>\n",
       "  </tbody>\n",
       "</table>\n",
       "</div>"
      ],
      "text/plain": [
       "              last_price\n",
       "floors_total            \n",
       "1                     19\n",
       "2                    290\n",
       "3                    524\n",
       "4                    879\n",
       "5                   5045\n",
       "6                    546\n",
       "7                    362\n",
       "8                    228\n",
       "9                   3604\n",
       "10                  1009\n",
       "11                   150\n",
       "12                  1233\n",
       "13                   176\n",
       "14                   505\n",
       "15                   305\n",
       "16                  1155\n",
       "17                   729\n",
       "18                   440\n",
       "19                   287\n",
       "20                   206\n",
       "21                   138\n",
       "22                   251\n",
       "23                   314\n",
       "24                   400\n",
       "25                   907\n",
       "26                   118\n",
       "27                   159\n",
       "28                    20\n",
       "29                     1\n",
       "34                     1\n",
       "35                    18\n",
       "36                     3\n",
       "52                     1\n",
       "60                     1"
      ]
     },
     "execution_count": 97,
     "metadata": {},
     "output_type": "execute_result"
    }
   ],
   "source": [
    "pd.pivot_table(data, index='floors_total', values='last_price', aggfunc='count')"
   ]
  },
  {
   "cell_type": "markdown",
   "metadata": {},
   "source": [
    "Самый высокий жилой дом Петербурга – 37 этажей. То есть, в данные точно закрались ошибки. Об этом стоит сказать разработчикам. Но даже так, отрежем по 27."
   ]
  },
  {
   "cell_type": "code",
   "execution_count": 98,
   "metadata": {},
   "outputs": [],
   "source": [
    "data = data.query('floors_total<=27')"
   ]
  },
  {
   "cell_type": "markdown",
   "metadata": {},
   "source": [
    "Идём дальше. 'living area'. Нужно проверить, что она не больше total area:"
   ]
  },
  {
   "cell_type": "code",
   "execution_count": 99,
   "metadata": {},
   "outputs": [
    {
     "data": {
      "text/plain": [
       "62"
      ]
     },
     "execution_count": 99,
     "metadata": {},
     "output_type": "execute_result"
    }
   ],
   "source": [
    "len(data)-len(data.query('living_area<=total_area'))"
   ]
  },
  {
   "cell_type": "markdown",
   "metadata": {},
   "source": [
    "Такие значения есть, их немного, но они явно некорректны. Удалим их."
   ]
  },
  {
   "cell_type": "code",
   "execution_count": 100,
   "metadata": {},
   "outputs": [],
   "source": [
    "data = data.query('living_area<=total_area')"
   ]
  },
  {
   "cell_type": "markdown",
   "metadata": {},
   "source": [
    "Теперь разберемся с аномальными значениями:"
   ]
  },
  {
   "cell_type": "code",
   "execution_count": 101,
   "metadata": {},
   "outputs": [
    {
     "data": {
      "text/plain": [
       "count    19917.000000\n",
       "mean        29.438613\n",
       "std         11.418499\n",
       "min          2.000000\n",
       "25%         18.300000\n",
       "50%         30.000000\n",
       "75%         36.900000\n",
       "max         80.000000\n",
       "Name: living_area, dtype: float64"
      ]
     },
     "execution_count": 101,
     "metadata": {},
     "output_type": "execute_result"
    }
   ],
   "source": [
    "data['living_area'].describe()"
   ]
  },
  {
   "cell_type": "code",
   "execution_count": 102,
   "metadata": {},
   "outputs": [
    {
     "data": {
      "text/plain": [
       "<AxesSubplot:>"
      ]
     },
     "execution_count": 102,
     "metadata": {},
     "output_type": "execute_result"
    },
    {
     "data": {
      "image/png": "[encoded data removed]",
      "text/plain": [
       "<Figure size 432x288 with 1 Axes>"
      ]
     },
     "metadata": {
      "needs_background": "light"
     },
     "output_type": "display_data"
    }
   ],
   "source": [
    "data.boxplot('living_area')"
   ]
  },
  {
   "cell_type": "markdown",
   "metadata": {},
   "source": [
    "18 метров - жилплощадь стандартной однокомнатной квартиры. Что касается верхней планки, доверимся верхней границе \"усов\"."
   ]
  },
  {
   "cell_type": "code",
   "execution_count": 103,
   "metadata": {},
   "outputs": [],
   "source": [
    "data = data.query('18<=living_area<=65')"
   ]
  },
  {
   "cell_type": "markdown",
   "metadata": {},
   "source": [
    "Идём дальше. floor. к нему вопрос один  - быть не выше верхнего."
   ]
  },
  {
   "cell_type": "code",
   "execution_count": 104,
   "metadata": {},
   "outputs": [],
   "source": [
    "data = data.query('floor<=floors_total')"
   ]
  },
  {
   "cell_type": "markdown",
   "metadata": {},
   "source": [
    "Идём дальше. Площадь кухни. Помимо очевидного, суммарная с жилой площадь не должна быть больше общей."
   ]
  },
  {
   "cell_type": "code",
   "execution_count": 105,
   "metadata": {},
   "outputs": [
    {
     "name": "stdout",
     "output_type": "stream",
     "text": [
      "count    15441.000000\n",
      "mean         9.320962\n",
      "std          3.368088\n",
      "min          1.300000\n",
      "25%          7.000000\n",
      "50%          9.000000\n",
      "75%         10.800000\n",
      "max         48.300000\n",
      "Name: kitchen_area, dtype: float64\n"
     ]
    },
    {
     "data": {
      "text/plain": [
       "<AxesSubplot:>"
      ]
     },
     "execution_count": 105,
     "metadata": {},
     "output_type": "execute_result"
    },
    {
     "data": {
      "image/png": "[encoded data removed]",
      "text/plain": [
       "<Figure size 432x288 with 1 Axes>"
      ]
     },
     "metadata": {
      "needs_background": "light"
     },
     "output_type": "display_data"
    }
   ],
   "source": [
    "data = data.query('living_area+kitchen_area<=total_area')\n",
    "print(data['kitchen_area'].describe())\n",
    "data.boxplot('kitchen_area')"
   ]
  },
  {
   "cell_type": "markdown",
   "metadata": {},
   "source": [
    "Доверимся границам усов."
   ]
  },
  {
   "cell_type": "code",
   "execution_count": 106,
   "metadata": {},
   "outputs": [],
   "source": [
    "data = data.query('kitchen_area<=17')"
   ]
  },
  {
   "cell_type": "markdown",
   "metadata": {},
   "source": [
    "К остальным столбцам больших вопросов не осталось."
   ]
  },
  {
   "cell_type": "code",
   "execution_count": 81,
   "metadata": {
    "scrolled": true
   },
   "outputs": [
    {
     "data": {
      "text/plain": [
       "0"
      ]
     },
     "execution_count": 81,
     "metadata": {},
     "output_type": "execute_result"
    }
   ],
   "source": [
    "data.duplicated().sum()"
   ]
  },
  {
   "cell_type": "code",
   "execution_count": 108,
   "metadata": {},
   "outputs": [],
   "source": [
    "data.drop_duplicates(inplace = True)\n",
    "data = data.reset_index(drop=True)"
   ]
  },
  {
   "cell_type": "markdown",
   "metadata": {},
   "source": [
    "#### Вывод:  \n",
    "В ходе предобработки были устранены пропуски и аномальные значения в данных, а также переработаны типы данных в самой таблице. Природа части проблем осталась невыявленной и требует проведения консультации с разработчиками. (Например, отсутствие дня снятия объявления.)"
   ]
  },
  {
   "cell_type": "markdown",
   "metadata": {},
   "source": [
    "### Посчитайте и добавьте в таблицу новые столбцы"
   ]
  },
  {
   "cell_type": "markdown",
   "metadata": {},
   "source": [
    " посчитано и добавлено в таблицу: цена одного квадратного метра:"
   ]
  },
  {
   "cell_type": "code",
   "execution_count": 109,
   "metadata": {},
   "outputs": [],
   "source": [
    "data['per_meter'] = data['last_price']/data['total_area']"
   ]
  },
  {
   "cell_type": "markdown",
   "metadata": {},
   "source": [
    "посчитано и добавлено в таблицу: день публикации объявления (0 - понедельник, 1 - вторник и т.д.):"
   ]
  },
  {
   "cell_type": "code",
   "execution_count": 110,
   "metadata": {},
   "outputs": [],
   "source": [
    "data['publication_day'] = data['first_day_exposition'].dt.weekday"
   ]
  },
  {
   "cell_type": "markdown",
   "metadata": {},
   "source": [
    "посчитано и добавлено в таблицу: месяц публикации объявления:"
   ]
  },
  {
   "cell_type": "code",
   "execution_count": 111,
   "metadata": {},
   "outputs": [],
   "source": [
    "data['publication_month'] = data['first_day_exposition'].dt.month"
   ]
  },
  {
   "cell_type": "markdown",
   "metadata": {},
   "source": [
    "посчитано и добавлено в таблицу: год публикации объявления:"
   ]
  },
  {
   "cell_type": "code",
   "execution_count": 112,
   "metadata": {},
   "outputs": [],
   "source": [
    "data['publication_year'] = data['first_day_exposition'].dt.year"
   ]
  },
  {
   "cell_type": "markdown",
   "metadata": {},
   "source": [
    "посчитано и добавлено в таблицу: тип этажа квартиры (значения — «первый», «последний», «другой»):"
   ]
  },
  {
   "cell_type": "code",
   "execution_count": 113,
   "metadata": {},
   "outputs": [],
   "source": [
    "data['floor_type'] = data.apply(lambda row: 'первый' if row['floor']==1 else\n",
    "                                'последний' if row['floor']==row['floors_total'] else 'другой', axis=1)"
   ]
  },
  {
   "cell_type": "markdown",
   "metadata": {},
   "source": [
    "посчитано и добавлено в таблицу: расстояние в км до центра города:"
   ]
  },
  {
   "cell_type": "code",
   "execution_count": 114,
   "metadata": {},
   "outputs": [],
   "source": [
    "data['cityCenters_nearest_km'] = (data['cityCenters_nearest']/1000).round()"
   ]
  },
  {
   "cell_type": "markdown",
   "metadata": {},
   "source": [
    "#### Вывод:  \n",
    "Данные для проведения исследования готовы."
   ]
  },
  {
   "cell_type": "markdown",
   "metadata": {},
   "source": [
    "### Проведите исследовательский анализ данных"
   ]
  },
  {
   "cell_type": "markdown",
   "metadata": {},
   "source": [
    "изучим и опишем следующие параметры: - общая площадь; - жилая площадь; - площадь кухни; - цена объекта; - количество комнат; - высота потолков; - этаж квартиры; - тип этажа квартиры («первый», «последний», «другой»); - общее количество этажей в доме; - расстояние до центра города в метрах; - расстояние до ближайшего аэропорта; - расстояние до ближайшего парка; - день и месяц публикации объявления.  \n",
    " - общая площадь:"
   ]
  },
  {
   "cell_type": "code",
   "execution_count": 115,
   "metadata": {},
   "outputs": [
    {
     "data": {
      "text/plain": [
       "array([[<AxesSubplot:title={'center':'total_area'}>]], dtype=object)"
      ]
     },
     "execution_count": 115,
     "metadata": {},
     "output_type": "execute_result"
    },
    {
     "data": {
      "image/png": "[encoded data removed]",
      "text/plain": [
       "<Figure size 432x288 with 1 Axes>"
      ]
     },
     "metadata": {
      "needs_background": "light"
     },
     "output_type": "display_data"
    }
   ],
   "source": [
    "data.hist('total_area')"
   ]
  },
  {
   "cell_type": "markdown",
   "metadata": {},
   "source": [
    "Всплески у 40 и 60 метров понятны - это стандартные одно-двухкомнатные квартиры."
   ]
  },
  {
   "cell_type": "markdown",
   "metadata": {},
   "source": [
    " - жилая площадь"
   ]
  },
  {
   "cell_type": "code",
   "execution_count": 116,
   "metadata": {},
   "outputs": [
    {
     "data": {
      "text/plain": [
       "array([[<AxesSubplot:title={'center':'living_area'}>]], dtype=object)"
      ]
     },
     "execution_count": 116,
     "metadata": {},
     "output_type": "execute_result"
    },
    {
     "data": {
      "image/png": "[encoded data removed]",
      "text/plain": [
       "<Figure size 432x288 with 1 Axes>"
      ]
     },
     "metadata": {
      "needs_background": "light"
     },
     "output_type": "display_data"
    }
   ],
   "source": [
    "data.hist('living_area', bins=30)"
   ]
  },
  {
   "cell_type": "markdown",
   "metadata": {},
   "source": [
    "Два бугра также понятны, это одно- и двух- комнатные квартиры"
   ]
  },
  {
   "cell_type": "markdown",
   "metadata": {},
   "source": [
    "- площадь кухни:"
   ]
  },
  {
   "cell_type": "code",
   "execution_count": 117,
   "metadata": {},
   "outputs": [
    {
     "data": {
      "text/plain": [
       "array([[<AxesSubplot:title={'center':'kitchen_area'}>]], dtype=object)"
      ]
     },
     "execution_count": 117,
     "metadata": {},
     "output_type": "execute_result"
    },
    {
     "data": {
      "image/png": "[encoded data removed]",
      "text/plain": [
       "<Figure size 432x288 with 1 Axes>"
      ]
     },
     "metadata": {
      "needs_background": "light"
     },
     "output_type": "display_data"
    }
   ],
   "source": [
    "data.hist('kitchen_area')"
   ]
  },
  {
   "cell_type": "markdown",
   "metadata": {},
   "source": [
    "Ожидаемый график, обычная кухня составляет около 8 метров."
   ]
  },
  {
   "cell_type": "markdown",
   "metadata": {},
   "source": [
    " - цена объекта:"
   ]
  },
  {
   "cell_type": "code",
   "execution_count": 118,
   "metadata": {},
   "outputs": [
    {
     "data": {
      "text/plain": [
       "count    1.505700e+04\n",
       "mean     4.903429e+06\n",
       "std      1.889523e+06\n",
       "min      1.000000e+06\n",
       "25%      3.600000e+06\n",
       "50%      4.658410e+06\n",
       "75%      6.000000e+06\n",
       "max      1.000000e+07\n",
       "Name: last_price, dtype: float64"
      ]
     },
     "execution_count": 118,
     "metadata": {},
     "output_type": "execute_result"
    },
    {
     "data": {
      "image/png": "[encoded data removed]",
      "text/plain": [
       "<Figure size 432x288 with 1 Axes>"
      ]
     },
     "metadata": {
      "needs_background": "light"
     },
     "output_type": "display_data"
    }
   ],
   "source": [
    "data.hist('last_price', bins=30)\n",
    "data['last_price'].describe()"
   ]
  },
  {
   "cell_type": "markdown",
   "metadata": {},
   "source": [
    "График выглядит правдоподобно, средняя цена квартиры около 5 миллионов"
   ]
  },
  {
   "cell_type": "markdown",
   "metadata": {},
   "source": [
    " - количество комнат:"
   ]
  },
  {
   "cell_type": "code",
   "execution_count": 119,
   "metadata": {},
   "outputs": [
    {
     "data": {
      "text/plain": [
       "count    15057.000000\n",
       "mean         2.129840\n",
       "std          0.789189\n",
       "min          1.000000\n",
       "25%          2.000000\n",
       "50%          2.000000\n",
       "75%          3.000000\n",
       "max          4.000000\n",
       "Name: rooms, dtype: float64"
      ]
     },
     "execution_count": 119,
     "metadata": {},
     "output_type": "execute_result"
    },
    {
     "data": {
      "image/png": "[encoded data removed]",
      "text/plain": [
       "<Figure size 432x288 with 1 Axes>"
      ]
     },
     "metadata": {
      "needs_background": "light"
     },
     "output_type": "display_data"
    }
   ],
   "source": [
    "data.hist('rooms', bins=4)\n",
    "data['rooms'].describe()"
   ]
  },
  {
   "cell_type": "markdown",
   "metadata": {},
   "source": [
    "Можно заметить, что трёхкомнатных квартир достаточно много, однако их не было видно на предыдущих графиках. Скорее всего, это связано с тем, что трёхкомнатные не имеют стандартного метража, из-за чего третий горб более плавный.  \n",
    " - высота потолков:"
   ]
  },
  {
   "cell_type": "code",
   "execution_count": 120,
   "metadata": {},
   "outputs": [
    {
     "data": {
      "text/plain": [
       "count    15057.000000\n",
       "mean         2.660219\n",
       "std          0.153170\n",
       "min          2.500000\n",
       "25%          2.560000\n",
       "50%          2.650000\n",
       "75%          2.650000\n",
       "max          3.500000\n",
       "Name: ceiling_height, dtype: float64"
      ]
     },
     "execution_count": 120,
     "metadata": {},
     "output_type": "execute_result"
    },
    {
     "data": {
      "image/png": "[encoded data removed]",
      "text/plain": [
       "<Figure size 432x288 with 1 Axes>"
      ]
     },
     "metadata": {
      "needs_background": "light"
     },
     "output_type": "display_data"
    }
   ],
   "source": [
    "data.hist('ceiling_height', bins=30)\n",
    "data['ceiling_height'].describe()"
   ]
  },
  {
   "cell_type": "markdown",
   "metadata": {},
   "source": [
    "Подавляющее число квартир имеют потолок 2.5 метра, даже 3 - 3.2 встречаются крайне редко.  \n",
    " - этаж квартиры:"
   ]
  },
  {
   "cell_type": "code",
   "execution_count": 121,
   "metadata": {},
   "outputs": [
    {
     "data": {
      "text/plain": [
       "count    15057.000000\n",
       "mean         5.502623\n",
       "std          4.489317\n",
       "min          1.000000\n",
       "25%          2.000000\n",
       "50%          4.000000\n",
       "75%          7.000000\n",
       "max         27.000000\n",
       "Name: floor, dtype: float64"
      ]
     },
     "execution_count": 121,
     "metadata": {},
     "output_type": "execute_result"
    },
    {
     "data": {
      "image/png": "[encoded data removed]",
      "text/plain": [
       "<Figure size 432x288 with 1 Axes>"
      ]
     },
     "metadata": {
      "needs_background": "light"
     },
     "output_type": "display_data"
    }
   ],
   "source": [
    "data.hist('floor', bins=27)\n",
    "data['floor'].describe()"
   ]
  },
  {
   "cell_type": "markdown",
   "metadata": {},
   "source": [
    "Практически эталонное распределение Пуассона. Пара резких спадов связаны со стандартными пяти- и девяти- этажками.\n",
    " - тип этажа квартиры («первый», «последний», «другой»):"
   ]
  },
  {
   "cell_type": "code",
   "execution_count": 122,
   "metadata": {},
   "outputs": [
    {
     "data": {
      "text/html": [
       "<div>\n",
       "<style scoped>\n",
       "    .dataframe tbody tr th:only-of-type {\n",
       "        vertical-align: middle;\n",
       "    }\n",
       "\n",
       "    .dataframe tbody tr th {\n",
       "        vertical-align: top;\n",
       "    }\n",
       "\n",
       "    .dataframe thead th {\n",
       "        text-align: right;\n",
       "    }\n",
       "</style>\n",
       "<table border=\"1\" class=\"dataframe\">\n",
       "  <thead>\n",
       "    <tr style=\"text-align: right;\">\n",
       "      <th></th>\n",
       "      <th>total_images</th>\n",
       "      <th>last_price</th>\n",
       "      <th>total_area</th>\n",
       "      <th>first_day_exposition</th>\n",
       "      <th>rooms</th>\n",
       "      <th>ceiling_height</th>\n",
       "      <th>floors_total</th>\n",
       "      <th>living_area</th>\n",
       "      <th>floor</th>\n",
       "      <th>studio</th>\n",
       "      <th>...</th>\n",
       "      <th>parks_around3000</th>\n",
       "      <th>parks_nearest</th>\n",
       "      <th>ponds_around3000</th>\n",
       "      <th>ponds_nearest</th>\n",
       "      <th>days_exposition</th>\n",
       "      <th>per_meter</th>\n",
       "      <th>publication_day</th>\n",
       "      <th>publication_month</th>\n",
       "      <th>publication_year</th>\n",
       "      <th>cityCenters_nearest_km</th>\n",
       "    </tr>\n",
       "    <tr>\n",
       "      <th>floor_type</th>\n",
       "      <th></th>\n",
       "      <th></th>\n",
       "      <th></th>\n",
       "      <th></th>\n",
       "      <th></th>\n",
       "      <th></th>\n",
       "      <th></th>\n",
       "      <th></th>\n",
       "      <th></th>\n",
       "      <th></th>\n",
       "      <th></th>\n",
       "      <th></th>\n",
       "      <th></th>\n",
       "      <th></th>\n",
       "      <th></th>\n",
       "      <th></th>\n",
       "      <th></th>\n",
       "      <th></th>\n",
       "      <th></th>\n",
       "      <th></th>\n",
       "      <th></th>\n",
       "    </tr>\n",
       "  </thead>\n",
       "  <tbody>\n",
       "    <tr>\n",
       "      <th>другой</th>\n",
       "      <td>10815</td>\n",
       "      <td>10815</td>\n",
       "      <td>10815</td>\n",
       "      <td>10815</td>\n",
       "      <td>10815</td>\n",
       "      <td>10815</td>\n",
       "      <td>10815</td>\n",
       "      <td>10815</td>\n",
       "      <td>10815</td>\n",
       "      <td>10815</td>\n",
       "      <td>...</td>\n",
       "      <td>10815</td>\n",
       "      <td>3407</td>\n",
       "      <td>10815</td>\n",
       "      <td>3936</td>\n",
       "      <td>10815</td>\n",
       "      <td>10815</td>\n",
       "      <td>10815</td>\n",
       "      <td>10815</td>\n",
       "      <td>10815</td>\n",
       "      <td>8553</td>\n",
       "    </tr>\n",
       "    <tr>\n",
       "      <th>первый</th>\n",
       "      <td>2083</td>\n",
       "      <td>2083</td>\n",
       "      <td>2083</td>\n",
       "      <td>2083</td>\n",
       "      <td>2083</td>\n",
       "      <td>2083</td>\n",
       "      <td>2083</td>\n",
       "      <td>2083</td>\n",
       "      <td>2083</td>\n",
       "      <td>2083</td>\n",
       "      <td>...</td>\n",
       "      <td>2083</td>\n",
       "      <td>674</td>\n",
       "      <td>2083</td>\n",
       "      <td>647</td>\n",
       "      <td>2083</td>\n",
       "      <td>2083</td>\n",
       "      <td>2083</td>\n",
       "      <td>2083</td>\n",
       "      <td>2083</td>\n",
       "      <td>1425</td>\n",
       "    </tr>\n",
       "    <tr>\n",
       "      <th>последний</th>\n",
       "      <td>2159</td>\n",
       "      <td>2159</td>\n",
       "      <td>2159</td>\n",
       "      <td>2159</td>\n",
       "      <td>2159</td>\n",
       "      <td>2159</td>\n",
       "      <td>2159</td>\n",
       "      <td>2159</td>\n",
       "      <td>2159</td>\n",
       "      <td>2159</td>\n",
       "      <td>...</td>\n",
       "      <td>2159</td>\n",
       "      <td>696</td>\n",
       "      <td>2159</td>\n",
       "      <td>738</td>\n",
       "      <td>2159</td>\n",
       "      <td>2159</td>\n",
       "      <td>2159</td>\n",
       "      <td>2159</td>\n",
       "      <td>2159</td>\n",
       "      <td>1458</td>\n",
       "    </tr>\n",
       "  </tbody>\n",
       "</table>\n",
       "<p>3 rows × 26 columns</p>\n",
       "</div>"
      ],
      "text/plain": [
       "            total_images  last_price  total_area  first_day_exposition  rooms  \\\n",
       "floor_type                                                                      \n",
       "другой             10815       10815       10815                 10815  10815   \n",
       "первый              2083        2083        2083                  2083   2083   \n",
       "последний           2159        2159        2159                  2159   2159   \n",
       "\n",
       "            ceiling_height  floors_total  living_area  floor  studio  ...  \\\n",
       "floor_type                                                            ...   \n",
       "другой               10815         10815        10815  10815   10815  ...   \n",
       "первый                2083          2083         2083   2083    2083  ...   \n",
       "последний             2159          2159         2159   2159    2159  ...   \n",
       "\n",
       "            parks_around3000  parks_nearest  ponds_around3000  ponds_nearest  \\\n",
       "floor_type                                                                     \n",
       "другой                 10815           3407             10815           3936   \n",
       "первый                  2083            674              2083            647   \n",
       "последний               2159            696              2159            738   \n",
       "\n",
       "            days_exposition  per_meter  publication_day  publication_month  \\\n",
       "floor_type                                                                   \n",
       "другой                10815      10815            10815              10815   \n",
       "первый                 2083       2083             2083               2083   \n",
       "последний              2159       2159             2159               2159   \n",
       "\n",
       "            publication_year  cityCenters_nearest_km  \n",
       "floor_type                                            \n",
       "другой                 10815                    8553  \n",
       "первый                  2083                    1425  \n",
       "последний               2159                    1458  \n",
       "\n",
       "[3 rows x 26 columns]"
      ]
     },
     "execution_count": 122,
     "metadata": {},
     "output_type": "execute_result"
    }
   ],
   "source": [
    "data.groupby('floor_type').count()"
   ]
  },
  {
   "cell_type": "code",
   "execution_count": 127,
   "metadata": {},
   "outputs": [
    {
     "data": {
      "text/plain": [
       "<AxesSubplot:>"
      ]
     },
     "execution_count": 127,
     "metadata": {},
     "output_type": "execute_result"
    },
    {
     "data": {
      "image/png": "[encoded data removed]",
      "text/plain": [
       "<Figure size 432x288 with 1 Axes>"
      ]
     },
     "metadata": {
      "needs_background": "light"
     },
     "output_type": "display_data"
    }
   ],
   "source": [
    "data['floor_type'].hist()"
   ]
  },
  {
   "cell_type": "markdown",
   "metadata": {},
   "source": [
    "Первый и последний этажи равны по количеству и продаются также часто как любые другие.  \n",
    "(Я не знаю как построить гистограмму в этом случае. После группировки категории становятся индексами.)  \n",
    " - общее количество этажей в доме:"
   ]
  },
  {
   "cell_type": "markdown",
   "metadata": {},
   "source": []
  },
  {
   "cell_type": "code",
   "execution_count": 64,
   "metadata": {},
   "outputs": [
    {
     "data": {
      "text/plain": [
       "count    15057.000000\n",
       "mean        10.076642\n",
       "std          6.078850\n",
       "min          1.000000\n",
       "25%          5.000000\n",
       "50%          9.000000\n",
       "75%         14.000000\n",
       "max         27.000000\n",
       "Name: floors_total, dtype: float64"
      ]
     },
     "execution_count": 64,
     "metadata": {},
     "output_type": "execute_result"
    },
    {
     "data": {
      "image/png": "[encoded data removed]",
      "text/plain": [
       "<Figure size 432x288 with 1 Axes>"
      ]
     },
     "metadata": {
      "needs_background": "light"
     },
     "output_type": "display_data"
    }
   ],
   "source": [
    "data.hist('floors_total', bins=27)\n",
    "data['floors_total'].describe()"
   ]
  },
  {
   "cell_type": "markdown",
   "metadata": {},
   "source": [
    "5, 9, 12 и 24 этажа - знакомые всем стандарты. Их мы и видим.  \n",
    " - расстояние до центра города в метрах:"
   ]
  },
  {
   "cell_type": "code",
   "execution_count": 65,
   "metadata": {},
   "outputs": [
    {
     "data": {
      "text/plain": [
       "count    11436.000000\n",
       "mean     15201.044246\n",
       "std       8569.997484\n",
       "min        329.000000\n",
       "25%      10879.000000\n",
       "50%      13678.000000\n",
       "75%      16655.000000\n",
       "max      65968.000000\n",
       "Name: cityCenters_nearest, dtype: float64"
      ]
     },
     "execution_count": 65,
     "metadata": {},
     "output_type": "execute_result"
    },
    {
     "data": {
      "image/png": "[encoded data removed]",
      "text/plain": [
       "<Figure size 432x288 with 1 Axes>"
      ]
     },
     "metadata": {
      "needs_background": "light"
     },
     "output_type": "display_data"
    }
   ],
   "source": [
    "data.hist('cityCenters_nearest', bins=30)\n",
    "data['cityCenters_nearest'].describe()"
   ]
  },
  {
   "cell_type": "markdown",
   "metadata": {},
   "source": [
    "Большинство квартир в 10-16 километрах от центра. Вполне правдоподобно для Петербурга. Дальше идёт хвост, уходящий куда-то в пригород.\n",
    " - расстояние до ближайшего аэропорта:"
   ]
  },
  {
   "cell_type": "code",
   "execution_count": 66,
   "metadata": {},
   "outputs": [
    {
     "data": {
      "text/plain": [
       "count    11424.000000\n",
       "mean     28876.607405\n",
       "std      12943.290488\n",
       "min          0.000000\n",
       "25%      17843.000000\n",
       "50%      27345.500000\n",
       "75%      37500.250000\n",
       "max      84869.000000\n",
       "Name: airports_nearest, dtype: float64"
      ]
     },
     "execution_count": 66,
     "metadata": {},
     "output_type": "execute_result"
    },
    {
     "data": {
      "image/png": "[encoded data removed]",
      "text/plain": [
       "<Figure size 432x288 with 1 Axes>"
      ]
     },
     "metadata": {
      "needs_background": "light"
     },
     "output_type": "display_data"
    }
   ],
   "source": [
    "data.hist('airports_nearest', bins=30)\n",
    "data['airports_nearest'].describe()"
   ]
  },
  {
   "cell_type": "markdown",
   "metadata": {},
   "source": [
    "Аэропорты Пулково и Горелово расположены диаметрально противоположно от центра Петербурга, поэтому расстояние не превосходит радиуса Питера в 67 километров. Около нуля значений нет - аэропорт стоит в поле. Всё логично.\n",
    " - расстояние до ближайшего парка:"
   ]
  },
  {
   "cell_type": "code",
   "execution_count": 67,
   "metadata": {},
   "outputs": [
    {
     "data": {
      "text/plain": [
       "count    4777.000000\n",
       "mean      485.449864\n",
       "std       314.193627\n",
       "min         1.000000\n",
       "25%       298.000000\n",
       "50%       458.000000\n",
       "75%       611.000000\n",
       "max      3064.000000\n",
       "Name: parks_nearest, dtype: float64"
      ]
     },
     "execution_count": 67,
     "metadata": {},
     "output_type": "execute_result"
    },
    {
     "data": {
      "image/png": "[encoded data removed]",
      "text/plain": [
       "<Figure size 432x288 with 1 Axes>"
      ]
     },
     "metadata": {
      "needs_background": "light"
     },
     "output_type": "display_data"
    }
   ],
   "source": [
    "data.hist('parks_nearest', bins=30)\n",
    "data['parks_nearest'].describe()"
   ]
  },
  {
   "cell_type": "markdown",
   "metadata": {},
   "source": [
    "Парк почти всегда не более чем в километре от дома, что суть шаговая доступность. Хорошо. Вряд ли этот параметр будет на что-то влиять, если парк не прямо перед окном.\n",
    " - день и месяц публикации объявления:"
   ]
  },
  {
   "cell_type": "code",
   "execution_count": 68,
   "metadata": {},
   "outputs": [
    {
     "name": "stdout",
     "output_type": "stream",
     "text": [
      "count    15057.000000\n",
      "mean         2.572956\n",
      "std          1.791357\n",
      "min          0.000000\n",
      "25%          1.000000\n",
      "50%          3.000000\n",
      "75%          4.000000\n",
      "max          6.000000\n",
      "Name: publication_day, dtype: float64\n"
     ]
    },
    {
     "data": {
      "text/plain": [
       "count    15057.000000\n",
       "mean         6.372717\n",
       "std          3.497231\n",
       "min          1.000000\n",
       "25%          3.000000\n",
       "50%          6.000000\n",
       "75%         10.000000\n",
       "max         12.000000\n",
       "Name: publication_month, dtype: float64"
      ]
     },
     "execution_count": 68,
     "metadata": {},
     "output_type": "execute_result"
    },
    {
     "data": {
      "image/png": "[encoded data removed]",
      "text/plain": [
       "<Figure size 432x288 with 1 Axes>"
      ]
     },
     "metadata": {
      "needs_background": "light"
     },
     "output_type": "display_data"
    },
    {
     "data": {
      "image/png": "[encoded data removed]",
      "text/plain": [
       "<Figure size 432x288 with 1 Axes>"
      ]
     },
     "metadata": {
      "needs_background": "light"
     },
     "output_type": "display_data"
    }
   ],
   "source": [
    "data.hist('publication_day', bins=7)\n",
    "print(data['publication_day'].describe())\n",
    "data.hist('publication_month', bins=12)\n",
    "data['publication_month'].describe()"
   ]
  },
  {
   "cell_type": "markdown",
   "metadata": {},
   "source": [
    "Чаще объявления дают весной и осенью в будние дни."
   ]
  },
  {
   "cell_type": "markdown",
   "metadata": {},
   "source": [
    "выполним задание: \"Изучите, как быстро продавались квартиры (столбец days_exposition). Этот параметр показывает, сколько дней «висело» каждое объявление.  \n",
    "   - Постройте гистограмму.  \n",
    "   - Посчитайте среднее и медиану.  \n",
    "   - В ячейке типа markdown опишите, сколько обычно занимает продажа. Какие продажи можно считать быстрыми, а какие — необычно долгими?\""
   ]
  },
  {
   "cell_type": "code",
   "execution_count": 69,
   "metadata": {},
   "outputs": [
    {
     "data": {
      "text/plain": [
       "<AxesSubplot:>"
      ]
     },
     "execution_count": 69,
     "metadata": {},
     "output_type": "execute_result"
    },
    {
     "data": {
      "image/png": "[encoded data removed]",
      "text/plain": [
       "<Figure size 432x288 with 1 Axes>"
      ]
     },
     "metadata": {
      "needs_background": "light"
     },
     "output_type": "display_data"
    }
   ],
   "source": [
    "data['days_exposition'].hist()"
   ]
  },
  {
   "cell_type": "markdown",
   "metadata": {},
   "source": [
    "Второй пик - значения, которые я вписал на место отсутствующих. Видимо это было неправильно, и теперь они будут мешать среднему и медиане. Чтобы не учитывать их, возьмем срез до 700 дней, и будем работать с ним."
   ]
  },
  {
   "cell_type": "code",
   "execution_count": 70,
   "metadata": {},
   "outputs": [
    {
     "data": {
      "text/plain": [
       "<AxesSubplot:>"
      ]
     },
     "execution_count": 70,
     "metadata": {},
     "output_type": "execute_result"
    },
    {
     "data": {
      "image/png": "[encoded data removed]",
      "text/plain": [
       "<Figure size 432x288 with 1 Axes>"
      ]
     },
     "metadata": {
      "needs_background": "light"
     },
     "output_type": "display_data"
    }
   ],
   "source": [
    "exposition_slice = data[data['days_exposition']<=700]['days_exposition']\n",
    "exposition_slice.hist()"
   ]
  },
  {
   "cell_type": "code",
   "execution_count": 71,
   "metadata": {},
   "outputs": [
    {
     "data": {
      "text/plain": [
       "count    12692.000000\n",
       "mean       143.750236\n",
       "std        147.966293\n",
       "min          1.000000\n",
       "25%         43.000000\n",
       "50%         87.000000\n",
       "75%        196.000000\n",
       "max        700.000000\n",
       "Name: days_exposition, dtype: float64"
      ]
     },
     "execution_count": 71,
     "metadata": {},
     "output_type": "execute_result"
    }
   ],
   "source": [
    "exposition_slice.describe()"
   ]
  },
  {
   "cell_type": "markdown",
   "metadata": {},
   "source": [
    "Среднее - 143 дня, медиана - 87 дней."
   ]
  },
  {
   "cell_type": "code",
   "execution_count": 72,
   "metadata": {},
   "outputs": [
    {
     "data": {
      "text/plain": [
       "<AxesSubplot:>"
      ]
     },
     "execution_count": 72,
     "metadata": {},
     "output_type": "execute_result"
    },
    {
     "data": {
      "image/png": "[encoded data removed]",
      "text/plain": [
       "<Figure size 432x288 with 1 Axes>"
      ]
     },
     "metadata": {
      "needs_background": "light"
     },
     "output_type": "display_data"
    }
   ],
   "source": [
    "exposition_slice.plot.box()"
   ]
  },
  {
   "cell_type": "markdown",
   "metadata": {},
   "source": [
    "В среднем продажа занимает от месяца до полугода. Значения меньше месяца можно считать быстрыми, больше 400 дней - долгими."
   ]
  },
  {
   "cell_type": "markdown",
   "metadata": {},
   "source": [
    " выполним задание: \"Какие факторы больше всего влияют на общую (полную) стоимость объекта? Постройте графики, которые покажут зависимость цены от указанных ниже параметров. Для подготовки данных перед визуализацией вы можете использовать сводные таблицы.\"  \n",
    " - общей площади;  \n",
    " - жилой площади;  \n",
    " - площади кухни;  \n",
    " - количество комнат;  \n",
    " - типа этажа, на котором расположена квартира (первый, последний, другой);  \n",
    " - даты размещения (день недели, месяц, год).:"
   ]
  },
  {
   "cell_type": "code",
   "execution_count": 73,
   "metadata": {
    "scrolled": false
   },
   "outputs": [
    {
     "data": {
      "image/png": "[encoded data removed]",
      "text/plain": [
       "<Figure size 432x288 with 1 Axes>"
      ]
     },
     "metadata": {
      "needs_background": "light"
     },
     "output_type": "display_data"
    },
    {
     "data": {
      "image/png": "[encoded data removed]",
      "text/plain": [
       "<Figure size 432x288 with 1 Axes>"
      ]
     },
     "metadata": {
      "needs_background": "light"
     },
     "output_type": "display_data"
    },
    {
     "data": {
      "image/png": "[encoded data removed]",
      "text/plain": [
       "<Figure size 432x288 with 1 Axes>"
      ]
     },
     "metadata": {
      "needs_background": "light"
     },
     "output_type": "display_data"
    },
    {
     "data": {
      "image/png": "[encoded data removed]",
      "text/plain": [
       "<Figure size 432x288 with 1 Axes>"
      ]
     },
     "metadata": {
      "needs_background": "light"
     },
     "output_type": "display_data"
    },
    {
     "data": {
      "image/png": "[encoded data removed]",
      "text/plain": [
       "<Figure size 432x288 with 1 Axes>"
      ]
     },
     "metadata": {
      "needs_background": "light"
     },
     "output_type": "display_data"
    },
    {
     "data": {
      "image/png": "[encoded data removed]",
      "text/plain": [
       "<Figure size 432x288 with 1 Axes>"
      ]
     },
     "metadata": {
      "needs_background": "light"
     },
     "output_type": "display_data"
    },
    {
     "data": {
      "image/png": "[encoded data removed]",
      "text/plain": [
       "<Figure size 432x288 with 1 Axes>"
      ]
     },
     "metadata": {
      "needs_background": "light"
     },
     "output_type": "display_data"
    },
    {
     "data": {
      "image/png": "[encoded data removed]",
      "text/plain": [
       "<Figure size 432x288 with 1 Axes>"
      ]
     },
     "metadata": {
      "needs_background": "light"
     },
     "output_type": "display_data"
    }
   ],
   "source": [
    "import matplotlib.pyplot as plt\n",
    "for param in ('total_area', 'living_area', 'kitchen_area', 'rooms', 'floor_type',\n",
    "              'publication_day', 'publication_month', 'publication_year'):\n",
    "    data.plot(x=param, y='last_price', kind='scatter')\n",
    "    plt.show()\n"
   ]
  },
  {
   "cell_type": "code",
   "execution_count": 76,
   "metadata": {
    "scrolled": true
   },
   "outputs": [
    {
     "data": {
      "text/html": [
       "<div>\n",
       "<style scoped>\n",
       "    .dataframe tbody tr th:only-of-type {\n",
       "        vertical-align: middle;\n",
       "    }\n",
       "\n",
       "    .dataframe tbody tr th {\n",
       "        vertical-align: top;\n",
       "    }\n",
       "\n",
       "    .dataframe thead th {\n",
       "        text-align: right;\n",
       "    }\n",
       "</style>\n",
       "<table border=\"1\" class=\"dataframe\">\n",
       "  <thead>\n",
       "    <tr style=\"text-align: right;\">\n",
       "      <th></th>\n",
       "      <th>last_price</th>\n",
       "      <th>total_area</th>\n",
       "      <th>living_area</th>\n",
       "      <th>kitchen_area</th>\n",
       "      <th>rooms</th>\n",
       "      <th>publication_day</th>\n",
       "      <th>publication_month</th>\n",
       "      <th>publication_year</th>\n",
       "    </tr>\n",
       "  </thead>\n",
       "  <tbody>\n",
       "    <tr>\n",
       "      <th>last_price</th>\n",
       "      <td>1.000000</td>\n",
       "      <td>0.604052</td>\n",
       "      <td>0.449439</td>\n",
       "      <td>0.445647</td>\n",
       "      <td>0.297805</td>\n",
       "      <td>-0.011346</td>\n",
       "      <td>0.001395</td>\n",
       "      <td>0.030399</td>\n",
       "    </tr>\n",
       "    <tr>\n",
       "      <th>total_area</th>\n",
       "      <td>0.604052</td>\n",
       "      <td>1.000000</td>\n",
       "      <td>0.860439</td>\n",
       "      <td>0.417699</td>\n",
       "      <td>0.736894</td>\n",
       "      <td>-0.006160</td>\n",
       "      <td>0.008364</td>\n",
       "      <td>-0.049158</td>\n",
       "    </tr>\n",
       "    <tr>\n",
       "      <th>living_area</th>\n",
       "      <td>0.449439</td>\n",
       "      <td>0.860439</td>\n",
       "      <td>1.000000</td>\n",
       "      <td>0.110216</td>\n",
       "      <td>0.843039</td>\n",
       "      <td>-0.002174</td>\n",
       "      <td>0.001131</td>\n",
       "      <td>-0.037561</td>\n",
       "    </tr>\n",
       "    <tr>\n",
       "      <th>kitchen_area</th>\n",
       "      <td>0.445647</td>\n",
       "      <td>0.417699</td>\n",
       "      <td>0.110216</td>\n",
       "      <td>1.000000</td>\n",
       "      <td>-0.074264</td>\n",
       "      <td>-0.004609</td>\n",
       "      <td>0.021855</td>\n",
       "      <td>-0.041323</td>\n",
       "    </tr>\n",
       "    <tr>\n",
       "      <th>rooms</th>\n",
       "      <td>0.297805</td>\n",
       "      <td>0.736894</td>\n",
       "      <td>0.843039</td>\n",
       "      <td>-0.074264</td>\n",
       "      <td>1.000000</td>\n",
       "      <td>0.003565</td>\n",
       "      <td>0.000345</td>\n",
       "      <td>-0.019663</td>\n",
       "    </tr>\n",
       "    <tr>\n",
       "      <th>publication_day</th>\n",
       "      <td>-0.011346</td>\n",
       "      <td>-0.006160</td>\n",
       "      <td>-0.002174</td>\n",
       "      <td>-0.004609</td>\n",
       "      <td>0.003565</td>\n",
       "      <td>1.000000</td>\n",
       "      <td>0.009686</td>\n",
       "      <td>-0.000410</td>\n",
       "    </tr>\n",
       "    <tr>\n",
       "      <th>publication_month</th>\n",
       "      <td>0.001395</td>\n",
       "      <td>0.008364</td>\n",
       "      <td>0.001131</td>\n",
       "      <td>0.021855</td>\n",
       "      <td>0.000345</td>\n",
       "      <td>0.009686</td>\n",
       "      <td>1.000000</td>\n",
       "      <td>-0.269529</td>\n",
       "    </tr>\n",
       "    <tr>\n",
       "      <th>publication_year</th>\n",
       "      <td>0.030399</td>\n",
       "      <td>-0.049158</td>\n",
       "      <td>-0.037561</td>\n",
       "      <td>-0.041323</td>\n",
       "      <td>-0.019663</td>\n",
       "      <td>-0.000410</td>\n",
       "      <td>-0.269529</td>\n",
       "      <td>1.000000</td>\n",
       "    </tr>\n",
       "  </tbody>\n",
       "</table>\n",
       "</div>"
      ],
      "text/plain": [
       "                   last_price  total_area  living_area  kitchen_area  \\\n",
       "last_price           1.000000    0.604052     0.449439      0.445647   \n",
       "total_area           0.604052    1.000000     0.860439      0.417699   \n",
       "living_area          0.449439    0.860439     1.000000      0.110216   \n",
       "kitchen_area         0.445647    0.417699     0.110216      1.000000   \n",
       "rooms                0.297805    0.736894     0.843039     -0.074264   \n",
       "publication_day     -0.011346   -0.006160    -0.002174     -0.004609   \n",
       "publication_month    0.001395    0.008364     0.001131      0.021855   \n",
       "publication_year     0.030399   -0.049158    -0.037561     -0.041323   \n",
       "\n",
       "                      rooms  publication_day  publication_month  \\\n",
       "last_price         0.297805        -0.011346           0.001395   \n",
       "total_area         0.736894        -0.006160           0.008364   \n",
       "living_area        0.843039        -0.002174           0.001131   \n",
       "kitchen_area      -0.074264        -0.004609           0.021855   \n",
       "rooms              1.000000         0.003565           0.000345   \n",
       "publication_day    0.003565         1.000000           0.009686   \n",
       "publication_month  0.000345         0.009686           1.000000   \n",
       "publication_year  -0.019663        -0.000410          -0.269529   \n",
       "\n",
       "                   publication_year  \n",
       "last_price                 0.030399  \n",
       "total_area                -0.049158  \n",
       "living_area               -0.037561  \n",
       "kitchen_area              -0.041323  \n",
       "rooms                     -0.019663  \n",
       "publication_day           -0.000410  \n",
       "publication_month         -0.269529  \n",
       "publication_year           1.000000  "
      ]
     },
     "execution_count": 76,
     "metadata": {},
     "output_type": "execute_result"
    }
   ],
   "source": [
    "data[['last_price', 'total_area', 'living_area', 'kitchen_area', 'rooms', 'floor_type',\n",
    "              'publication_day', 'publication_month', 'publication_year']].corr()"
   ]
  },
  {
   "cell_type": "markdown",
   "metadata": {},
   "source": [
    "Сильнее всего (с коэффициентом 0.6) на цену влияет общая площадь. Не многим меньше - жилая площадь и площадь кухни. Наблюдается зависимость от количества комнат, но она опять же обусловлена общей площадью. В целом, единственный действительно важный параметр - общая площадь жилья."
   ]
  },
  {
   "cell_type": "markdown",
   "metadata": {},
   "source": [
    "выполним задание: \"Посчитайте среднюю цену одного квадратного метра в 10 населённых пунктах с наибольшим числом объявлений. Выделите населённые пункты с самой высокой и низкой стоимостью квадратного метра. Эти данные можно найти по имени в столбце locality_name.\""
   ]
  },
  {
   "cell_type": "code",
   "execution_count": 77,
   "metadata": {},
   "outputs": [
    {
     "data": {
      "text/html": [
       "<div>\n",
       "<style scoped>\n",
       "    .dataframe tbody tr th:only-of-type {\n",
       "        vertical-align: middle;\n",
       "    }\n",
       "\n",
       "    .dataframe tbody tr th {\n",
       "        vertical-align: top;\n",
       "    }\n",
       "\n",
       "    .dataframe thead tr th {\n",
       "        text-align: left;\n",
       "    }\n",
       "\n",
       "    .dataframe thead tr:last-of-type th {\n",
       "        text-align: right;\n",
       "    }\n",
       "</style>\n",
       "<table border=\"1\" class=\"dataframe\">\n",
       "  <thead>\n",
       "    <tr>\n",
       "      <th></th>\n",
       "      <th>count</th>\n",
       "      <th>mean</th>\n",
       "    </tr>\n",
       "    <tr>\n",
       "      <th></th>\n",
       "      <th>per_meter</th>\n",
       "      <th>per_meter</th>\n",
       "    </tr>\n",
       "    <tr>\n",
       "      <th>locality_name</th>\n",
       "      <th></th>\n",
       "      <th></th>\n",
       "    </tr>\n",
       "  </thead>\n",
       "  <tbody>\n",
       "    <tr>\n",
       "      <th>Санкт-Петербург</th>\n",
       "      <td>9734</td>\n",
       "      <td>101851.259833</td>\n",
       "    </tr>\n",
       "    <tr>\n",
       "      <th>поселок Шушары</th>\n",
       "      <td>312</td>\n",
       "      <td>74986.432608</td>\n",
       "    </tr>\n",
       "    <tr>\n",
       "      <th>Всеволожск</th>\n",
       "      <td>287</td>\n",
       "      <td>65596.848253</td>\n",
       "    </tr>\n",
       "    <tr>\n",
       "      <th>Колпино</th>\n",
       "      <td>265</td>\n",
       "      <td>73061.389518</td>\n",
       "    </tr>\n",
       "    <tr>\n",
       "      <th>Пушкин</th>\n",
       "      <td>255</td>\n",
       "      <td>98735.876552</td>\n",
       "    </tr>\n",
       "    <tr>\n",
       "      <th>Гатчина</th>\n",
       "      <td>237</td>\n",
       "      <td>67609.427047</td>\n",
       "    </tr>\n",
       "    <tr>\n",
       "      <th>поселок Мурино</th>\n",
       "      <td>223</td>\n",
       "      <td>79334.369249</td>\n",
       "    </tr>\n",
       "    <tr>\n",
       "      <th>Выборг</th>\n",
       "      <td>171</td>\n",
       "      <td>57162.888937</td>\n",
       "    </tr>\n",
       "    <tr>\n",
       "      <th>поселок Парголово</th>\n",
       "      <td>167</td>\n",
       "      <td>84032.491641</td>\n",
       "    </tr>\n",
       "    <tr>\n",
       "      <th>Петергоф</th>\n",
       "      <td>152</td>\n",
       "      <td>81896.580619</td>\n",
       "    </tr>\n",
       "  </tbody>\n",
       "</table>\n",
       "</div>"
      ],
      "text/plain": [
       "                      count           mean\n",
       "                  per_meter      per_meter\n",
       "locality_name                             \n",
       "Санкт-Петербург        9734  101851.259833\n",
       "поселок Шушары          312   74986.432608\n",
       "Всеволожск              287   65596.848253\n",
       "Колпино                 265   73061.389518\n",
       "Пушкин                  255   98735.876552\n",
       "Гатчина                 237   67609.427047\n",
       "поселок Мурино          223   79334.369249\n",
       "Выборг                  171   57162.888937\n",
       "поселок Парголово       167   84032.491641\n",
       "Петергоф                152   81896.580619"
      ]
     },
     "execution_count": 77,
     "metadata": {},
     "output_type": "execute_result"
    }
   ],
   "source": [
    "locality = pd.pivot_table(data, index='locality_name', values='per_meter', aggfunc=['count','mean'])\n",
    "locality = locality.sort_values(by=('count', 'per_meter'), ascending=False).head(10)\n",
    "locality"
   ]
  },
  {
   "cell_type": "code",
   "execution_count": 78,
   "metadata": {},
   "outputs": [
    {
     "data": {
      "text/plain": [
       "count        10.000000\n",
       "mean      78426.756426\n",
       "std       14062.762640\n",
       "min       57162.888937\n",
       "25%       68972.417665\n",
       "50%       77160.400929\n",
       "75%       83498.513885\n",
       "max      101851.259833\n",
       "Name: (mean, per_meter), dtype: float64"
      ]
     },
     "execution_count": 78,
     "metadata": {},
     "output_type": "execute_result"
    }
   ],
   "source": [
    "locality['mean', 'per_meter'].describe()"
   ]
  },
  {
   "cell_type": "markdown",
   "metadata": {},
   "source": [
    "Выделяющаяся цена квартир в Петербурге не удивительна. Удивительна их дешевизна в Выборге. "
   ]
  },
  {
   "cell_type": "markdown",
   "metadata": {},
   "source": [
    "выполним задание: \"Ранее вы посчитали расстояние до центра в километрах. Теперь выделите квартиры в Санкт-Петербурге с помощью столбца `locality_name` и вычислите среднюю цену каждого километра. Опишите, как стоимость объектов зависит от расстояния до центра города.\":"
   ]
  },
  {
   "cell_type": "code",
   "execution_count": 80,
   "metadata": {},
   "outputs": [
    {
     "data": {
      "image/png": "[encoded data removed]",
      "text/plain": [
       "<Figure size 432x288 with 2 Axes>"
      ]
     },
     "metadata": {
      "needs_background": "light"
     },
     "output_type": "display_data"
    }
   ],
   "source": [
    "(pd.pivot_table(data[data['locality_name']=='Санкт-Петербург'],\n",
    "               index='cityCenters_nearest_km', values=['last_price', 'per_meter'])\n",
    " .plot(subplots=True, title = 'Заголовок')\n",
    " \n",
    ");\n"
   ]
  },
  {
   "cell_type": "markdown",
   "metadata": {},
   "source": [
    "Цена квадратного метра, равно как и стоимость квартиры, падает с увеличением расстояния от центра Петербурга. Скачки на графиках очень схожи, значит, дело не в метраже квартиры - расстояние важно само по себе."
   ]
  },
  {
   "cell_type": "markdown",
   "metadata": {},
   "source": [
    "#### Вывод:  \n",
    "Главными параметрами, отвечающими за стоимость квартиры, являются общая площадь и расстояние от центра.  \n",
    "Квартира продается в срок от нескольких месяцев до полугода.  \n",
    "Квартиры в Петербурге существенно дороже, чем в провинции."
   ]
  },
  {
   "cell_type": "markdown",
   "metadata": {},
   "source": [
    "### Общий вывод"
   ]
  },
  {
   "cell_type": "markdown",
   "metadata": {},
   "source": [
    "В рамках исследования были обнаружены существенные проблемы и недочеты в сборе данных командой разработчиков Яндекс.Недвижимость.  \n",
    "Совет: передать баг репорты разработчикам\n",
    "Главными параметрами, отвечающими за стоимость квартиры, являются общая площадь и расстояние от центра.  \n",
    "Квартира продается в срок от нескольких месяцев до полугода.  \n",
    "Совет: предлагать хозяину буст объявления/отдельно отслеживать объявления, висящие дольше года."
   ]
  },
  {
   "cell_type": "markdown",
   "metadata": {},
   "source": [
    "**Чек-лист готовности проекта**\n",
    "\n",
    "Поставьте 'x' в выполненных пунктах. Далее нажмите Shift+Enter."
   ]
  },
  {
   "cell_type": "markdown",
   "metadata": {},
   "source": [
    "- [x]  открыт файл\n",
    "- [x]  файлы изучены (выведены первые строки, метод `info()`, гистограммы и т.д.)\n",
    "- [x]  определены пропущенные значения\n",
    "- [x]  заполнены пропущенные значения там, где это возможно\n",
    "- [x]  есть пояснение, какие пропущенные значения обнаружены\n",
    "- [x]  изменены типы данных\n",
    "- [x]  есть пояснение, в каких столбцах изменены типы и почему\n",
    "- [x]  устранены неявные дубликаты в названиях населённых пунктов\n",
    "- [x]  устранены редкие и выбивающиеся значения (аномалии) во всех столбцах\n",
    "- [x]  посчитано и добавлено в таблицу: цена одного квадратного метра\n",
    "- [x]  посчитано и добавлено в таблицу: день публикации объявления (0 - понедельник, 1 - вторник и т.д.)\n",
    "- [x]  посчитано и добавлено в таблицу: месяц публикации объявления\n",
    "- [x]  посчитано и добавлено в таблицу: год публикации объявления\n",
    "- [x]  посчитано и добавлено в таблицу: тип этажа квартиры (значения — «первый», «последний», «другой»)\n",
    "- [x]  посчитано и добавлено в таблицу: расстояние в км до центра города\n",
    "- [x]  изучены и описаны следующие параметры:\n",
    "        - общая площадь;\n",
    "        - жилая площадь;\n",
    "        - площадь кухни;\n",
    "        - цена объекта;\n",
    "        - количество комнат;\n",
    "        - высота потолков;\n",
    "        - этаж квартиры;\n",
    "        - тип этажа квартиры («первый», «последний», «другой»);\n",
    "        - общее количество этажей в доме;\n",
    "        - расстояние до центра города в метрах;\n",
    "        - расстояние до ближайшего аэропорта;\n",
    "        - расстояние до ближайшего парка;\n",
    "        - день и месяц публикации объявления\n",
    "- [x]  построены гистограммы для каждого параметра\n",
    "- [x]  выполнено задание: \"Изучите, как быстро продавались квартиры (столбец days_exposition). Этот параметр показывает, сколько дней «висело» каждое объявление.\n",
    "    - Постройте гистограмму.\n",
    "    - Посчитайте среднее и медиану.\n",
    "    - В ячейке типа markdown опишите, сколько обычно занимает продажа. Какие продажи можно считать быстрыми, а какие — необычно долгими?\"\n",
    "- [x]  выполнено задание: \"Какие факторы больше всего влияют на общую (полную) стоимость объекта? Постройте графики, которые покажут зависимость цены от указанных ниже параметров. Для подготовки данных перед визуализацией вы можете использовать сводные таблицы.\"\n",
    "        - общей площади;\n",
    "        - жилой площади;\n",
    "        - площади кухни;\n",
    "        - количество комнат;\n",
    "        - типа этажа, на котором расположена квартира (первый, последний, другой);\n",
    "        - даты размещения (день недели, месяц, год);\n",
    "- [x]  выполнено задание: \"Посчитайте среднюю цену одного квадратного метра в 10 населённых пунктах с наибольшим числом объявлений. Выделите населённые пункты с самой высокой и низкой стоимостью квадратного метра. Эти данные можно найти по имени в столбце `locality_name`.\"\n",
    "- [x]  выполнено задание: \"Ранее вы посчитали расстояние до центра в километрах. Теперь выделите квартиры в Санкт-Петербурге с помощью столбца `locality_name` и вычислите среднюю цену каждого километра. Опишите, как стоимость объектов зависит от расстояния до центра города.\"\n",
    "- [x]  в каждом этапе есть промежуточные выводы\n",
    "- [x]  есть общий вывод"
   ]
  }
 ],
 "metadata": {
  "ExecuteTimeLog": [
   {
    "duration": 860,
    "start_time": "2023-02-26T22:03:32.037Z"
   },
   {
    "duration": 0,
    "start_time": "2023-02-26T22:03:32.900Z"
   },
   {
    "duration": 0,
    "start_time": "2023-02-26T22:03:32.902Z"
   },
   {
    "duration": 0,
    "start_time": "2023-02-26T22:03:32.903Z"
   },
   {
    "duration": 0,
    "start_time": "2023-02-26T22:03:32.904Z"
   },
   {
    "duration": 0,
    "start_time": "2023-02-26T22:03:32.905Z"
   },
   {
    "duration": 0,
    "start_time": "2023-02-26T22:03:32.906Z"
   },
   {
    "duration": 0,
    "start_time": "2023-02-26T22:03:32.907Z"
   },
   {
    "duration": 0,
    "start_time": "2023-02-26T22:03:32.908Z"
   },
   {
    "duration": 0,
    "start_time": "2023-02-26T22:03:32.909Z"
   },
   {
    "duration": 0,
    "start_time": "2023-02-26T22:03:32.910Z"
   },
   {
    "duration": 0,
    "start_time": "2023-02-26T22:03:32.911Z"
   },
   {
    "duration": 0,
    "start_time": "2023-02-26T22:03:32.912Z"
   },
   {
    "duration": 1,
    "start_time": "2023-02-26T22:03:32.912Z"
   },
   {
    "duration": 0,
    "start_time": "2023-02-26T22:03:32.913Z"
   },
   {
    "duration": 0,
    "start_time": "2023-02-26T22:03:32.914Z"
   },
   {
    "duration": 0,
    "start_time": "2023-02-26T22:03:32.938Z"
   },
   {
    "duration": 1,
    "start_time": "2023-02-26T22:03:32.939Z"
   },
   {
    "duration": 0,
    "start_time": "2023-02-26T22:03:32.941Z"
   },
   {
    "duration": 0,
    "start_time": "2023-02-26T22:03:32.943Z"
   },
   {
    "duration": 0,
    "start_time": "2023-02-26T22:03:32.944Z"
   },
   {
    "duration": 0,
    "start_time": "2023-02-26T22:03:32.945Z"
   },
   {
    "duration": 0,
    "start_time": "2023-02-26T22:03:32.947Z"
   },
   {
    "duration": 0,
    "start_time": "2023-02-26T22:03:32.948Z"
   },
   {
    "duration": 0,
    "start_time": "2023-02-26T22:03:32.949Z"
   },
   {
    "duration": 0,
    "start_time": "2023-02-26T22:03:32.950Z"
   },
   {
    "duration": 0,
    "start_time": "2023-02-26T22:03:32.952Z"
   },
   {
    "duration": 0,
    "start_time": "2023-02-26T22:03:32.953Z"
   },
   {
    "duration": 0,
    "start_time": "2023-02-26T22:03:32.954Z"
   },
   {
    "duration": 0,
    "start_time": "2023-02-26T22:03:32.956Z"
   },
   {
    "duration": 0,
    "start_time": "2023-02-26T22:03:32.956Z"
   },
   {
    "duration": 0,
    "start_time": "2023-02-26T22:03:32.958Z"
   },
   {
    "duration": 0,
    "start_time": "2023-02-26T22:03:32.959Z"
   },
   {
    "duration": 0,
    "start_time": "2023-02-26T22:03:32.960Z"
   },
   {
    "duration": 0,
    "start_time": "2023-02-26T22:03:32.961Z"
   },
   {
    "duration": 0,
    "start_time": "2023-02-26T22:03:32.962Z"
   },
   {
    "duration": 0,
    "start_time": "2023-02-26T22:03:32.964Z"
   },
   {
    "duration": 0,
    "start_time": "2023-02-26T22:03:32.965Z"
   },
   {
    "duration": 0,
    "start_time": "2023-02-26T22:03:32.966Z"
   },
   {
    "duration": 0,
    "start_time": "2023-02-26T22:03:32.967Z"
   },
   {
    "duration": 0,
    "start_time": "2023-02-26T22:03:32.968Z"
   },
   {
    "duration": 0,
    "start_time": "2023-02-26T22:03:32.970Z"
   },
   {
    "duration": 0,
    "start_time": "2023-02-26T22:03:32.971Z"
   },
   {
    "duration": 0,
    "start_time": "2023-02-26T22:03:32.972Z"
   },
   {
    "duration": 0,
    "start_time": "2023-02-26T22:03:32.973Z"
   },
   {
    "duration": 0,
    "start_time": "2023-02-26T22:03:32.974Z"
   },
   {
    "duration": 0,
    "start_time": "2023-02-26T22:03:32.975Z"
   },
   {
    "duration": 0,
    "start_time": "2023-02-26T22:03:32.976Z"
   },
   {
    "duration": 0,
    "start_time": "2023-02-26T22:03:33.037Z"
   },
   {
    "duration": 0,
    "start_time": "2023-02-26T22:03:33.039Z"
   },
   {
    "duration": 0,
    "start_time": "2023-02-26T22:03:33.040Z"
   },
   {
    "duration": 0,
    "start_time": "2023-02-26T22:03:33.041Z"
   },
   {
    "duration": 1,
    "start_time": "2023-02-26T22:03:33.042Z"
   },
   {
    "duration": 0,
    "start_time": "2023-02-26T22:03:33.044Z"
   },
   {
    "duration": 0,
    "start_time": "2023-02-26T22:03:33.045Z"
   },
   {
    "duration": 0,
    "start_time": "2023-02-26T22:03:33.047Z"
   },
   {
    "duration": 0,
    "start_time": "2023-02-26T22:03:33.048Z"
   },
   {
    "duration": 0,
    "start_time": "2023-02-26T22:03:33.049Z"
   },
   {
    "duration": 0,
    "start_time": "2023-02-26T22:03:33.050Z"
   },
   {
    "duration": 0,
    "start_time": "2023-02-26T22:03:33.052Z"
   },
   {
    "duration": 0,
    "start_time": "2023-02-26T22:03:33.053Z"
   },
   {
    "duration": 0,
    "start_time": "2023-02-26T22:03:33.054Z"
   },
   {
    "duration": 0,
    "start_time": "2023-02-26T22:03:33.055Z"
   },
   {
    "duration": 0,
    "start_time": "2023-02-26T22:03:33.057Z"
   },
   {
    "duration": 0,
    "start_time": "2023-02-26T22:03:33.058Z"
   },
   {
    "duration": 0,
    "start_time": "2023-02-26T22:03:33.059Z"
   },
   {
    "duration": 0,
    "start_time": "2023-02-26T22:03:33.061Z"
   },
   {
    "duration": 0,
    "start_time": "2023-02-26T22:03:33.062Z"
   },
   {
    "duration": 0,
    "start_time": "2023-02-26T22:03:33.063Z"
   },
   {
    "duration": 0,
    "start_time": "2023-02-26T22:03:33.065Z"
   },
   {
    "duration": 0,
    "start_time": "2023-02-26T22:03:33.066Z"
   },
   {
    "duration": 0,
    "start_time": "2023-02-26T22:03:33.067Z"
   },
   {
    "duration": 1,
    "start_time": "2023-02-26T22:03:33.068Z"
   },
   {
    "duration": 0,
    "start_time": "2023-02-26T22:03:33.069Z"
   },
   {
    "duration": 0,
    "start_time": "2023-02-26T22:03:33.071Z"
   },
   {
    "duration": 0,
    "start_time": "2023-02-26T22:03:33.072Z"
   },
   {
    "duration": 0,
    "start_time": "2023-02-26T22:03:33.074Z"
   },
   {
    "duration": 2883,
    "start_time": "2023-02-26T22:04:14.182Z"
   },
   {
    "duration": 12,
    "start_time": "2023-02-26T22:04:17.067Z"
   },
   {
    "duration": 13,
    "start_time": "2023-02-26T22:04:17.081Z"
   },
   {
    "duration": 4,
    "start_time": "2023-02-26T22:04:17.096Z"
   },
   {
    "duration": 8,
    "start_time": "2023-02-26T22:04:17.101Z"
   },
   {
    "duration": 48,
    "start_time": "2023-02-26T22:04:17.110Z"
   },
   {
    "duration": 5,
    "start_time": "2023-02-26T22:04:17.159Z"
   },
   {
    "duration": 9,
    "start_time": "2023-02-26T22:04:17.165Z"
   },
   {
    "duration": 11,
    "start_time": "2023-02-26T22:04:17.175Z"
   },
   {
    "duration": 6,
    "start_time": "2023-02-26T22:04:17.189Z"
   },
   {
    "duration": 10,
    "start_time": "2023-02-26T22:04:17.197Z"
   },
   {
    "duration": 30,
    "start_time": "2023-02-26T22:04:17.209Z"
   },
   {
    "duration": 13,
    "start_time": "2023-02-26T22:04:17.242Z"
   },
   {
    "duration": 3,
    "start_time": "2023-02-26T22:04:17.257Z"
   },
   {
    "duration": 6,
    "start_time": "2023-02-26T22:04:17.261Z"
   },
   {
    "duration": 3,
    "start_time": "2023-02-26T22:04:17.268Z"
   },
   {
    "duration": 7,
    "start_time": "2023-02-26T22:04:17.272Z"
   },
   {
    "duration": 19,
    "start_time": "2023-02-26T22:04:17.280Z"
   },
   {
    "duration": 37,
    "start_time": "2023-02-26T22:04:17.300Z"
   },
   {
    "duration": 18,
    "start_time": "2023-02-26T22:04:17.339Z"
   },
   {
    "duration": 21,
    "start_time": "2023-02-26T22:04:17.358Z"
   },
   {
    "duration": 2133,
    "start_time": "2023-02-26T22:04:17.380Z"
   },
   {
    "duration": 5,
    "start_time": "2023-02-26T22:04:19.514Z"
   },
   {
    "duration": 19,
    "start_time": "2023-02-26T22:04:19.520Z"
   },
   {
    "duration": 51,
    "start_time": "2023-02-26T22:04:19.541Z"
   },
   {
    "duration": 8,
    "start_time": "2023-02-26T22:04:19.593Z"
   },
   {
    "duration": 123,
    "start_time": "2023-02-26T22:04:19.602Z"
   },
   {
    "duration": 126,
    "start_time": "2023-02-26T22:04:19.736Z"
   },
   {
    "duration": 119,
    "start_time": "2023-02-26T22:04:19.864Z"
   },
   {
    "duration": 183,
    "start_time": "2023-02-26T22:04:19.985Z"
   },
   {
    "duration": 8,
    "start_time": "2023-02-26T22:04:20.170Z"
   },
   {
    "duration": 10,
    "start_time": "2023-02-26T22:04:20.179Z"
   },
   {
    "duration": 11,
    "start_time": "2023-02-26T22:04:20.191Z"
   },
   {
    "duration": 37,
    "start_time": "2023-02-26T22:04:20.203Z"
   },
   {
    "duration": 9,
    "start_time": "2023-02-26T22:04:20.242Z"
   },
   {
    "duration": 27,
    "start_time": "2023-02-26T22:04:20.253Z"
   },
   {
    "duration": 152,
    "start_time": "2023-02-26T22:04:20.281Z"
   },
   {
    "duration": 19,
    "start_time": "2023-02-26T22:04:20.436Z"
   },
   {
    "duration": 13,
    "start_time": "2023-02-26T22:04:20.457Z"
   },
   {
    "duration": 13,
    "start_time": "2023-02-26T22:04:20.471Z"
   },
   {
    "duration": 6,
    "start_time": "2023-02-26T22:04:20.485Z"
   },
   {
    "duration": 8,
    "start_time": "2023-02-26T22:04:20.493Z"
   },
   {
    "duration": 6,
    "start_time": "2023-02-26T22:04:20.502Z"
   },
   {
    "duration": 38,
    "start_time": "2023-02-26T22:04:20.510Z"
   },
   {
    "duration": 130,
    "start_time": "2023-02-26T22:04:20.550Z"
   },
   {
    "duration": 8,
    "start_time": "2023-02-26T22:04:20.682Z"
   },
   {
    "duration": 8,
    "start_time": "2023-02-26T22:04:20.691Z"
   },
   {
    "duration": 197,
    "start_time": "2023-02-26T22:04:20.701Z"
   },
   {
    "duration": 6,
    "start_time": "2023-02-26T22:04:20.900Z"
   },
   {
    "duration": 4,
    "start_time": "2023-02-26T22:04:20.908Z"
   },
   {
    "duration": 6,
    "start_time": "2023-02-26T22:04:20.914Z"
   },
   {
    "duration": 20,
    "start_time": "2023-02-26T22:04:20.921Z"
   },
   {
    "duration": 27,
    "start_time": "2023-02-26T22:04:20.942Z"
   },
   {
    "duration": 198,
    "start_time": "2023-02-26T22:04:20.971Z"
   },
   {
    "duration": 4,
    "start_time": "2023-02-26T22:04:21.170Z"
   },
   {
    "duration": 156,
    "start_time": "2023-02-26T22:04:21.175Z"
   },
   {
    "duration": 149,
    "start_time": "2023-02-26T22:04:21.333Z"
   },
   {
    "duration": 141,
    "start_time": "2023-02-26T22:04:21.483Z"
   },
   {
    "duration": 162,
    "start_time": "2023-02-26T22:04:21.626Z"
   },
   {
    "duration": 139,
    "start_time": "2023-02-26T22:04:21.789Z"
   },
   {
    "duration": 174,
    "start_time": "2023-02-26T22:04:21.930Z"
   },
   {
    "duration": 157,
    "start_time": "2023-02-26T22:04:22.106Z"
   },
   {
    "duration": 21,
    "start_time": "2023-02-26T22:04:22.265Z"
   },
   {
    "duration": 201,
    "start_time": "2023-02-26T22:04:22.288Z"
   },
   {
    "duration": 201,
    "start_time": "2023-02-26T22:04:22.491Z"
   },
   {
    "duration": 257,
    "start_time": "2023-02-26T22:04:22.694Z"
   },
   {
    "duration": 175,
    "start_time": "2023-02-26T22:04:22.953Z"
   },
   {
    "duration": 279,
    "start_time": "2023-02-26T22:04:23.130Z"
   },
   {
    "duration": 128,
    "start_time": "2023-02-26T22:04:23.411Z"
   },
   {
    "duration": 145,
    "start_time": "2023-02-26T22:04:23.540Z"
   },
   {
    "duration": 7,
    "start_time": "2023-02-26T22:04:23.687Z"
   },
   {
    "duration": 113,
    "start_time": "2023-02-26T22:04:23.696Z"
   },
   {
    "duration": 1151,
    "start_time": "2023-02-26T22:04:23.811Z"
   },
   {
    "duration": 77,
    "start_time": "2023-02-26T22:04:24.964Z"
   },
   {
    "duration": 0,
    "start_time": "2023-02-26T22:04:25.042Z"
   },
   {
    "duration": 0,
    "start_time": "2023-02-26T22:04:25.044Z"
   },
   {
    "duration": 0,
    "start_time": "2023-02-26T22:04:25.045Z"
   },
   {
    "duration": 16,
    "start_time": "2023-02-26T22:07:50.019Z"
   },
   {
    "duration": 17,
    "start_time": "2023-02-26T22:10:00.136Z"
   },
   {
    "duration": 30,
    "start_time": "2023-02-26T22:10:17.956Z"
   },
   {
    "duration": 8,
    "start_time": "2023-02-26T22:10:18.124Z"
   },
   {
    "duration": 282,
    "start_time": "2023-02-26T22:10:18.603Z"
   },
   {
    "duration": 328,
    "start_time": "2023-02-26T22:10:43.328Z"
   },
   {
    "duration": 44,
    "start_time": "2023-02-26T22:36:07.032Z"
   },
   {
    "duration": 3166,
    "start_time": "2023-02-26T22:36:13.945Z"
   },
   {
    "duration": 32,
    "start_time": "2023-02-26T22:36:17.114Z"
   },
   {
    "duration": 21,
    "start_time": "2023-02-26T22:36:17.148Z"
   },
   {
    "duration": 7,
    "start_time": "2023-02-26T22:36:17.172Z"
   },
   {
    "duration": 8,
    "start_time": "2023-02-26T22:36:17.181Z"
   },
   {
    "duration": 60,
    "start_time": "2023-02-26T22:36:17.191Z"
   },
   {
    "duration": 5,
    "start_time": "2023-02-26T22:36:17.253Z"
   },
   {
    "duration": 9,
    "start_time": "2023-02-26T22:36:17.259Z"
   },
   {
    "duration": 12,
    "start_time": "2023-02-26T22:36:17.269Z"
   },
   {
    "duration": 5,
    "start_time": "2023-02-26T22:36:17.284Z"
   },
   {
    "duration": 13,
    "start_time": "2023-02-26T22:36:17.291Z"
   },
   {
    "duration": 39,
    "start_time": "2023-02-26T22:36:17.306Z"
   },
   {
    "duration": 11,
    "start_time": "2023-02-26T22:36:17.347Z"
   },
   {
    "duration": 5,
    "start_time": "2023-02-26T22:36:17.361Z"
   },
   {
    "duration": 6,
    "start_time": "2023-02-26T22:36:17.368Z"
   },
   {
    "duration": 7,
    "start_time": "2023-02-26T22:36:17.376Z"
   },
   {
    "duration": 8,
    "start_time": "2023-02-26T22:36:17.385Z"
   },
   {
    "duration": 20,
    "start_time": "2023-02-26T22:36:17.438Z"
   },
   {
    "duration": 14,
    "start_time": "2023-02-26T22:36:17.460Z"
   },
   {
    "duration": 24,
    "start_time": "2023-02-26T22:36:17.476Z"
   },
   {
    "duration": 58,
    "start_time": "2023-02-26T22:36:17.501Z"
   },
   {
    "duration": 2322,
    "start_time": "2023-02-26T22:36:17.560Z"
   },
   {
    "duration": 5,
    "start_time": "2023-02-26T22:36:19.884Z"
   },
   {
    "duration": 8,
    "start_time": "2023-02-26T22:36:19.891Z"
   },
   {
    "duration": 79,
    "start_time": "2023-02-26T22:36:19.901Z"
   },
   {
    "duration": 9,
    "start_time": "2023-02-26T22:36:19.982Z"
   },
   {
    "duration": 180,
    "start_time": "2023-02-26T22:36:19.993Z"
   },
   {
    "duration": 127,
    "start_time": "2023-02-26T22:36:20.177Z"
   },
   {
    "duration": 134,
    "start_time": "2023-02-26T22:36:20.305Z"
   },
   {
    "duration": 199,
    "start_time": "2023-02-26T22:36:20.441Z"
   },
   {
    "duration": 10,
    "start_time": "2023-02-26T22:36:20.641Z"
   },
   {
    "duration": 11,
    "start_time": "2023-02-26T22:36:20.653Z"
   },
   {
    "duration": 13,
    "start_time": "2023-02-26T22:36:20.666Z"
   },
   {
    "duration": 59,
    "start_time": "2023-02-26T22:36:20.681Z"
   },
   {
    "duration": 13,
    "start_time": "2023-02-26T22:36:20.742Z"
   },
   {
    "duration": 18,
    "start_time": "2023-02-26T22:36:20.757Z"
   },
   {
    "duration": 196,
    "start_time": "2023-02-26T22:36:20.777Z"
   },
   {
    "duration": 21,
    "start_time": "2023-02-26T22:36:20.975Z"
   },
   {
    "duration": 8,
    "start_time": "2023-02-26T22:36:20.998Z"
   },
   {
    "duration": 37,
    "start_time": "2023-02-26T22:36:21.008Z"
   },
   {
    "duration": 9,
    "start_time": "2023-02-26T22:36:21.047Z"
   },
   {
    "duration": 10,
    "start_time": "2023-02-26T22:36:21.058Z"
   },
   {
    "duration": 6,
    "start_time": "2023-02-26T22:36:21.070Z"
   },
   {
    "duration": 8,
    "start_time": "2023-02-26T22:36:21.078Z"
   },
   {
    "duration": 174,
    "start_time": "2023-02-26T22:36:21.088Z"
   },
   {
    "duration": 9,
    "start_time": "2023-02-26T22:36:21.263Z"
   },
   {
    "duration": 9,
    "start_time": "2023-02-26T22:36:21.273Z"
   },
   {
    "duration": 231,
    "start_time": "2023-02-26T22:36:21.284Z"
   },
   {
    "duration": 21,
    "start_time": "2023-02-26T22:36:21.516Z"
   },
   {
    "duration": 61,
    "start_time": "2023-02-26T22:36:26.021Z"
   },
   {
    "duration": 16,
    "start_time": "2023-02-26T22:36:39.620Z"
   },
   {
    "duration": 58,
    "start_time": "2023-02-26T22:40:08.941Z"
   },
   {
    "duration": 16,
    "start_time": "2023-02-26T22:43:08.697Z"
   },
   {
    "duration": 48,
    "start_time": "2023-02-26T22:43:14.020Z"
   },
   {
    "duration": 24,
    "start_time": "2023-02-26T22:43:21.948Z"
   },
   {
    "duration": 13,
    "start_time": "2023-02-26T22:45:53.521Z"
   },
   {
    "duration": 2144,
    "start_time": "2023-02-26T22:46:05.973Z"
   },
   {
    "duration": 22,
    "start_time": "2023-02-26T22:46:08.119Z"
   },
   {
    "duration": 13,
    "start_time": "2023-02-26T22:46:08.143Z"
   },
   {
    "duration": 5,
    "start_time": "2023-02-26T22:46:08.157Z"
   },
   {
    "duration": 4,
    "start_time": "2023-02-26T22:46:08.164Z"
   },
   {
    "duration": 24,
    "start_time": "2023-02-26T22:46:08.169Z"
   },
   {
    "duration": 4,
    "start_time": "2023-02-26T22:46:08.194Z"
   },
   {
    "duration": 39,
    "start_time": "2023-02-26T22:46:08.200Z"
   },
   {
    "duration": 7,
    "start_time": "2023-02-26T22:46:08.241Z"
   },
   {
    "duration": 4,
    "start_time": "2023-02-26T22:46:08.251Z"
   },
   {
    "duration": 9,
    "start_time": "2023-02-26T22:46:08.257Z"
   },
   {
    "duration": 8,
    "start_time": "2023-02-26T22:46:08.268Z"
   },
   {
    "duration": 8,
    "start_time": "2023-02-26T22:46:08.277Z"
   },
   {
    "duration": 52,
    "start_time": "2023-02-26T22:46:08.286Z"
   },
   {
    "duration": 11,
    "start_time": "2023-02-26T22:46:08.340Z"
   },
   {
    "duration": 6,
    "start_time": "2023-02-26T22:46:08.352Z"
   },
   {
    "duration": 25,
    "start_time": "2023-02-26T22:46:08.359Z"
   },
   {
    "duration": 19,
    "start_time": "2023-02-26T22:46:08.385Z"
   },
   {
    "duration": 8,
    "start_time": "2023-02-26T22:46:08.405Z"
   },
   {
    "duration": 28,
    "start_time": "2023-02-26T22:46:08.415Z"
   },
   {
    "duration": 21,
    "start_time": "2023-02-26T22:46:08.445Z"
   },
   {
    "duration": 2021,
    "start_time": "2023-02-26T22:46:08.467Z"
   },
   {
    "duration": 4,
    "start_time": "2023-02-26T22:46:10.490Z"
   },
   {
    "duration": 8,
    "start_time": "2023-02-26T22:46:10.495Z"
   },
   {
    "duration": 55,
    "start_time": "2023-02-26T22:46:10.505Z"
   },
   {
    "duration": 7,
    "start_time": "2023-02-26T22:46:10.562Z"
   },
   {
    "duration": 148,
    "start_time": "2023-02-26T22:46:10.571Z"
   },
   {
    "duration": 151,
    "start_time": "2023-02-26T22:46:10.722Z"
   },
   {
    "duration": 229,
    "start_time": "2023-02-26T22:46:10.875Z"
   },
   {
    "duration": 185,
    "start_time": "2023-02-26T22:46:11.106Z"
   },
   {
    "duration": 8,
    "start_time": "2023-02-26T22:46:11.292Z"
   },
   {
    "duration": 11,
    "start_time": "2023-02-26T22:46:11.302Z"
   },
   {
    "duration": 13,
    "start_time": "2023-02-26T22:46:11.337Z"
   },
   {
    "duration": 12,
    "start_time": "2023-02-26T22:46:11.351Z"
   },
   {
    "duration": 7,
    "start_time": "2023-02-26T22:46:11.364Z"
   },
   {
    "duration": 18,
    "start_time": "2023-02-26T22:46:11.373Z"
   },
   {
    "duration": 170,
    "start_time": "2023-02-26T22:46:11.392Z"
   },
   {
    "duration": 15,
    "start_time": "2023-02-26T22:46:11.564Z"
   },
   {
    "duration": 6,
    "start_time": "2023-02-26T22:46:11.581Z"
   },
   {
    "duration": 14,
    "start_time": "2023-02-26T22:46:11.588Z"
   },
   {
    "duration": 6,
    "start_time": "2023-02-26T22:46:11.604Z"
   },
   {
    "duration": 8,
    "start_time": "2023-02-26T22:46:11.638Z"
   },
   {
    "duration": 13,
    "start_time": "2023-02-26T22:46:11.647Z"
   },
   {
    "duration": 12,
    "start_time": "2023-02-26T22:46:11.661Z"
   },
   {
    "duration": 126,
    "start_time": "2023-02-26T22:46:11.675Z"
   },
   {
    "duration": 9,
    "start_time": "2023-02-26T22:46:11.803Z"
   },
   {
    "duration": 24,
    "start_time": "2023-02-26T22:46:11.813Z"
   },
   {
    "duration": 126,
    "start_time": "2023-02-26T22:46:11.839Z"
   },
   {
    "duration": 7,
    "start_time": "2023-02-26T22:46:11.967Z"
   },
   {
    "duration": 15,
    "start_time": "2023-02-26T22:46:11.976Z"
   },
   {
    "duration": 14,
    "start_time": "2023-02-26T22:46:11.993Z"
   },
   {
    "duration": 5,
    "start_time": "2023-02-26T22:46:12.036Z"
   },
   {
    "duration": 7,
    "start_time": "2023-02-26T22:46:12.043Z"
   },
   {
    "duration": 5,
    "start_time": "2023-02-26T22:46:12.051Z"
   },
   {
    "duration": 7,
    "start_time": "2023-02-26T22:46:12.058Z"
   },
   {
    "duration": 217,
    "start_time": "2023-02-26T22:46:12.067Z"
   },
   {
    "duration": 4,
    "start_time": "2023-02-26T22:46:12.286Z"
   },
   {
    "duration": 184,
    "start_time": "2023-02-26T22:46:12.291Z"
   },
   {
    "duration": 208,
    "start_time": "2023-02-26T22:46:12.477Z"
   },
   {
    "duration": 132,
    "start_time": "2023-02-26T22:46:12.687Z"
   },
   {
    "duration": 173,
    "start_time": "2023-02-26T22:46:12.821Z"
   },
   {
    "duration": 142,
    "start_time": "2023-02-26T22:46:12.996Z"
   },
   {
    "duration": 153,
    "start_time": "2023-02-26T22:46:13.140Z"
   },
   {
    "duration": 149,
    "start_time": "2023-02-26T22:46:13.294Z"
   },
   {
    "duration": 18,
    "start_time": "2023-02-26T22:46:13.444Z"
   },
   {
    "duration": 5563,
    "start_time": "2023-02-26T22:46:17.332Z"
   },
   {
    "duration": 5346,
    "start_time": "2023-02-26T22:48:27.873Z"
   },
   {
    "duration": 111,
    "start_time": "2023-02-26T22:48:59.467Z"
   },
   {
    "duration": 17,
    "start_time": "2023-02-26T22:49:34.848Z"
   },
   {
    "duration": 104,
    "start_time": "2023-02-26T22:49:46.019Z"
   },
   {
    "duration": 23,
    "start_time": "2023-02-26T23:10:03.788Z"
   }
  ],
  "kernelspec": {
   "display_name": "Python 3 (ipykernel)",
   "language": "python",
   "name": "python3"
  },
  "language_info": {
   "codemirror_mode": {
    "name": "ipython",
    "version": 3
   },
   "file_extension": ".py",
   "mimetype": "text/x-python",
   "name": "python",
   "nbconvert_exporter": "python",
   "pygments_lexer": "ipython3",
   "version": "3.10.9"
  },
  "toc": {
   "base_numbering": 1,
   "nav_menu": {},
   "number_sections": true,
   "sideBar": true,
   "skip_h1_title": true,
   "title_cell": "Table of Contents",
   "title_sidebar": "Contents",
   "toc_cell": false,
   "toc_position": {},
   "toc_section_display": true,
   "toc_window_display": true
  }
 },
 "nbformat": 4,
 "nbformat_minor": 2
}
