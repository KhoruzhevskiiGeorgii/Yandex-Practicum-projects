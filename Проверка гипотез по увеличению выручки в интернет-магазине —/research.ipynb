{
 "cells": [
  {
   "cell_type": "markdown",
   "id": "ca6d5eff",
   "metadata": {},
   "source": [
    "# Проведение A/B тестирования интернет-магазина <a id='intro'></a>\n",
    "### Введение\n",
    "_____\n",
    "**Описание исследования.**  \n",
    "\n",
    "В исследовании проводится приоритизация гипотез и анализ по результатам A/B-теста\n",
    "_____\n",
    "**Цель исследования.**\n",
    "    \n",
    "Принятие решения о судьбе А/B-теста \n",
    "    \n",
    "_____\n",
    "**Задачи исследования.**\n",
    "\n",
    "1. [Ознакомление с данными и изучение общей информации](#step0)\n",
    "2. [Приоритизация гипотез](#step1)\n",
    "3. [Анализ A/B-теста](#step2)\n",
    "_____\n",
    "**Исходные данные.**\n",
    "    \n",
    "В рамках исследования предоставлены три таблицы:  \n",
    "\n",
    "* Файл 'hypothesis.csv' содержит:\n",
    "    1. Hypothesis — краткое описание гипотезы;\n",
    "    1. Reach — охват пользователей по 10-балльной шкале;\n",
    "    1. Impact — влияние на пользователей по 10-балльной шкале;\n",
    "    1. Confidence — уверенность в гипотезе по 10-балльной шкале;\n",
    "    1. Efforts — затраты ресурсов на проверку гипотезы по 10-балльной шкале. Чем больше значение Efforts, тем дороже проверка гипотезы. \n",
    "    \n",
    "    \n",
    "+ Файл 'orders.csv' содержит:\n",
    "    1. transactionId — идентификатор заказа;\n",
    "    1. visitorId — идентификатор пользователя, совершившего заказ;\n",
    "    1. date — дата, когда был совершён заказ;\n",
    "    1. revenue — выручка заказа;\n",
    "    1. group — группа A/B-теста, в которую попал заказ.\n",
    "\n",
    "\n",
    "- Файл 'visitors.csv' содержит:\n",
    "    1. date — дата;\n",
    "    1. group — группа A/B-теста;\n",
    "    1. visitors — количество пользователей в указанную дату в указанной группе A/B-теста"
   ]
  },
  {
   "cell_type": "markdown",
   "id": "061036c1",
   "metadata": {},
   "source": [
    "### Шаг 0: Знакомство с данными, изучение общей информации \n",
    "<a id='step0'></a>"
   ]
  },
  {
   "cell_type": "code",
   "execution_count": 1,
   "id": "284c1603",
   "metadata": {},
   "outputs": [],
   "source": [
    "#подгрузка необходимых библиотек\n",
    "import pandas as pd\n",
    "import numpy as np\n",
    "import scipy.stats as stats\n",
    "import datetime as dt\n",
    "from matplotlib import pyplot as plt"
   ]
  },
  {
   "cell_type": "code",
   "execution_count": 2,
   "id": "9f36c35b",
   "metadata": {},
   "outputs": [
    {
     "name": "stdout",
     "output_type": "stream",
     "text": [
      "<class 'pandas.core.frame.DataFrame'>\n",
      "RangeIndex: 9 entries, 0 to 8\n",
      "Data columns (total 5 columns):\n",
      " #   Column      Non-Null Count  Dtype \n",
      "---  ------      --------------  ----- \n",
      " 0   Hypothesis  9 non-null      object\n",
      " 1   Reach       9 non-null      int64 \n",
      " 2   Impact      9 non-null      int64 \n",
      " 3   Confidence  9 non-null      int64 \n",
      " 4   Efforts     9 non-null      int64 \n",
      "dtypes: int64(4), object(1)\n",
      "memory usage: 488.0+ bytes\n"
     ]
    },
    {
     "data": {
      "text/html": [
       "<div>\n",
       "<style scoped>\n",
       "    .dataframe tbody tr th:only-of-type {\n",
       "        vertical-align: middle;\n",
       "    }\n",
       "\n",
       "    .dataframe tbody tr th {\n",
       "        vertical-align: top;\n",
       "    }\n",
       "\n",
       "    .dataframe thead th {\n",
       "        text-align: right;\n",
       "    }\n",
       "</style>\n",
       "<table border=\"1\" class=\"dataframe\">\n",
       "  <thead>\n",
       "    <tr style=\"text-align: right;\">\n",
       "      <th></th>\n",
       "      <th>Hypothesis</th>\n",
       "      <th>Reach</th>\n",
       "      <th>Impact</th>\n",
       "      <th>Confidence</th>\n",
       "      <th>Efforts</th>\n",
       "    </tr>\n",
       "  </thead>\n",
       "  <tbody>\n",
       "    <tr>\n",
       "      <th>0</th>\n",
       "      <td>Добавить два новых канала привлечения трафика, что позволит привлекать на 30% больше пользователей</td>\n",
       "      <td>3</td>\n",
       "      <td>10</td>\n",
       "      <td>8</td>\n",
       "      <td>6</td>\n",
       "    </tr>\n",
       "    <tr>\n",
       "      <th>1</th>\n",
       "      <td>Запустить собственную службу доставки, что сократит срок доставки заказов</td>\n",
       "      <td>2</td>\n",
       "      <td>5</td>\n",
       "      <td>4</td>\n",
       "      <td>10</td>\n",
       "    </tr>\n",
       "    <tr>\n",
       "      <th>2</th>\n",
       "      <td>Добавить блоки рекомендаций товаров на сайт интернет магазина, чтобы повысить конверсию и средний чек заказа</td>\n",
       "      <td>8</td>\n",
       "      <td>3</td>\n",
       "      <td>7</td>\n",
       "      <td>3</td>\n",
       "    </tr>\n",
       "    <tr>\n",
       "      <th>3</th>\n",
       "      <td>Изменить структура категорий, что увеличит конверсию, т.к. пользователи быстрее найдут нужный товар</td>\n",
       "      <td>8</td>\n",
       "      <td>3</td>\n",
       "      <td>3</td>\n",
       "      <td>8</td>\n",
       "    </tr>\n",
       "    <tr>\n",
       "      <th>4</th>\n",
       "      <td>Изменить цвет фона главной страницы, чтобы увеличить вовлеченность пользователей</td>\n",
       "      <td>3</td>\n",
       "      <td>1</td>\n",
       "      <td>1</td>\n",
       "      <td>1</td>\n",
       "    </tr>\n",
       "    <tr>\n",
       "      <th>5</th>\n",
       "      <td>Добавить страницу отзывов клиентов о магазине, что позволит увеличить количество заказов</td>\n",
       "      <td>3</td>\n",
       "      <td>2</td>\n",
       "      <td>2</td>\n",
       "      <td>3</td>\n",
       "    </tr>\n",
       "    <tr>\n",
       "      <th>6</th>\n",
       "      <td>Показать на главной странице баннеры с актуальными акциями и распродажами, чтобы увеличить конверсию</td>\n",
       "      <td>5</td>\n",
       "      <td>3</td>\n",
       "      <td>8</td>\n",
       "      <td>3</td>\n",
       "    </tr>\n",
       "    <tr>\n",
       "      <th>7</th>\n",
       "      <td>Добавить форму подписки на все основные страницы, чтобы собрать базу клиентов для email-рассылок</td>\n",
       "      <td>10</td>\n",
       "      <td>7</td>\n",
       "      <td>8</td>\n",
       "      <td>5</td>\n",
       "    </tr>\n",
       "    <tr>\n",
       "      <th>8</th>\n",
       "      <td>Запустить акцию, дающую скидку на товар в день рождения</td>\n",
       "      <td>1</td>\n",
       "      <td>9</td>\n",
       "      <td>9</td>\n",
       "      <td>5</td>\n",
       "    </tr>\n",
       "  </tbody>\n",
       "</table>\n",
       "</div>"
      ],
      "text/plain": [
       "                                                                                                     Hypothesis  \\\n",
       "0            Добавить два новых канала привлечения трафика, что позволит привлекать на 30% больше пользователей   \n",
       "1                                     Запустить собственную службу доставки, что сократит срок доставки заказов   \n",
       "2  Добавить блоки рекомендаций товаров на сайт интернет магазина, чтобы повысить конверсию и средний чек заказа   \n",
       "3           Изменить структура категорий, что увеличит конверсию, т.к. пользователи быстрее найдут нужный товар   \n",
       "4                              Изменить цвет фона главной страницы, чтобы увеличить вовлеченность пользователей   \n",
       "5                      Добавить страницу отзывов клиентов о магазине, что позволит увеличить количество заказов   \n",
       "6          Показать на главной странице баннеры с актуальными акциями и распродажами, чтобы увеличить конверсию   \n",
       "7              Добавить форму подписки на все основные страницы, чтобы собрать базу клиентов для email-рассылок   \n",
       "8                                                       Запустить акцию, дающую скидку на товар в день рождения   \n",
       "\n",
       "   Reach  Impact  Confidence  Efforts  \n",
       "0      3      10           8        6  \n",
       "1      2       5           4       10  \n",
       "2      8       3           7        3  \n",
       "3      8       3           3        8  \n",
       "4      3       1           1        1  \n",
       "5      3       2           2        3  \n",
       "6      5       3           8        3  \n",
       "7     10       7           8        5  \n",
       "8      1       9           9        5  "
      ]
     },
     "execution_count": 2,
     "metadata": {},
     "output_type": "execute_result"
    }
   ],
   "source": [
    "#загрузка таблицы гипотез, вывод основной информации\n",
    "try:\n",
    "    hypothesis = pd.read_csv('hypothesis.csv')\n",
    "except:\n",
    "    hypothesis = pd.read_csv('https://code.s3.yandex.net/datasets/hypothesis.csv')\n",
    "pd.set_option('display.max_colwidth', None)\n",
    "hypothesis.info()\n",
    "hypothesis"
   ]
  },
  {
   "cell_type": "code",
   "execution_count": 3,
   "id": "24ac49c4",
   "metadata": {},
   "outputs": [
    {
     "name": "stdout",
     "output_type": "stream",
     "text": [
      "<class 'pandas.core.frame.DataFrame'>\n",
      "RangeIndex: 1197 entries, 0 to 1196\n",
      "Data columns (total 5 columns):\n",
      " #   Column         Non-Null Count  Dtype \n",
      "---  ------         --------------  ----- \n",
      " 0   transactionId  1197 non-null   int64 \n",
      " 1   visitorId      1197 non-null   int64 \n",
      " 2   date           1197 non-null   object\n",
      " 3   revenue        1197 non-null   int64 \n",
      " 4   group          1197 non-null   object\n",
      "dtypes: int64(3), object(2)\n",
      "memory usage: 46.9+ KB\n"
     ]
    },
    {
     "data": {
      "text/html": [
       "<div>\n",
       "<style scoped>\n",
       "    .dataframe tbody tr th:only-of-type {\n",
       "        vertical-align: middle;\n",
       "    }\n",
       "\n",
       "    .dataframe tbody tr th {\n",
       "        vertical-align: top;\n",
       "    }\n",
       "\n",
       "    .dataframe thead th {\n",
       "        text-align: right;\n",
       "    }\n",
       "</style>\n",
       "<table border=\"1\" class=\"dataframe\">\n",
       "  <thead>\n",
       "    <tr style=\"text-align: right;\">\n",
       "      <th></th>\n",
       "      <th>transactionId</th>\n",
       "      <th>visitorId</th>\n",
       "      <th>date</th>\n",
       "      <th>revenue</th>\n",
       "      <th>group</th>\n",
       "    </tr>\n",
       "  </thead>\n",
       "  <tbody>\n",
       "    <tr>\n",
       "      <th>0</th>\n",
       "      <td>3667963787</td>\n",
       "      <td>3312258926</td>\n",
       "      <td>2019-08-15</td>\n",
       "      <td>1650</td>\n",
       "      <td>B</td>\n",
       "    </tr>\n",
       "    <tr>\n",
       "      <th>1</th>\n",
       "      <td>2804400009</td>\n",
       "      <td>3642806036</td>\n",
       "      <td>2019-08-15</td>\n",
       "      <td>730</td>\n",
       "      <td>B</td>\n",
       "    </tr>\n",
       "    <tr>\n",
       "      <th>2</th>\n",
       "      <td>2961555356</td>\n",
       "      <td>4069496402</td>\n",
       "      <td>2019-08-15</td>\n",
       "      <td>400</td>\n",
       "      <td>A</td>\n",
       "    </tr>\n",
       "    <tr>\n",
       "      <th>3</th>\n",
       "      <td>3797467345</td>\n",
       "      <td>1196621759</td>\n",
       "      <td>2019-08-15</td>\n",
       "      <td>9759</td>\n",
       "      <td>B</td>\n",
       "    </tr>\n",
       "    <tr>\n",
       "      <th>4</th>\n",
       "      <td>2282983706</td>\n",
       "      <td>2322279887</td>\n",
       "      <td>2019-08-15</td>\n",
       "      <td>2308</td>\n",
       "      <td>B</td>\n",
       "    </tr>\n",
       "    <tr>\n",
       "      <th>...</th>\n",
       "      <td>...</td>\n",
       "      <td>...</td>\n",
       "      <td>...</td>\n",
       "      <td>...</td>\n",
       "      <td>...</td>\n",
       "    </tr>\n",
       "    <tr>\n",
       "      <th>1192</th>\n",
       "      <td>2662137336</td>\n",
       "      <td>3733762160</td>\n",
       "      <td>2019-08-14</td>\n",
       "      <td>6490</td>\n",
       "      <td>B</td>\n",
       "    </tr>\n",
       "    <tr>\n",
       "      <th>1193</th>\n",
       "      <td>2203539145</td>\n",
       "      <td>370388673</td>\n",
       "      <td>2019-08-14</td>\n",
       "      <td>3190</td>\n",
       "      <td>A</td>\n",
       "    </tr>\n",
       "    <tr>\n",
       "      <th>1194</th>\n",
       "      <td>1807773912</td>\n",
       "      <td>573423106</td>\n",
       "      <td>2019-08-14</td>\n",
       "      <td>10550</td>\n",
       "      <td>A</td>\n",
       "    </tr>\n",
       "    <tr>\n",
       "      <th>1195</th>\n",
       "      <td>1947021204</td>\n",
       "      <td>1614305549</td>\n",
       "      <td>2019-08-14</td>\n",
       "      <td>100</td>\n",
       "      <td>A</td>\n",
       "    </tr>\n",
       "    <tr>\n",
       "      <th>1196</th>\n",
       "      <td>3936777065</td>\n",
       "      <td>2108080724</td>\n",
       "      <td>2019-08-15</td>\n",
       "      <td>202740</td>\n",
       "      <td>B</td>\n",
       "    </tr>\n",
       "  </tbody>\n",
       "</table>\n",
       "<p>1197 rows × 5 columns</p>\n",
       "</div>"
      ],
      "text/plain": [
       "      transactionId   visitorId        date  revenue group\n",
       "0        3667963787  3312258926  2019-08-15     1650     B\n",
       "1        2804400009  3642806036  2019-08-15      730     B\n",
       "2        2961555356  4069496402  2019-08-15      400     A\n",
       "3        3797467345  1196621759  2019-08-15     9759     B\n",
       "4        2282983706  2322279887  2019-08-15     2308     B\n",
       "...             ...         ...         ...      ...   ...\n",
       "1192     2662137336  3733762160  2019-08-14     6490     B\n",
       "1193     2203539145   370388673  2019-08-14     3190     A\n",
       "1194     1807773912   573423106  2019-08-14    10550     A\n",
       "1195     1947021204  1614305549  2019-08-14      100     A\n",
       "1196     3936777065  2108080724  2019-08-15   202740     B\n",
       "\n",
       "[1197 rows x 5 columns]"
      ]
     },
     "execution_count": 3,
     "metadata": {},
     "output_type": "execute_result"
    }
   ],
   "source": [
    "#загрузка таблицы заказов, вывод основной информации\n",
    "try:\n",
    "    orders = pd.read_csv('orders.csv')\n",
    "except:\n",
    "    orders = pd.read_csv('https://code.s3.yandex.net/datasets/orders.csv')\n",
    "orders.info()\n",
    "orders"
   ]
  },
  {
   "cell_type": "code",
   "execution_count": 4,
   "id": "22057d80",
   "metadata": {},
   "outputs": [
    {
     "name": "stdout",
     "output_type": "stream",
     "text": [
      "<class 'pandas.core.frame.DataFrame'>\n",
      "RangeIndex: 62 entries, 0 to 61\n",
      "Data columns (total 3 columns):\n",
      " #   Column    Non-Null Count  Dtype \n",
      "---  ------    --------------  ----- \n",
      " 0   date      62 non-null     object\n",
      " 1   group     62 non-null     object\n",
      " 2   visitors  62 non-null     int64 \n",
      "dtypes: int64(1), object(2)\n",
      "memory usage: 1.6+ KB\n"
     ]
    },
    {
     "data": {
      "text/html": [
       "<div>\n",
       "<style scoped>\n",
       "    .dataframe tbody tr th:only-of-type {\n",
       "        vertical-align: middle;\n",
       "    }\n",
       "\n",
       "    .dataframe tbody tr th {\n",
       "        vertical-align: top;\n",
       "    }\n",
       "\n",
       "    .dataframe thead th {\n",
       "        text-align: right;\n",
       "    }\n",
       "</style>\n",
       "<table border=\"1\" class=\"dataframe\">\n",
       "  <thead>\n",
       "    <tr style=\"text-align: right;\">\n",
       "      <th></th>\n",
       "      <th>date</th>\n",
       "      <th>group</th>\n",
       "      <th>visitors</th>\n",
       "    </tr>\n",
       "  </thead>\n",
       "  <tbody>\n",
       "    <tr>\n",
       "      <th>0</th>\n",
       "      <td>2019-08-01</td>\n",
       "      <td>A</td>\n",
       "      <td>719</td>\n",
       "    </tr>\n",
       "    <tr>\n",
       "      <th>1</th>\n",
       "      <td>2019-08-02</td>\n",
       "      <td>A</td>\n",
       "      <td>619</td>\n",
       "    </tr>\n",
       "    <tr>\n",
       "      <th>2</th>\n",
       "      <td>2019-08-03</td>\n",
       "      <td>A</td>\n",
       "      <td>507</td>\n",
       "    </tr>\n",
       "    <tr>\n",
       "      <th>3</th>\n",
       "      <td>2019-08-04</td>\n",
       "      <td>A</td>\n",
       "      <td>717</td>\n",
       "    </tr>\n",
       "    <tr>\n",
       "      <th>4</th>\n",
       "      <td>2019-08-05</td>\n",
       "      <td>A</td>\n",
       "      <td>756</td>\n",
       "    </tr>\n",
       "    <tr>\n",
       "      <th>...</th>\n",
       "      <td>...</td>\n",
       "      <td>...</td>\n",
       "      <td>...</td>\n",
       "    </tr>\n",
       "    <tr>\n",
       "      <th>57</th>\n",
       "      <td>2019-08-27</td>\n",
       "      <td>B</td>\n",
       "      <td>720</td>\n",
       "    </tr>\n",
       "    <tr>\n",
       "      <th>58</th>\n",
       "      <td>2019-08-28</td>\n",
       "      <td>B</td>\n",
       "      <td>654</td>\n",
       "    </tr>\n",
       "    <tr>\n",
       "      <th>59</th>\n",
       "      <td>2019-08-29</td>\n",
       "      <td>B</td>\n",
       "      <td>531</td>\n",
       "    </tr>\n",
       "    <tr>\n",
       "      <th>60</th>\n",
       "      <td>2019-08-30</td>\n",
       "      <td>B</td>\n",
       "      <td>490</td>\n",
       "    </tr>\n",
       "    <tr>\n",
       "      <th>61</th>\n",
       "      <td>2019-08-31</td>\n",
       "      <td>B</td>\n",
       "      <td>718</td>\n",
       "    </tr>\n",
       "  </tbody>\n",
       "</table>\n",
       "<p>62 rows × 3 columns</p>\n",
       "</div>"
      ],
      "text/plain": [
       "          date group  visitors\n",
       "0   2019-08-01     A       719\n",
       "1   2019-08-02     A       619\n",
       "2   2019-08-03     A       507\n",
       "3   2019-08-04     A       717\n",
       "4   2019-08-05     A       756\n",
       "..         ...   ...       ...\n",
       "57  2019-08-27     B       720\n",
       "58  2019-08-28     B       654\n",
       "59  2019-08-29     B       531\n",
       "60  2019-08-30     B       490\n",
       "61  2019-08-31     B       718\n",
       "\n",
       "[62 rows x 3 columns]"
      ]
     },
     "execution_count": 4,
     "metadata": {},
     "output_type": "execute_result"
    }
   ],
   "source": [
    "#загрузка таблицы кол-ва посетителей, вывод основной информации\n",
    "try:\n",
    "    visitors = pd.read_csv('visitors.csv')\n",
    "except:\n",
    "    visitors = pd.read_csv('https://code.s3.yandex.net/datasets/visitors.csv')\n",
    "visitors.info()\n",
    "visitors"
   ]
  },
  {
   "cell_type": "markdown",
   "id": "e5ef392b",
   "metadata": {},
   "source": [
    "Пропусков в данных нет, однако даты лучше привести к соответствующему типу:"
   ]
  },
  {
   "cell_type": "code",
   "execution_count": 5,
   "id": "cf6b21cd",
   "metadata": {},
   "outputs": [],
   "source": [
    "orders['date'] = orders['date'].map(\n",
    "    lambda x: dt.datetime.strptime(x, '%Y-%m-%d')\n",
    ")\n",
    "visitors['date'] = visitors['date'].map(\n",
    "    lambda x: dt.datetime.strptime(x, '%Y-%m-%d')\n",
    ")"
   ]
  },
  {
   "cell_type": "markdown",
   "id": "b7315331",
   "metadata": {},
   "source": [
    "Также, подправим названия столбцов:"
   ]
  },
  {
   "cell_type": "code",
   "execution_count": 6,
   "id": "a96ce8c1",
   "metadata": {},
   "outputs": [],
   "source": [
    "hypothesis.columns = hypothesis.columns.str.lower()"
   ]
  },
  {
   "cell_type": "markdown",
   "id": "aaa68cb8",
   "metadata": {},
   "source": [
    "Теперь проверим на дубликаты:<a id='duples'></a>\n"
   ]
  },
  {
   "cell_type": "code",
   "execution_count": 7,
   "id": "9a983e43",
   "metadata": {},
   "outputs": [
    {
     "data": {
      "text/plain": [
       "(1197, 5)"
      ]
     },
     "execution_count": 7,
     "metadata": {},
     "output_type": "execute_result"
    }
   ],
   "source": [
    "# в таблице гипотез дубликатов нет, это видно непосредственно. посмотрим на таблицу заказов\n",
    "\n",
    "orders.shape"
   ]
  },
  {
   "cell_type": "code",
   "execution_count": 8,
   "id": "1c0e1834",
   "metadata": {},
   "outputs": [
    {
     "data": {
      "text/plain": [
       "(1197, 5)"
      ]
     },
     "execution_count": 8,
     "metadata": {},
     "output_type": "execute_result"
    }
   ],
   "source": [
    "orders = orders.drop_duplicates()\n",
    "orders.shape"
   ]
  },
  {
   "cell_type": "code",
   "execution_count": 9,
   "id": "6b930bb2",
   "metadata": {},
   "outputs": [
    {
     "data": {
      "text/html": [
       "<div>\n",
       "<style scoped>\n",
       "    .dataframe tbody tr th:only-of-type {\n",
       "        vertical-align: middle;\n",
       "    }\n",
       "\n",
       "    .dataframe tbody tr th {\n",
       "        vertical-align: top;\n",
       "    }\n",
       "\n",
       "    .dataframe thead th {\n",
       "        text-align: right;\n",
       "    }\n",
       "</style>\n",
       "<table border=\"1\" class=\"dataframe\">\n",
       "  <thead>\n",
       "    <tr style=\"text-align: right;\">\n",
       "      <th></th>\n",
       "      <th>transactionId</th>\n",
       "      <th>visitorId</th>\n",
       "      <th>date</th>\n",
       "      <th>revenue</th>\n",
       "      <th>group</th>\n",
       "    </tr>\n",
       "  </thead>\n",
       "  <tbody>\n",
       "  </tbody>\n",
       "</table>\n",
       "</div>"
      ],
      "text/plain": [
       "Empty DataFrame\n",
       "Columns: [transactionId, visitorId, date, revenue, group]\n",
       "Index: []"
      ]
     },
     "execution_count": 9,
     "metadata": {},
     "output_type": "execute_result"
    }
   ],
   "source": [
    "#полных дубликатов не было, но заказ определяется по первичному ключу transactionId. \n",
    "#посмотрим, нет ли в этом столбце повторений\n",
    "orders[orders.duplicated(['transactionId'])]"
   ]
  },
  {
   "cell_type": "code",
   "execution_count": 10,
   "id": "564fec40",
   "metadata": {
    "scrolled": true
   },
   "outputs": [
    {
     "data": {
      "text/plain": [
       "(62, 3)"
      ]
     },
     "execution_count": 10,
     "metadata": {},
     "output_type": "execute_result"
    }
   ],
   "source": [
    "#у всех заказов разный айди. значит дубликатов нет. посмотрим на посетителей\n",
    "visitors.shape"
   ]
  },
  {
   "cell_type": "code",
   "execution_count": 11,
   "id": "135584ba",
   "metadata": {},
   "outputs": [
    {
     "data": {
      "text/plain": [
       "(62, 3)"
      ]
     },
     "execution_count": 11,
     "metadata": {},
     "output_type": "execute_result"
    }
   ],
   "source": [
    "visitors = visitors.drop_duplicates()\n",
    "visitors.shape"
   ]
  },
  {
   "cell_type": "code",
   "execution_count": 12,
   "id": "b1d3608c",
   "metadata": {},
   "outputs": [
    {
     "data": {
      "text/html": [
       "<div>\n",
       "<style scoped>\n",
       "    .dataframe tbody tr th:only-of-type {\n",
       "        vertical-align: middle;\n",
       "    }\n",
       "\n",
       "    .dataframe tbody tr th {\n",
       "        vertical-align: top;\n",
       "    }\n",
       "\n",
       "    .dataframe thead th {\n",
       "        text-align: right;\n",
       "    }\n",
       "</style>\n",
       "<table border=\"1\" class=\"dataframe\">\n",
       "  <thead>\n",
       "    <tr style=\"text-align: right;\">\n",
       "      <th></th>\n",
       "      <th>date</th>\n",
       "      <th>group</th>\n",
       "      <th>visitors</th>\n",
       "    </tr>\n",
       "  </thead>\n",
       "  <tbody>\n",
       "  </tbody>\n",
       "</table>\n",
       "</div>"
      ],
      "text/plain": [
       "Empty DataFrame\n",
       "Columns: [date, group, visitors]\n",
       "Index: []"
      ]
     },
     "execution_count": 12,
     "metadata": {},
     "output_type": "execute_result"
    }
   ],
   "source": [
    "#полных дубликатов не было. отдельно на всякий случай посмотрим на пары дата-группа\n",
    "visitors[visitors.duplicated(['date', 'group'])]"
   ]
  },
  {
   "cell_type": "markdown",
   "id": "d0201332",
   "metadata": {},
   "source": [
    "Отлично, значит дубликатов нет. Нам дали чистые данные."
   ]
  },
  {
   "cell_type": "markdown",
   "id": "e9055498",
   "metadata": {},
   "source": [
    "#### Вывод:\n",
    "Данные получены и подготовлены к анализу."
   ]
  },
  {
   "cell_type": "markdown",
   "id": "869c9b94",
   "metadata": {},
   "source": [
    "1. Посмотрим сколько групп в АВ-тесте:"
   ]
  },
  {
   "cell_type": "code",
   "execution_count": 13,
   "id": "83df26f4",
   "metadata": {},
   "outputs": [
    {
     "data": {
      "text/plain": [
       "[array(['A', 'B'], dtype=object), array(['B', 'A'], dtype=object)]"
      ]
     },
     "execution_count": 13,
     "metadata": {},
     "output_type": "execute_result"
    }
   ],
   "source": [
    "[visitors['group'].unique(), orders['group'].unique()]"
   ]
  },
  {
   "cell_type": "markdown",
   "id": "2d40c14c",
   "metadata": {},
   "source": [
    "В обоих таблицах всего 2 группы: А и В."
   ]
  },
  {
   "cell_type": "markdown",
   "id": "576c6af3",
   "metadata": {},
   "source": [
    "2. Посмотрим временной интервал:"
   ]
  },
  {
   "cell_type": "code",
   "execution_count": 14,
   "id": "b32b4f9d",
   "metadata": {
    "scrolled": true
   },
   "outputs": [
    {
     "data": {
      "text/plain": [
       "[Timestamp('2019-08-01 00:00:00'), Timestamp('2019-08-01 00:00:00')]"
      ]
     },
     "execution_count": 14,
     "metadata": {},
     "output_type": "execute_result"
    }
   ],
   "source": [
    "#даты начала:\n",
    "[orders['date'].min(), visitors['date'].min()]"
   ]
  },
  {
   "cell_type": "code",
   "execution_count": 15,
   "id": "8d9a6e6a",
   "metadata": {},
   "outputs": [
    {
     "data": {
      "text/plain": [
       "[Timestamp('2019-08-31 00:00:00'), Timestamp('2019-08-31 00:00:00')]"
      ]
     },
     "execution_count": 15,
     "metadata": {},
     "output_type": "execute_result"
    }
   ],
   "source": [
    "#даты конца:\n",
    "[orders['date'].max(), visitors['date'].max()]"
   ]
  },
  {
   "cell_type": "markdown",
   "id": "d507509a",
   "metadata": {},
   "source": [
    "Тест проходил весь август 2019 года. Датыначала и конца в ордерах и посетителях совпадают."
   ]
  },
  {
   "cell_type": "markdown",
   "id": "21cf7293",
   "metadata": {},
   "source": [
    "3. Рассмотреть количество пользователей в каждой группе - по таблице с заказами:"
   ]
  },
  {
   "cell_type": "code",
   "execution_count": 16,
   "id": "32d796ca",
   "metadata": {},
   "outputs": [
    {
     "data": {
      "text/plain": [
       "[503, 586]"
      ]
     },
     "execution_count": 16,
     "metadata": {},
     "output_type": "execute_result"
    }
   ],
   "source": [
    "[orders[orders['group']=='A']['visitorId'].nunique(), orders[orders['group']=='B']['visitorId'].nunique()]"
   ]
  },
  {
   "cell_type": "markdown",
   "id": "709540ca",
   "metadata": {},
   "source": [
    "Видно, что в группе В их несколько больше. Насколько это значимо, станет ясно далее."
   ]
  },
  {
   "cell_type": "markdown",
   "id": "753cd302",
   "metadata": {},
   "source": [
    "4. Посмотреть не попадают ли какие-то пользователи в обе группы - по таблице с заказами:"
   ]
  },
  {
   "cell_type": "code",
   "execution_count": 17,
   "id": "a554f949",
   "metadata": {},
   "outputs": [
    {
     "data": {
      "text/plain": [
       "58"
      ]
     },
     "execution_count": 17,
     "metadata": {},
     "output_type": "execute_result"
    }
   ],
   "source": [
    "len(orders.groupby('visitorId').agg({'group': 'nunique'}).query('group>1'))"
   ]
  },
  {
   "cell_type": "markdown",
   "id": "0e8ed497",
   "metadata": {},
   "source": [
    "58 пользователей попали в обе группы. Это плохо, надо совершенствовать алгоритм распределения."
   ]
  },
  {
   "cell_type": "markdown",
   "id": "83a2c46c",
   "metadata": {},
   "source": [
    "5. Посмотреть динамику посетителей по дням по группам (visitors)."
   ]
  },
  {
   "cell_type": "code",
   "execution_count": 18,
   "id": "548081d6",
   "metadata": {},
   "outputs": [
    {
     "data": {
      "image/png": "[encoded data removed]",
      "text/plain": [
       "<Figure size 864x576 with 1 Axes>"
      ]
     },
     "metadata": {
      "needs_background": "light"
     },
     "output_type": "display_data"
    }
   ],
   "source": [
    "plt.figure(figsize=(12, 8))\n",
    "plt.plot(visitors[visitors['group']=='A']['date'], visitors[visitors['group']=='A']['visitors'], label='A')\n",
    "plt.plot(visitors[visitors['group']=='B']['date'], visitors[visitors['group']=='B']['visitors'], label='B')\n",
    "\n",
    "plt.xlabel('Дата')\n",
    "plt.ylabel('Мощность группы')\n",
    "plt.title('Динамика посетителей по дням')\n",
    "plt.legend() ;"
   ]
  },
  {
   "cell_type": "markdown",
   "id": "f99dff46",
   "metadata": {},
   "source": [
    "Мощность группы сильно менялась день ото дня, но в обеих группах это происходило синхронно."
   ]
  },
  {
   "cell_type": "markdown",
   "id": "887399e4",
   "metadata": {},
   "source": [
    "### Шаг 1: Приоритизация гипотез <a id='step1'></a>"
   ]
  },
  {
   "cell_type": "markdown",
   "id": "fbcc85be",
   "metadata": {},
   "source": [
    "Задачи этапа - приоритизировать гипотезы. А именно:\n",
    "+ [Применить фреймворк ICE для приоритизации гипотез. Отсортировать их по убыванию приоритета.](#ICE)\n",
    "+ [Применить фреймворк RICE для приоритизации гипотез. Отсортировать их по убыванию приоритета.](#RICE)\n",
    "+ [Указать, как изменилась приоритизация гипотез при применении RICE вместо ICE. Объяснить, почему так произошло.](#diff)"
   ]
  },
  {
   "cell_type": "markdown",
   "id": "b2651a13",
   "metadata": {},
   "source": [
    "#### 1. Применить фреймворк ICE для приоритизации гипотез. Отсортировать их по убыванию приоритета. <a id='ICE'></a>"
   ]
  },
  {
   "cell_type": "code",
   "execution_count": 19,
   "id": "df924790",
   "metadata": {},
   "outputs": [
    {
     "data": {
      "text/html": [
       "<div>\n",
       "<style scoped>\n",
       "    .dataframe tbody tr th:only-of-type {\n",
       "        vertical-align: middle;\n",
       "    }\n",
       "\n",
       "    .dataframe tbody tr th {\n",
       "        vertical-align: top;\n",
       "    }\n",
       "\n",
       "    .dataframe thead th {\n",
       "        text-align: right;\n",
       "    }\n",
       "</style>\n",
       "<table border=\"1\" class=\"dataframe\">\n",
       "  <thead>\n",
       "    <tr style=\"text-align: right;\">\n",
       "      <th></th>\n",
       "      <th>hypothesis</th>\n",
       "      <th>ICE</th>\n",
       "    </tr>\n",
       "  </thead>\n",
       "  <tbody>\n",
       "    <tr>\n",
       "      <th>8</th>\n",
       "      <td>Запустить акцию, дающую скидку на товар в день рождения</td>\n",
       "      <td>16.20</td>\n",
       "    </tr>\n",
       "    <tr>\n",
       "      <th>0</th>\n",
       "      <td>Добавить два новых канала привлечения трафика, что позволит привлекать на 30% больше пользователей</td>\n",
       "      <td>13.33</td>\n",
       "    </tr>\n",
       "    <tr>\n",
       "      <th>7</th>\n",
       "      <td>Добавить форму подписки на все основные страницы, чтобы собрать базу клиентов для email-рассылок</td>\n",
       "      <td>11.20</td>\n",
       "    </tr>\n",
       "    <tr>\n",
       "      <th>6</th>\n",
       "      <td>Показать на главной странице баннеры с актуальными акциями и распродажами, чтобы увеличить конверсию</td>\n",
       "      <td>8.00</td>\n",
       "    </tr>\n",
       "    <tr>\n",
       "      <th>2</th>\n",
       "      <td>Добавить блоки рекомендаций товаров на сайт интернет магазина, чтобы повысить конверсию и средний чек заказа</td>\n",
       "      <td>7.00</td>\n",
       "    </tr>\n",
       "    <tr>\n",
       "      <th>1</th>\n",
       "      <td>Запустить собственную службу доставки, что сократит срок доставки заказов</td>\n",
       "      <td>2.00</td>\n",
       "    </tr>\n",
       "    <tr>\n",
       "      <th>5</th>\n",
       "      <td>Добавить страницу отзывов клиентов о магазине, что позволит увеличить количество заказов</td>\n",
       "      <td>1.33</td>\n",
       "    </tr>\n",
       "    <tr>\n",
       "      <th>3</th>\n",
       "      <td>Изменить структура категорий, что увеличит конверсию, т.к. пользователи быстрее найдут нужный товар</td>\n",
       "      <td>1.12</td>\n",
       "    </tr>\n",
       "    <tr>\n",
       "      <th>4</th>\n",
       "      <td>Изменить цвет фона главной страницы, чтобы увеличить вовлеченность пользователей</td>\n",
       "      <td>1.00</td>\n",
       "    </tr>\n",
       "  </tbody>\n",
       "</table>\n",
       "</div>"
      ],
      "text/plain": [
       "                                                                                                     hypothesis  \\\n",
       "8                                                       Запустить акцию, дающую скидку на товар в день рождения   \n",
       "0            Добавить два новых канала привлечения трафика, что позволит привлекать на 30% больше пользователей   \n",
       "7              Добавить форму подписки на все основные страницы, чтобы собрать базу клиентов для email-рассылок   \n",
       "6          Показать на главной странице баннеры с актуальными акциями и распродажами, чтобы увеличить конверсию   \n",
       "2  Добавить блоки рекомендаций товаров на сайт интернет магазина, чтобы повысить конверсию и средний чек заказа   \n",
       "1                                     Запустить собственную службу доставки, что сократит срок доставки заказов   \n",
       "5                      Добавить страницу отзывов клиентов о магазине, что позволит увеличить количество заказов   \n",
       "3           Изменить структура категорий, что увеличит конверсию, т.к. пользователи быстрее найдут нужный товар   \n",
       "4                              Изменить цвет фона главной страницы, чтобы увеличить вовлеченность пользователей   \n",
       "\n",
       "     ICE  \n",
       "8  16.20  \n",
       "0  13.33  \n",
       "7  11.20  \n",
       "6   8.00  \n",
       "2   7.00  \n",
       "1   2.00  \n",
       "5   1.33  \n",
       "3   1.12  \n",
       "4   1.00  "
      ]
     },
     "execution_count": 19,
     "metadata": {},
     "output_type": "execute_result"
    }
   ],
   "source": [
    "hypothesis['ICE'] = (hypothesis['impact']*hypothesis['confidence']/hypothesis['efforts']).round(2)\n",
    "hypothesis[['hypothesis', 'ICE']].sort_values(by='ICE', ascending=False)"
   ]
  },
  {
   "cell_type": "markdown",
   "id": "0159d091",
   "metadata": {},
   "source": [
    "#### 2. Применить фреймворк RICE для приоритизации гипотез. Отсортировать их по убыванию приоритета. <a id='RICE'></a>"
   ]
  },
  {
   "cell_type": "code",
   "execution_count": 20,
   "id": "714aeea2",
   "metadata": {},
   "outputs": [
    {
     "data": {
      "text/html": [
       "<div>\n",
       "<style scoped>\n",
       "    .dataframe tbody tr th:only-of-type {\n",
       "        vertical-align: middle;\n",
       "    }\n",
       "\n",
       "    .dataframe tbody tr th {\n",
       "        vertical-align: top;\n",
       "    }\n",
       "\n",
       "    .dataframe thead th {\n",
       "        text-align: right;\n",
       "    }\n",
       "</style>\n",
       "<table border=\"1\" class=\"dataframe\">\n",
       "  <thead>\n",
       "    <tr style=\"text-align: right;\">\n",
       "      <th></th>\n",
       "      <th>hypothesis</th>\n",
       "      <th>RICE</th>\n",
       "    </tr>\n",
       "  </thead>\n",
       "  <tbody>\n",
       "    <tr>\n",
       "      <th>7</th>\n",
       "      <td>Добавить форму подписки на все основные страницы, чтобы собрать базу клиентов для email-рассылок</td>\n",
       "      <td>112.0</td>\n",
       "    </tr>\n",
       "    <tr>\n",
       "      <th>2</th>\n",
       "      <td>Добавить блоки рекомендаций товаров на сайт интернет магазина, чтобы повысить конверсию и средний чек заказа</td>\n",
       "      <td>56.0</td>\n",
       "    </tr>\n",
       "    <tr>\n",
       "      <th>0</th>\n",
       "      <td>Добавить два новых канала привлечения трафика, что позволит привлекать на 30% больше пользователей</td>\n",
       "      <td>40.0</td>\n",
       "    </tr>\n",
       "    <tr>\n",
       "      <th>6</th>\n",
       "      <td>Показать на главной странице баннеры с актуальными акциями и распродажами, чтобы увеличить конверсию</td>\n",
       "      <td>40.0</td>\n",
       "    </tr>\n",
       "    <tr>\n",
       "      <th>8</th>\n",
       "      <td>Запустить акцию, дающую скидку на товар в день рождения</td>\n",
       "      <td>16.2</td>\n",
       "    </tr>\n",
       "    <tr>\n",
       "      <th>3</th>\n",
       "      <td>Изменить структура категорий, что увеличит конверсию, т.к. пользователи быстрее найдут нужный товар</td>\n",
       "      <td>9.0</td>\n",
       "    </tr>\n",
       "    <tr>\n",
       "      <th>1</th>\n",
       "      <td>Запустить собственную службу доставки, что сократит срок доставки заказов</td>\n",
       "      <td>4.0</td>\n",
       "    </tr>\n",
       "    <tr>\n",
       "      <th>5</th>\n",
       "      <td>Добавить страницу отзывов клиентов о магазине, что позволит увеличить количество заказов</td>\n",
       "      <td>4.0</td>\n",
       "    </tr>\n",
       "    <tr>\n",
       "      <th>4</th>\n",
       "      <td>Изменить цвет фона главной страницы, чтобы увеличить вовлеченность пользователей</td>\n",
       "      <td>3.0</td>\n",
       "    </tr>\n",
       "  </tbody>\n",
       "</table>\n",
       "</div>"
      ],
      "text/plain": [
       "                                                                                                     hypothesis  \\\n",
       "7              Добавить форму подписки на все основные страницы, чтобы собрать базу клиентов для email-рассылок   \n",
       "2  Добавить блоки рекомендаций товаров на сайт интернет магазина, чтобы повысить конверсию и средний чек заказа   \n",
       "0            Добавить два новых канала привлечения трафика, что позволит привлекать на 30% больше пользователей   \n",
       "6          Показать на главной странице баннеры с актуальными акциями и распродажами, чтобы увеличить конверсию   \n",
       "8                                                       Запустить акцию, дающую скидку на товар в день рождения   \n",
       "3           Изменить структура категорий, что увеличит конверсию, т.к. пользователи быстрее найдут нужный товар   \n",
       "1                                     Запустить собственную службу доставки, что сократит срок доставки заказов   \n",
       "5                      Добавить страницу отзывов клиентов о магазине, что позволит увеличить количество заказов   \n",
       "4                              Изменить цвет фона главной страницы, чтобы увеличить вовлеченность пользователей   \n",
       "\n",
       "    RICE  \n",
       "7  112.0  \n",
       "2   56.0  \n",
       "0   40.0  \n",
       "6   40.0  \n",
       "8   16.2  \n",
       "3    9.0  \n",
       "1    4.0  \n",
       "5    4.0  \n",
       "4    3.0  "
      ]
     },
     "execution_count": 20,
     "metadata": {},
     "output_type": "execute_result"
    }
   ],
   "source": [
    "hypothesis['RICE'] = hypothesis['reach']*hypothesis['impact']*hypothesis['confidence']/hypothesis['efforts']\n",
    "hypothesis[['hypothesis', 'RICE']].sort_values(by='RICE', ascending=False)"
   ]
  },
  {
   "cell_type": "markdown",
   "id": "4ecba4e0",
   "metadata": {},
   "source": [
    "#### 3. Указать, как изменилась приоритизация гипотез при применении RICE вместо ICE. Объяснить, почему так произошло. <a id='diff'></a>"
   ]
  },
  {
   "cell_type": "markdown",
   "id": "d1cd6c94",
   "metadata": {},
   "source": [
    "Приоритизация изменилась кардинально.\n",
    "\n",
    "Гипотезы 7, 2, 3 поднялись в рейтинге.  \n",
    "Гипотезы 8, 0, 1 понизились.  \n",
    "Гипотезы 4, 5, 6 остались на месте.  \n",
    "\n",
    "Ясно, что формулы рассчета отличаются лишь множителем 'reach'.\n",
    "\n",
    "Взглянем ещё раз на таблицу:"
   ]
  },
  {
   "cell_type": "code",
   "execution_count": 21,
   "id": "f7693185",
   "metadata": {},
   "outputs": [
    {
     "data": {
      "text/html": [
       "<div>\n",
       "<style scoped>\n",
       "    .dataframe tbody tr th:only-of-type {\n",
       "        vertical-align: middle;\n",
       "    }\n",
       "\n",
       "    .dataframe tbody tr th {\n",
       "        vertical-align: top;\n",
       "    }\n",
       "\n",
       "    .dataframe thead th {\n",
       "        text-align: right;\n",
       "    }\n",
       "</style>\n",
       "<table border=\"1\" class=\"dataframe\">\n",
       "  <thead>\n",
       "    <tr style=\"text-align: right;\">\n",
       "      <th></th>\n",
       "      <th>hypothesis</th>\n",
       "      <th>reach</th>\n",
       "      <th>impact</th>\n",
       "      <th>confidence</th>\n",
       "      <th>efforts</th>\n",
       "      <th>ICE</th>\n",
       "      <th>RICE</th>\n",
       "    </tr>\n",
       "  </thead>\n",
       "  <tbody>\n",
       "    <tr>\n",
       "      <th>0</th>\n",
       "      <td>Добавить два новых канала привлечения трафика, что позволит привлекать на 30% больше пользователей</td>\n",
       "      <td>3</td>\n",
       "      <td>10</td>\n",
       "      <td>8</td>\n",
       "      <td>6</td>\n",
       "      <td>13.33</td>\n",
       "      <td>40.0</td>\n",
       "    </tr>\n",
       "    <tr>\n",
       "      <th>1</th>\n",
       "      <td>Запустить собственную службу доставки, что сократит срок доставки заказов</td>\n",
       "      <td>2</td>\n",
       "      <td>5</td>\n",
       "      <td>4</td>\n",
       "      <td>10</td>\n",
       "      <td>2.00</td>\n",
       "      <td>4.0</td>\n",
       "    </tr>\n",
       "    <tr>\n",
       "      <th>2</th>\n",
       "      <td>Добавить блоки рекомендаций товаров на сайт интернет магазина, чтобы повысить конверсию и средний чек заказа</td>\n",
       "      <td>8</td>\n",
       "      <td>3</td>\n",
       "      <td>7</td>\n",
       "      <td>3</td>\n",
       "      <td>7.00</td>\n",
       "      <td>56.0</td>\n",
       "    </tr>\n",
       "    <tr>\n",
       "      <th>3</th>\n",
       "      <td>Изменить структура категорий, что увеличит конверсию, т.к. пользователи быстрее найдут нужный товар</td>\n",
       "      <td>8</td>\n",
       "      <td>3</td>\n",
       "      <td>3</td>\n",
       "      <td>8</td>\n",
       "      <td>1.12</td>\n",
       "      <td>9.0</td>\n",
       "    </tr>\n",
       "    <tr>\n",
       "      <th>4</th>\n",
       "      <td>Изменить цвет фона главной страницы, чтобы увеличить вовлеченность пользователей</td>\n",
       "      <td>3</td>\n",
       "      <td>1</td>\n",
       "      <td>1</td>\n",
       "      <td>1</td>\n",
       "      <td>1.00</td>\n",
       "      <td>3.0</td>\n",
       "    </tr>\n",
       "    <tr>\n",
       "      <th>5</th>\n",
       "      <td>Добавить страницу отзывов клиентов о магазине, что позволит увеличить количество заказов</td>\n",
       "      <td>3</td>\n",
       "      <td>2</td>\n",
       "      <td>2</td>\n",
       "      <td>3</td>\n",
       "      <td>1.33</td>\n",
       "      <td>4.0</td>\n",
       "    </tr>\n",
       "    <tr>\n",
       "      <th>6</th>\n",
       "      <td>Показать на главной странице баннеры с актуальными акциями и распродажами, чтобы увеличить конверсию</td>\n",
       "      <td>5</td>\n",
       "      <td>3</td>\n",
       "      <td>8</td>\n",
       "      <td>3</td>\n",
       "      <td>8.00</td>\n",
       "      <td>40.0</td>\n",
       "    </tr>\n",
       "    <tr>\n",
       "      <th>7</th>\n",
       "      <td>Добавить форму подписки на все основные страницы, чтобы собрать базу клиентов для email-рассылок</td>\n",
       "      <td>10</td>\n",
       "      <td>7</td>\n",
       "      <td>8</td>\n",
       "      <td>5</td>\n",
       "      <td>11.20</td>\n",
       "      <td>112.0</td>\n",
       "    </tr>\n",
       "    <tr>\n",
       "      <th>8</th>\n",
       "      <td>Запустить акцию, дающую скидку на товар в день рождения</td>\n",
       "      <td>1</td>\n",
       "      <td>9</td>\n",
       "      <td>9</td>\n",
       "      <td>5</td>\n",
       "      <td>16.20</td>\n",
       "      <td>16.2</td>\n",
       "    </tr>\n",
       "  </tbody>\n",
       "</table>\n",
       "</div>"
      ],
      "text/plain": [
       "                                                                                                     hypothesis  \\\n",
       "0            Добавить два новых канала привлечения трафика, что позволит привлекать на 30% больше пользователей   \n",
       "1                                     Запустить собственную службу доставки, что сократит срок доставки заказов   \n",
       "2  Добавить блоки рекомендаций товаров на сайт интернет магазина, чтобы повысить конверсию и средний чек заказа   \n",
       "3           Изменить структура категорий, что увеличит конверсию, т.к. пользователи быстрее найдут нужный товар   \n",
       "4                              Изменить цвет фона главной страницы, чтобы увеличить вовлеченность пользователей   \n",
       "5                      Добавить страницу отзывов клиентов о магазине, что позволит увеличить количество заказов   \n",
       "6          Показать на главной странице баннеры с актуальными акциями и распродажами, чтобы увеличить конверсию   \n",
       "7              Добавить форму подписки на все основные страницы, чтобы собрать базу клиентов для email-рассылок   \n",
       "8                                                       Запустить акцию, дающую скидку на товар в день рождения   \n",
       "\n",
       "   reach  impact  confidence  efforts    ICE   RICE  \n",
       "0      3      10           8        6  13.33   40.0  \n",
       "1      2       5           4       10   2.00    4.0  \n",
       "2      8       3           7        3   7.00   56.0  \n",
       "3      8       3           3        8   1.12    9.0  \n",
       "4      3       1           1        1   1.00    3.0  \n",
       "5      3       2           2        3   1.33    4.0  \n",
       "6      5       3           8        3   8.00   40.0  \n",
       "7     10       7           8        5  11.20  112.0  \n",
       "8      1       9           9        5  16.20   16.2  "
      ]
     },
     "execution_count": 21,
     "metadata": {},
     "output_type": "execute_result"
    }
   ],
   "source": [
    "hypothesis"
   ]
  },
  {
   "cell_type": "markdown",
   "id": "3f8640e4",
   "metadata": {},
   "source": [
    "Как и ожидалось, у нового лидера, гипотезы 7, максимальный охват. Действительно, ведь в ней идёт речь о всех основных страницах сервиса. В то же время, у бывшего лидера, гипотезы 8, охват минимален - день рождения мало у кого попадет в период акции.\n",
    "\n",
    "То же можно сказать и об остальных изменениях. Результат ожидаем."
   ]
  },
  {
   "cell_type": "markdown",
   "id": "c4905781",
   "metadata": {},
   "source": [
    "#### Вывод:\n",
    "Выбор фреймворка кардинально изменил приоритет гипотез. Учёт охвата важен в процессе.  \n",
    "Итого:\n",
    "+ ICE:\n",
    "    1. Запустить акцию, дающую скидку на товар в день рождения\n",
    "    1. Добавить два новых канала привлечения трафика, что позволит привлекать на 30% больше пользователей\n",
    "    1. Добавить форму подписки на все основные страницы, чтобы собрать базу клиентов для email-рассылок\n",
    "    1. Показать на главной странице баннеры с актуальными акциями и распродажами, чтобы увеличить конверсию\t\n",
    "    1. Добавить блоки рекомендаций товаров на сайт интернет магазина, чтобы повысить конверсию и средний чек заказа\n",
    "    1. Запустить собственную службу доставки, что сократит срок доставки заказов\n",
    "    1. Добавить страницу отзывов клиентов о магазине, что позволит увеличить количество заказов\n",
    "    1. Изменить структура категорий, что увеличит конверсию, т.к. пользователи быстрее найдут нужный товар\t\n",
    "    1. Изменить цвет фона главной страницы, чтобы увеличить вовлеченность пользователей\t\n",
    "+ RICE:\n",
    "    1. Добавить два новых канала привлечения трафика, что позволит привлекать на 30% больше пользователей\t\n",
    "    1. Запустить собственную службу доставки, что сократит срок доставки заказов\t\n",
    "    1. Добавить блоки рекомендаций товаров на сайт интернет магазина, чтобы повысить конверсию и средний чек заказа\t\n",
    "    1. Изменить структура категорий, что увеличит конверсию, т.к. пользователи быстрее найдут нужный товар\t\n",
    "    1. Изменить цвет фона главной страницы, чтобы увеличить вовлеченность пользователей\t\n",
    "    1. Добавить страницу отзывов клиентов о магазине, что позволит увеличить количество заказов\t\n",
    "    1. Показать на главной странице баннеры с актуальными акциями и распродажами, чтобы увеличить конверсию\t\n",
    "    1. Добавить форму подписки на все основные страницы, чтобы собрать базу клиентов для email-рассылок\t\n",
    "    1. Запустить акцию, дающую скидку на товар в день рождения\t\n",
    "    "
   ]
  },
  {
   "cell_type": "markdown",
   "id": "4ce7fbbd",
   "metadata": {},
   "source": [
    "### Шаг 2:  Анализ A/B-теста <a id='step2'></a>\n"
   ]
  },
  {
   "cell_type": "markdown",
   "id": "5e016185",
   "metadata": {},
   "source": [
    "Задача\n",
    "Проанализировать A/B-тест:\n",
    "1. [Построить график кумулятивной выручки по группам. Сделать выводы и предположения.](#1)\n",
    "1. [Построить график кумулятивного среднего чека по группам. Сделать выводы и предположения.](#2)\n",
    "1. [Построить график относительного изменения кумулятивного среднего чека группы B к группе A. Сделать выводы и предположения.](#3)\n",
    "1. [Построить график кумулятивного среднего количества заказов на посетителя по группам. Сделать выводы и предположения.](#4)\n",
    "1. [Построить график относительного изменения кумулятивного среднего количества заказов на посетителя группы B к группе A. Сделать выводы и предположения.](#5)\n",
    "1. [Построить точечный график количества заказов по пользователям. Сделать выводы и предположения.](#6)\n",
    "1. [Посчитать 95-й и 99-й перцентили количества заказов на пользователя. Выбрать границу для определения аномальных пользователей.](#7)\n",
    "1. [Построить точечный график стоимостей заказов. Сделать выводы и предположения.](#8)\n",
    "1. [Посчитать 95-й и 99-й перцентили стоимости заказов. Выбрать границу для определения аномальных заказов.](#9)\n",
    "1. [Посчитать статистическую значимость различий в среднем количестве заказов на посетителя между группами по «сырым» данным. Сделать выводы и предположения.](#10)\n",
    "1. [Посчитать статистическую значимость различий в среднем чеке заказа между группами по «сырым» данным. Сделать выводы и предположения.](#11)\n",
    "1. [Посчитать статистическую значимость различий в среднем количестве заказов на посетителя между группами по «очищенным» данным. Сделать выводы и предположения.](#12)\n",
    "1. [Посчитать статистическую значимость различий в среднем чеке заказа между группами по «очищенным» данным. Сделать выводы и предположения.](#13)\n",
    "1. [Принять решение по результатам теста и объясните его. Варианты решений:](#14)\n",
    "    1. Остановить тест, зафиксировать победу одной из групп.\n",
    "    2. Остановить тест, зафиксировать отсутствие различий между группами.\n",
    "    3. Продолжить тест."
   ]
  },
  {
   "cell_type": "markdown",
   "id": "734f8f34",
   "metadata": {},
   "source": [
    "#### 0. Подготовка вспомогательной таблицы. "
   ]
  },
  {
   "cell_type": "markdown",
   "id": "b1a8ac6b",
   "metadata": {},
   "source": [
    "Перед тем как начать, создадим таблицу 'cumulativeData' с кумулятивными данными из таблиц 'visitors' и 'orders'"
   ]
  },
  {
   "cell_type": "code",
   "execution_count": 22,
   "id": "0574f583",
   "metadata": {},
   "outputs": [],
   "source": [
    "datesGroups = orders[['date', 'group']].drop_duplicates()\n",
    "\n",
    "ordersAggregated = datesGroups.apply(\n",
    "    lambda x: orders[\n",
    "        np.logical_and(\n",
    "            orders['date'] <= x['date'], orders['group'] == x['group']\n",
    "        )\n",
    "    ].agg(\n",
    "        {\n",
    "            'date': 'max',\n",
    "            'group': 'max',\n",
    "            'transactionId': 'nunique',\n",
    "            'visitorId': 'nunique',\n",
    "            'revenue': 'sum',\n",
    "        }\n",
    "    ),\n",
    "    axis=1,\n",
    ").sort_values(by=['date', 'group'])\n",
    "\n",
    "visitorsAggregated = datesGroups.apply(\n",
    "    lambda x: visitors[\n",
    "        np.logical_and(\n",
    "            visitors['date'] <= x['date'], visitors['group'] == x['group']\n",
    "        )\n",
    "    ].agg({'date': 'max', 'group': 'max', 'visitors': 'sum'}),\n",
    "    axis=1,\n",
    ").sort_values(by=['date', 'group'])\n",
    "\n",
    "cumulativeData = ordersAggregated.merge(\n",
    "    visitorsAggregated, left_on=['date', 'group'], right_on=['date', 'group']\n",
    ")\n",
    "cumulativeData.columns = [\n",
    "    'date',\n",
    "    'group',\n",
    "    'orders',\n",
    "    'buyers',\n",
    "    'revenue',\n",
    "    'visitors',\n",
    "]"
   ]
  },
  {
   "cell_type": "code",
   "execution_count": 23,
   "id": "49cde178",
   "metadata": {},
   "outputs": [
    {
     "data": {
      "text/plain": [
       "[Timestamp('2019-08-01 00:00:00'),\n",
       " Timestamp('2019-08-01 00:00:00'),\n",
       " Timestamp('2019-08-01 00:00:00')]"
      ]
     },
     "execution_count": 23,
     "metadata": {},
     "output_type": "execute_result"
    }
   ],
   "source": [
    "[cumulativeData['date'].min(), orders['date'].min(), visitors['date'].min()]"
   ]
  },
  {
   "cell_type": "code",
   "execution_count": 24,
   "id": "3fadb4af",
   "metadata": {},
   "outputs": [
    {
     "data": {
      "text/plain": [
       "[Timestamp('2019-08-31 00:00:00'),\n",
       " Timestamp('2019-08-31 00:00:00'),\n",
       " Timestamp('2019-08-31 00:00:00')]"
      ]
     },
     "execution_count": 24,
     "metadata": {},
     "output_type": "execute_result"
    }
   ],
   "source": [
    "#минимальные даты совпадают, теперь также проверим максимальные\n",
    "[cumulativeData['date'].max(), orders['date'].max(), visitors['date'].max()]"
   ]
  },
  {
   "cell_type": "markdown",
   "id": "9ff51c67",
   "metadata": {},
   "source": [
    "Отлично, временные границы совпадают, что косвенно свидетельствует о том, что мы всё делаем правильно"
   ]
  },
  {
   "cell_type": "markdown",
   "id": "8e02400e",
   "metadata": {},
   "source": [
    "#### 1. Построить график кумулятивной выручки по группам. Сделать выводы и предположения. <a id='1'></a>"
   ]
  },
  {
   "cell_type": "code",
   "execution_count": 25,
   "id": "0777650c",
   "metadata": {},
   "outputs": [
    {
     "data": {
      "image/png": "[encoded data removed]",
      "text/plain": [
       "<Figure size 864x576 with 1 Axes>"
      ]
     },
     "metadata": {
      "needs_background": "light"
     },
     "output_type": "display_data"
    }
   ],
   "source": [
    "\n",
    "cumulativeDataA = cumulativeData[cumulativeData['group']=='A'].copy()\n",
    "cumulativeDataB = cumulativeData[cumulativeData['group']=='B'].copy()\n",
    "plt.figure(figsize=(12, 8))\n",
    "plt.plot(cumulativeDataA['date'], cumulativeDataA['revenue'], label='A')\n",
    "plt.plot(cumulativeDataB['date'], cumulativeDataB['revenue'], label='B')\n",
    "\n",
    "plt.xlabel('Дата')\n",
    "plt.ylabel('Выручка')\n",
    "plt.title('Кумулятивная выручка по группам')\n",
    "plt.legend() ;"
   ]
  },
  {
   "cell_type": "markdown",
   "id": "4802b342",
   "metadata": {},
   "source": [
    "#### Выводы и предположения:\n",
    "Кумулятивная выручка в обоих группах монотонно растёт, что логично. В группе А рост плавный, можно сказать естественный.  \n",
    "Кажется, что в группе В кумулятивная выручка больше, однако, 17-21 августа виден резкий скачок. Возможно, это выброс, который случайно попал в группу В. Либо (скорее всего) ошибка в данных, либо невероятно крупный заказ"
   ]
  },
  {
   "cell_type": "markdown",
   "id": "4d733495",
   "metadata": {},
   "source": [
    "#### 2. Построить график кумулятивного среднего чека по группам. Сделать выводы и предположения. <a id='2'></a>"
   ]
  },
  {
   "cell_type": "code",
   "execution_count": 26,
   "id": "7c25c3fe",
   "metadata": {
    "scrolled": false
   },
   "outputs": [
    {
     "data": {
      "image/png": "[encoded data removed]",
      "text/plain": [
       "<Figure size 864x576 with 1 Axes>"
      ]
     },
     "metadata": {
      "needs_background": "light"
     },
     "output_type": "display_data"
    }
   ],
   "source": [
    "plt.figure(figsize=(12, 8))\n",
    "plt.plot(cumulativeDataA['date'], cumulativeDataA['revenue']/cumulativeDataA['orders'], label='A')\n",
    "\n",
    "plt.plot(cumulativeDataB['date'], cumulativeDataB['revenue']/cumulativeDataB['orders'], label='B')\n",
    "\n",
    "plt.xlabel('Дата')\n",
    "plt.ylabel('Средний чек')\n",
    "plt.title('Кумулятивный средний чек по группам')\n",
    "plt.legend() ;"
   ]
  },
  {
   "cell_type": "markdown",
   "id": "d48d278a",
   "metadata": {},
   "source": [
    "#### Выводы и предположения:\n",
    "Также как и на первом графике, виден резкий всплеск между 17 и 21 августа в группе В, который скорее всего говорит об аномальном заказе. Более того, далее заметен тренд на снижение среднего чека, что логично: больше аномалий не попадалось, и средний чек постепенно падал до естественных значений"
   ]
  },
  {
   "cell_type": "markdown",
   "id": "8d099aa0",
   "metadata": {},
   "source": [
    "#### 3. Построить график относительного изменения кумулятивного среднего чека группы B к группе A. Сделать выводы и предположения. <a id='3'></a>"
   ]
  },
  {
   "cell_type": "code",
   "execution_count": 27,
   "id": "0efd091c",
   "metadata": {
    "scrolled": false
   },
   "outputs": [
    {
     "data": {
      "image/png": "[encoded data removed]",
      "text/plain": [
       "<Figure size 864x576 with 1 Axes>"
      ]
     },
     "metadata": {
      "needs_background": "light"
     },
     "output_type": "display_data"
    }
   ],
   "source": [
    "mergedCumulative = cumulativeDataA.merge(cumulativeDataB, left_on='date', right_on='date', how='left', suffixes=['A', 'B'])\n",
    "plt.figure(figsize=(12, 8))\n",
    "plt.plot(mergedCumulative['date'], \n",
    "         (mergedCumulative['revenueB']/mergedCumulative['ordersB'])\n",
    "         /(mergedCumulative['revenueA']/mergedCumulative['ordersA'])-1)\n",
    "\n",
    "# добавляем ось X\n",
    "plt.axhline(y=0, color='black', linestyle='--') \n",
    "plt.xlabel('Дата')\n",
    "plt.ylabel('Относительное изменение')\n",
    "plt.title('Относительное изменение среднего чека') ;"
   ]
  },
  {
   "cell_type": "markdown",
   "id": "44a88c9e",
   "metadata": {},
   "source": [
    "#### Выводы и предположения:\n",
    "Чтобы что-то понять, надо убрать аномалию. Пока она забивает весь график, сути не видно."
   ]
  },
  {
   "cell_type": "markdown",
   "id": "4a4a6119",
   "metadata": {},
   "source": [
    "#### 4. Построить график кумулятивного среднего количества заказов на посетителя по группам. Сделать выводы и предположения. <a id='4'></a>"
   ]
  },
  {
   "cell_type": "code",
   "execution_count": 28,
   "id": "202f9fcc",
   "metadata": {
    "scrolled": false
   },
   "outputs": [
    {
     "data": {
      "image/png": "[encoded data removed]",
      "text/plain": [
       "<Figure size 864x576 with 1 Axes>"
      ]
     },
     "metadata": {
      "needs_background": "light"
     },
     "output_type": "display_data"
    }
   ],
   "source": [
    "cumulativeDataA['conversion'] = cumulativeDataA['orders']/cumulativeDataA['visitors']\n",
    "cumulativeDataB['conversion'] = cumulativeDataB['orders']/cumulativeDataB['visitors']\n",
    "\n",
    "plt.figure(figsize=(12, 8))\n",
    "plt.plot(cumulativeDataA['date'], cumulativeDataA['conversion'], label='A')\n",
    "plt.plot(cumulativeDataB['date'], cumulativeDataB['conversion'], label='B')\n",
    "\n",
    "plt.xlabel('Дата')\n",
    "plt.ylabel('Кол-во заказов')\n",
    "plt.title('Кумулятивное среднее количество заказов по группам')\n",
    "plt.legend() ;"
   ]
  },
  {
   "cell_type": "markdown",
   "id": "e603ae2f",
   "metadata": {},
   "source": [
    "#### Выводы и предположения:\n",
    "Заметна устойчиво более высокая конверсия группы В. Здесь никакие выбросы ни при чем."
   ]
  },
  {
   "cell_type": "markdown",
   "id": "5338193f",
   "metadata": {},
   "source": [
    "#### 5. Построить график относительного изменения кумулятивного среднего количества заказов на посетителя группы B к группе A. Сделать выводы и предположения. <a id='5'></a>"
   ]
  },
  {
   "cell_type": "code",
   "execution_count": 29,
   "id": "7c2f3698",
   "metadata": {},
   "outputs": [
    {
     "data": {
      "image/png": "[encoded data removed]",
      "text/plain": [
       "<Figure size 864x576 with 1 Axes>"
      ]
     },
     "metadata": {
      "needs_background": "light"
     },
     "output_type": "display_data"
    }
   ],
   "source": [
    "mergedCumulative = cumulativeDataA.merge(cumulativeDataB, left_on='date', right_on='date', how='left', suffixes=['A', 'B'])\n",
    "plt.figure(figsize=(12, 8))\n",
    "plt.plot(mergedCumulative['date'], \n",
    "         (mergedCumulative['conversionB'])/(mergedCumulative['conversionA'])-1)\n",
    "\n",
    "# добавляем ось X\n",
    "plt.axhline(y=0, color='black', linestyle='--') \n",
    "\n",
    "plt.xlabel('Дата')\n",
    "plt.ylabel('Конверсия')\n",
    "plt.title('Относительное изменение конверсии');"
   ]
  },
  {
   "cell_type": "markdown",
   "id": "1c8348be",
   "metadata": {},
   "source": [
    "#### Выводы и предположения:\n",
    "Кумулятивная конверсия группы В стабильно выше более чем на 10%"
   ]
  },
  {
   "cell_type": "markdown",
   "id": "e146d62a",
   "metadata": {},
   "source": [
    "#### 6. Построить точечный график количества заказов по пользователям. Сделать выводы и предположения. <a id='6'></a>"
   ]
  },
  {
   "cell_type": "code",
   "execution_count": 30,
   "id": "6b2523e5",
   "metadata": {},
   "outputs": [
    {
     "data": {
      "image/png": "[encoded data removed]",
      "text/plain": [
       "<Figure size 432x288 with 1 Axes>"
      ]
     },
     "metadata": {
      "needs_background": "light"
     },
     "output_type": "display_data"
    }
   ],
   "source": [
    "ordersByUsers = (\n",
    "    orders.groupby('visitorId', as_index=False)\n",
    "    .agg({'transactionId': 'nunique'})\n",
    ")\n",
    "ordersByUsers.columns = ['userId', 'orders']\n",
    "\n",
    "# серия из чисел от 0 до количества наблюдений в ordersByUsers\n",
    "x_values = pd.Series(range(0, len(ordersByUsers)))\n",
    "\n",
    "plt.scatter(x_values, ordersByUsers['orders'])\n",
    "\n",
    "plt.xlabel('Пользователь')\n",
    "plt.ylabel('Кол-во заказов')\n",
    "plt.title('Количество заказов по пользователям');"
   ]
  },
  {
   "cell_type": "markdown",
   "id": "9cd6e7af",
   "metadata": {},
   "source": [
    "#### Выводы и предположения:\n",
    "Подавляющее большинство пользователей делали не более двух заказов"
   ]
  },
  {
   "cell_type": "markdown",
   "id": "d85e500f",
   "metadata": {},
   "source": [
    "#### 7. Посчитать 95-й и 99-й перцентили количества заказов на пользователя. Выбрать границу для определения аномальных пользователей. <a id='7'></a>"
   ]
  },
  {
   "cell_type": "code",
   "execution_count": 31,
   "id": "10a245f2",
   "metadata": {
    "scrolled": false
   },
   "outputs": [
    {
     "data": {
      "text/plain": [
       "array([2., 4.])"
      ]
     },
     "execution_count": 31,
     "metadata": {},
     "output_type": "execute_result"
    }
   ],
   "source": [
    "np.percentile(ordersByUsers['orders'], [95, 99])"
   ]
  },
  {
   "cell_type": "markdown",
   "id": "6ef4b228",
   "metadata": {},
   "source": [
    "#### Граница:\n",
    "Границу стоит установить на уровне четырёх заказов, так как у нас несколько параметров для отсеивания выбросов"
   ]
  },
  {
   "cell_type": "markdown",
   "id": "2939bef7",
   "metadata": {},
   "source": [
    "#### 8. Построить точечный график стоимостей заказов. Сделать выводы и предположения. <a id='8'></a>"
   ]
  },
  {
   "cell_type": "code",
   "execution_count": 32,
   "id": "45a4c591",
   "metadata": {},
   "outputs": [
    {
     "data": {
      "image/png": "[encoded data removed]",
      "text/plain": [
       "<Figure size 432x288 with 1 Axes>"
      ]
     },
     "metadata": {
      "needs_background": "light"
     },
     "output_type": "display_data"
    }
   ],
   "source": [
    "x_values = pd.Series(range(0, len(orders['revenue'])))\n",
    "\n",
    "plt.scatter(x_values, orders['revenue'])\n",
    "\n",
    "plt.xlabel('Заказ')\n",
    "plt.ylabel('Стоимость')\n",
    "plt.title('Стоимость заказов по транзакциям');"
   ]
  },
  {
   "cell_type": "code",
   "execution_count": 33,
   "id": "c217d261",
   "metadata": {},
   "outputs": [
    {
     "data": {
      "image/png": "[encoded data removed]",
      "text/plain": [
       "<Figure size 432x288 with 1 Axes>"
      ]
     },
     "metadata": {
      "needs_background": "light"
     },
     "output_type": "display_data"
    }
   ],
   "source": [
    "#Выведем дополнительный график без двух явных выбросов\n",
    "orders_tmp = orders[orders['revenue']<170000]\n",
    "x_values = pd.Series(range(0, len(orders_tmp['revenue'])))\n",
    "\n",
    "plt.scatter(x_values, orders_tmp['revenue'])\n",
    "\n",
    "plt.xlabel('Заказ')\n",
    "plt.ylabel('Стоимость')\n",
    "plt.title('Стоимость заказов по транзакциям');"
   ]
  },
  {
   "cell_type": "markdown",
   "id": "afc89222",
   "metadata": {},
   "source": [
    "#### Выводы и предположения:\n",
    "Есть заказ, цена которого кратно больше всех других. Это как раз тот самый выброс, который мы наблюдали ранее. Если убрать два главных выброса, видно, что средний заказ не превышает 20-40 тысяч рублей."
   ]
  },
  {
   "cell_type": "markdown",
   "id": "8692633f",
   "metadata": {},
   "source": [
    "#### 9. Посчитать 95-й и 99-й перцентили стоимости заказов. Выбрать границу для определения аномальных заказов. <a id='9'></a>"
   ]
  },
  {
   "cell_type": "code",
   "execution_count": 34,
   "id": "ad1d2e50",
   "metadata": {},
   "outputs": [
    {
     "data": {
      "text/plain": [
       "array([28000. , 58233.2])"
      ]
     },
     "execution_count": 34,
     "metadata": {},
     "output_type": "execute_result"
    }
   ],
   "source": [
    "np.percentile(orders['revenue'], [95, 99])"
   ]
  },
  {
   "cell_type": "markdown",
   "id": "9928c2ea",
   "metadata": {},
   "source": [
    "#### Граница:\n",
    "Границу стоит установить на уровне 30000."
   ]
  },
  {
   "cell_type": "markdown",
   "id": "d11ba31e",
   "metadata": {},
   "source": [
    "#### 10. Посчитать статистическую значимость различий в среднем количестве заказов на посетителя между группами по «сырым» данным. Сделать выводы и предположения. <a id='10'></a>"
   ]
  },
  {
   "cell_type": "code",
   "execution_count": 35,
   "id": "b4328010",
   "metadata": {},
   "outputs": [
    {
     "name": "stdout",
     "output_type": "stream",
     "text": [
      "Относительное различие в средних: 13.81%\n",
      "p-value: 1.68%\n",
      "Отвергаем нулевую гипотезу\n"
     ]
    }
   ],
   "source": [
    "#Н0: среднее количество заказов в группах А и В одинаково\n",
    "#H1: среднее количество заказов в группе В и А различно\n",
    "\n",
    "#таблица что-то заказовавших:\n",
    "ordersA = orders[orders['group'] == 'A'].groupby('visitorId').agg({'transactionId': 'nunique'})\n",
    "ordersB = orders[orders['group'] == 'B'].groupby('visitorId').agg({'transactionId': 'nunique'})\n",
    "ordersA.columns = ['orders']\n",
    "ordersB.columns = ['orders']\n",
    "\n",
    "#кол-во не конвертировавшихся посетителей\n",
    "visitors_with_no_orders_A = visitors[visitors['group']=='A']['visitors'].sum()-len(ordersA)\n",
    "visitors_with_no_orders_B = visitors[visitors['group']=='B']['visitors'].sum()-len(ordersB)\n",
    "\n",
    "#перезапишем переменные ordersA и ordersB, добавив соответствующее количество нулей\n",
    "ordersA = pd.concat(\n",
    "    [\n",
    "        ordersA['orders'],\n",
    "        pd.Series(\n",
    "            0,\n",
    "            index=np.arange(\n",
    "                visitors_with_no_orders_A\n",
    "            ),\n",
    "            name='orders',\n",
    "        ),\n",
    "    ],\n",
    "    axis=0,\n",
    ")\n",
    "ordersB = pd.concat(\n",
    "    [\n",
    "        ordersB['orders'],\n",
    "        pd.Series(\n",
    "            0,\n",
    "            index=np.arange(\n",
    "                visitors_with_no_orders_B\n",
    "            ),\n",
    "            name='orders',\n",
    "        ),\n",
    "    ],\n",
    "    axis=0,\n",
    ")\n",
    "\n",
    "#выведем p-value и относительное различие в средних:\n",
    "print(f'Относительное различие в средних: {ordersB.mean()/ordersA.mean()-1:.2%}')\n",
    "\n",
    "results = stats.mannwhitneyu(ordersA, ordersB)\n",
    "print(f'p-value: {results.pvalue:.2%}')\n",
    "alpha = .05\n",
    "if results.pvalue < alpha:\n",
    "    print(\"Отвергаем нулевую гипотезу\")\n",
    "else:\n",
    "    print(\"Не получилось отвергнуть нулевую гипотезу\") "
   ]
  },
  {
   "cell_type": "markdown",
   "id": "4b8e2038",
   "metadata": {},
   "source": [
    "#### Выводы и предположения:\n",
    "p-значение 1.7%. Нулевую гипотезу получилось отвергнуть в пользу гипотезы H1. Среднее количество заказов в группе В на 14 процентов больше чем в группе А."
   ]
  },
  {
   "cell_type": "markdown",
   "id": "38251269",
   "metadata": {},
   "source": [
    "#### 11. Посчитать статистическую значимость различий в среднем чеке заказа между группами по «сырым» данным. Сделать выводы и предположения. <a id='11'></a>"
   ]
  },
  {
   "cell_type": "code",
   "execution_count": 36,
   "id": "eeae933d",
   "metadata": {},
   "outputs": [
    {
     "name": "stdout",
     "output_type": "stream",
     "text": [
      "Относительное различие в средних: 25.87%\n",
      "p-value: 72.93%\n",
      "Не получилось отвергнуть нулевую гипотезу\n"
     ]
    }
   ],
   "source": [
    "#Н0: средний чек в группах А и В одинаков\n",
    "#H1: средний чек в группе В и А различен\n",
    " \n",
    "ordersA = orders[orders['group'] == 'A']\n",
    "ordersB = orders[orders['group'] == 'B']\n",
    "\n",
    "\n",
    "#выведем p-value и относительное различие в средних:\n",
    "print(f'Относительное различие в средних: {ordersB[\"revenue\"].mean()/ordersA[\"revenue\"].mean()-1:.2%}')\n",
    "\n",
    "results = stats.mannwhitneyu(ordersA['revenue'], ordersB['revenue'])\n",
    "print(f'p-value: {results.pvalue:.2%}')\n",
    "alpha = .05\n",
    "if results.pvalue < alpha:\n",
    "    print(\"Отвергаем нулевую гипотезу\")\n",
    "else:\n",
    "    print(\"Не получилось отвергнуть нулевую гипотезу\") "
   ]
  },
  {
   "cell_type": "markdown",
   "id": "7074ba7e",
   "metadata": {},
   "source": [
    "#### Выводы и предположения:\n",
    "p-значение 73%. Не получилось отвергнуть нулевую гипотезу: между группами нет статистически значимых различий в количестве заказов на посетителя."
   ]
  },
  {
   "cell_type": "markdown",
   "id": "faa57d00",
   "metadata": {},
   "source": [
    "#### 12. Посчитать статистическую значимость различий в среднем количестве заказов на посетителя между группами по «очищенным» данным. Сделать выводы и предположения. <a id='12'></a>"
   ]
  },
  {
   "cell_type": "markdown",
   "id": "cab0cf0f",
   "metadata": {},
   "source": [
    "Для начала очистим данные:"
   ]
  },
  {
   "cell_type": "code",
   "execution_count": 37,
   "id": "a2d8893b",
   "metadata": {},
   "outputs": [],
   "source": [
    "#очистим данные по сумме заказа:\n",
    "ordersA = orders[orders['group'] == 'A']\n",
    "ordersB = orders[orders['group'] == 'B']\n",
    "ordersA = ordersA[ordersA['revenue']<=30000]\n",
    "ordersB = ordersB[ordersB['revenue']<=30000]\n",
    "\n",
    "#сгруппируем и очистим имеющиеся данные:\n",
    "orders_amount_A = ordersA.groupby('visitorId').agg({'transactionId': 'nunique'})\n",
    "orders_amount_B = ordersB.groupby('visitorId').agg({'transactionId': 'nunique'})\n",
    "orders_amount_A.columns = ['orders']\n",
    "orders_amount_B.columns = ['orders']\n",
    "orders_amount_A = orders_amount_A[orders_amount_A['orders']<=4]\n",
    "orders_amount_B = orders_amount_B[orders_amount_B['orders']<=4]\n",
    "\n",
    "#очистим данные по заказам по количеству покупок на пользователя\n",
    "ordersA = ordersA[ordersA['visitorId'].isin(orders_amount_A.index)]\n",
    "ordersB = ordersB[ordersB['visitorId'].isin(orders_amount_B.index)]\n"
   ]
  },
  {
   "cell_type": "markdown",
   "id": "bc89f357",
   "metadata": {},
   "source": [
    "Теперь перейдём к проверке гипотезы"
   ]
  },
  {
   "cell_type": "code",
   "execution_count": 38,
   "id": "f25df29c",
   "metadata": {},
   "outputs": [
    {
     "name": "stdout",
     "output_type": "stream",
     "text": [
      "Относительное различие в средних: 15.56%\n",
      "p-value: 1.79%\n",
      "Отвергаем нулевую гипотезу\n"
     ]
    }
   ],
   "source": [
    "#Н0: среднее количество заказов в группах А и В одинаково\n",
    "#H1: среднее количество заказов в группе В БОЛЬШЕ чем в группе А\n",
    "\n",
    "#кол-во посетителей без заказов:\n",
    "visitors_with_no_orders_A = visitors[visitors['group']=='A']['visitors'].sum()-len(ordersA)\n",
    "visitors_with_no_orders_B = visitors[visitors['group']=='B']['visitors'].sum()-len(ordersB)\n",
    "\n",
    "#перезапишем переменные orders_amount_A и orders_amount_B, добавив соответствующее количество нулей\n",
    "orders_amount_A = pd.concat(\n",
    "    [\n",
    "        orders_amount_A['orders'],\n",
    "        pd.Series(\n",
    "            0,\n",
    "            index=np.arange(\n",
    "                visitors_with_no_orders_A\n",
    "            ),\n",
    "            name='orders',\n",
    "        ),\n",
    "    ],\n",
    "    axis=0,\n",
    ")\n",
    "orders_amount_B = pd.concat(\n",
    "    [\n",
    "        orders_amount_B['orders'],\n",
    "        pd.Series(\n",
    "            0,\n",
    "            index=np.arange(\n",
    "                visitors_with_no_orders_B\n",
    "            ),\n",
    "            name='orders',\n",
    "        ),\n",
    "    ],\n",
    "    axis=0,\n",
    ")\n",
    "\n",
    "#выведем p-value и относительное различие в средних:\n",
    "print(f'Относительное различие в средних: {orders_amount_B.mean()/orders_amount_A.mean()-1:.2%}')\n",
    "\n",
    "results = stats.mannwhitneyu(orders_amount_A, orders_amount_B)\n",
    "print(f'p-value: {results.pvalue:.2%}')\n",
    "alpha = .05\n",
    "if results.pvalue < alpha:\n",
    "    print(\"Отвергаем нулевую гипотезу\")\n",
    "else:\n",
    "    print(\"Не получилось отвергнуть нулевую гипотезу\") "
   ]
  },
  {
   "cell_type": "markdown",
   "id": "77f9898e",
   "metadata": {},
   "source": [
    "#### Выводы и предположения:\n",
    "p-значение 1.79%. Нулевую гипотезу получилось отвергнуть в пользу гипотезы H1. Среднее количество заказов в группе В на 15.5 процентов больше чем в группе А."
   ]
  },
  {
   "cell_type": "markdown",
   "id": "223b828a",
   "metadata": {},
   "source": [
    "#### 13. Посчитать статистическую значимость различий в среднем чеке заказа между группами по «очищенным» данным. Сделать выводы и предположения. <a id='13'></a>"
   ]
  },
  {
   "cell_type": "code",
   "execution_count": 39,
   "id": "027ea3a2",
   "metadata": {},
   "outputs": [
    {
     "name": "stdout",
     "output_type": "stream",
     "text": [
      "Относительное различие в средних: -1.82%\n",
      "p-value: 94.54%\n",
      "Не получилось отвергнуть нулевую гипотезу\n"
     ]
    }
   ],
   "source": [
    "#Н0: средний чек в группах А и В одинаков\n",
    "#H1: средний чек в группе В БОЛЬШЕ чем в группе А\n",
    "\n",
    "#данные уже подготовлены в предыдущем блоке. осталось их проанализировать\n",
    "\n",
    "#выведем p-value и относительное различие в средних:\n",
    "print(f'Относительное различие в средних: {ordersB[\"revenue\"].mean()/ordersA[\"revenue\"].mean()-1:.2%}')\n",
    "\n",
    "results = stats.mannwhitneyu(ordersA['revenue'], ordersB['revenue'])\n",
    "print(f'p-value: {results.pvalue:.2%}')\n",
    "alpha = .05\n",
    "if results.pvalue < alpha:\n",
    "    print(\"Отвергаем нулевую гипотезу\")\n",
    "else:\n",
    "    print(\"Не получилось отвергнуть нулевую гипотезу\") \n"
   ]
  },
  {
   "cell_type": "markdown",
   "id": "599ceb61",
   "metadata": {},
   "source": [
    "#### Выводы и предположения:\n",
    "p-значение 95%. Не получилось отвергнуть нулевую гипотезу: между группами нет статистически значимых различий в среднем чеке."
   ]
  },
  {
   "cell_type": "markdown",
   "id": "f6d183ed",
   "metadata": {},
   "source": [
    "#### 14. Принять решение по результатам теста и объясните его. <a id='14'></a>"
   ]
  },
  {
   "cell_type": "markdown",
   "id": "4059ce53",
   "metadata": {},
   "source": [
    "Остановить тест, зафиксировать победу группы В.\n",
    "\n",
    "При отсутствии статистически значимой разницы в среднем чеке, конверсия в группе В существенно лучше. Этого достаточно для объявления её победы."
   ]
  }
 ],
 "metadata": {
  "ExecuteTimeLog": [
   {
    "duration": 1048,
    "start_time": "2023-05-18T19:53:36.892Z"
   },
   {
    "duration": 127,
    "start_time": "2023-05-18T19:53:37.942Z"
   },
   {
    "duration": 173,
    "start_time": "2023-05-18T19:53:38.071Z"
   },
   {
    "duration": 135,
    "start_time": "2023-05-18T19:53:38.246Z"
   },
   {
    "duration": 13,
    "start_time": "2023-05-18T19:53:38.382Z"
   },
   {
    "duration": 5,
    "start_time": "2023-05-18T19:53:38.396Z"
   },
   {
    "duration": 12,
    "start_time": "2023-05-18T19:53:38.402Z"
   },
   {
    "duration": 11,
    "start_time": "2023-05-18T19:53:38.415Z"
   },
   {
    "duration": 9,
    "start_time": "2023-05-18T19:53:38.427Z"
   },
   {
    "duration": 290,
    "start_time": "2023-05-18T19:53:38.438Z"
   },
   {
    "duration": 267,
    "start_time": "2023-05-18T19:53:38.730Z"
   },
   {
    "duration": 192,
    "start_time": "2023-05-18T19:53:38.998Z"
   },
   {
    "duration": 307,
    "start_time": "2023-05-18T19:53:39.191Z"
   },
   {
    "duration": 217,
    "start_time": "2023-05-18T19:53:39.500Z"
   },
   {
    "duration": 275,
    "start_time": "2023-05-18T19:53:39.719Z"
   },
   {
    "duration": 115,
    "start_time": "2023-05-18T19:53:39.996Z"
   },
   {
    "duration": 4,
    "start_time": "2023-05-18T19:53:40.112Z"
   },
   {
    "duration": 132,
    "start_time": "2023-05-18T19:53:40.118Z"
   },
   {
    "duration": 4,
    "start_time": "2023-05-18T19:53:40.252Z"
   },
   {
    "duration": 25,
    "start_time": "2023-05-18T19:53:40.257Z"
   },
   {
    "duration": 7,
    "start_time": "2023-05-18T19:53:40.284Z"
   },
   {
    "duration": 13,
    "start_time": "2023-05-18T19:53:40.292Z"
   },
   {
    "duration": 9,
    "start_time": "2023-05-18T19:53:40.306Z"
   },
   {
    "duration": 1023,
    "start_time": "2023-05-18T20:07:48.353Z"
   },
   {
    "duration": 188,
    "start_time": "2023-05-18T20:07:49.377Z"
   },
   {
    "duration": 100,
    "start_time": "2023-05-18T20:07:49.566Z"
   },
   {
    "duration": 100,
    "start_time": "2023-05-18T20:07:49.668Z"
   },
   {
    "duration": 12,
    "start_time": "2023-05-18T20:07:49.770Z"
   },
   {
    "duration": 10,
    "start_time": "2023-05-18T20:07:49.783Z"
   },
   {
    "duration": 12,
    "start_time": "2023-05-18T20:07:49.794Z"
   },
   {
    "duration": 9,
    "start_time": "2023-05-18T20:07:49.807Z"
   },
   {
    "duration": 9,
    "start_time": "2023-05-18T20:07:49.817Z"
   },
   {
    "duration": 280,
    "start_time": "2023-05-18T20:07:49.827Z"
   },
   {
    "duration": 246,
    "start_time": "2023-05-18T20:07:50.109Z"
   },
   {
    "duration": 194,
    "start_time": "2023-05-18T20:07:50.356Z"
   },
   {
    "duration": 342,
    "start_time": "2023-05-18T20:07:50.552Z"
   },
   {
    "duration": 215,
    "start_time": "2023-05-18T20:07:50.896Z"
   },
   {
    "duration": 285,
    "start_time": "2023-05-18T20:07:51.113Z"
   },
   {
    "duration": 118,
    "start_time": "2023-05-18T20:07:51.400Z"
   },
   {
    "duration": 5,
    "start_time": "2023-05-18T20:07:51.519Z"
   },
   {
    "duration": 135,
    "start_time": "2023-05-18T20:07:51.526Z"
   },
   {
    "duration": 4,
    "start_time": "2023-05-18T20:07:51.663Z"
   },
   {
    "duration": 11,
    "start_time": "2023-05-18T20:07:51.675Z"
   },
   {
    "duration": 9,
    "start_time": "2023-05-18T20:07:51.688Z"
   },
   {
    "duration": 20,
    "start_time": "2023-05-18T20:07:51.698Z"
   },
   {
    "duration": 9,
    "start_time": "2023-05-18T20:07:51.720Z"
   },
   {
    "duration": 1250,
    "start_time": "2023-05-20T14:34:33.371Z"
   },
   {
    "duration": 195,
    "start_time": "2023-05-20T14:34:34.624Z"
   },
   {
    "duration": 200,
    "start_time": "2023-05-20T14:34:34.820Z"
   },
   {
    "duration": 177,
    "start_time": "2023-05-20T14:34:35.022Z"
   },
   {
    "duration": 18,
    "start_time": "2023-05-20T14:34:35.201Z"
   },
   {
    "duration": 6,
    "start_time": "2023-05-20T14:34:35.221Z"
   },
   {
    "duration": 8,
    "start_time": "2023-05-20T14:34:35.229Z"
   },
   {
    "duration": 8,
    "start_time": "2023-05-20T14:34:35.238Z"
   },
   {
    "duration": 8,
    "start_time": "2023-05-20T14:34:35.248Z"
   },
   {
    "duration": 4,
    "start_time": "2023-05-20T14:34:35.259Z"
   },
   {
    "duration": 15,
    "start_time": "2023-05-20T14:34:35.264Z"
   },
   {
    "duration": 8,
    "start_time": "2023-05-20T14:34:35.281Z"
   },
   {
    "duration": 29,
    "start_time": "2023-05-20T14:34:35.291Z"
   },
   {
    "duration": 7,
    "start_time": "2023-05-20T14:34:35.322Z"
   },
   {
    "duration": 14,
    "start_time": "2023-05-20T14:34:35.331Z"
   },
   {
    "duration": 21,
    "start_time": "2023-05-20T14:34:35.347Z"
   },
   {
    "duration": 14,
    "start_time": "2023-05-20T14:34:35.370Z"
   },
   {
    "duration": 317,
    "start_time": "2023-05-20T14:34:35.385Z"
   },
   {
    "duration": 13,
    "start_time": "2023-05-20T14:34:35.704Z"
   },
   {
    "duration": 28,
    "start_time": "2023-05-20T14:34:35.718Z"
   },
   {
    "duration": 14,
    "start_time": "2023-05-20T14:34:35.748Z"
   },
   {
    "duration": 295,
    "start_time": "2023-05-20T14:34:35.764Z"
   },
   {
    "duration": 6,
    "start_time": "2023-05-20T14:34:36.061Z"
   },
   {
    "duration": 15,
    "start_time": "2023-05-20T14:34:36.069Z"
   },
   {
    "duration": 235,
    "start_time": "2023-05-20T14:34:36.086Z"
   },
   {
    "duration": 220,
    "start_time": "2023-05-20T14:34:36.323Z"
   },
   {
    "duration": 382,
    "start_time": "2023-05-20T14:34:36.545Z"
   },
   {
    "duration": 245,
    "start_time": "2023-05-20T14:34:36.930Z"
   },
   {
    "duration": 340,
    "start_time": "2023-05-20T14:34:37.177Z"
   },
   {
    "duration": 135,
    "start_time": "2023-05-20T14:34:37.519Z"
   },
   {
    "duration": 5,
    "start_time": "2023-05-20T14:34:37.656Z"
   },
   {
    "duration": 150,
    "start_time": "2023-05-20T14:34:37.662Z"
   },
   {
    "duration": 245,
    "start_time": "2023-05-20T14:34:37.813Z"
   },
   {
    "duration": 5,
    "start_time": "2023-05-20T14:34:38.060Z"
   },
   {
    "duration": 33,
    "start_time": "2023-05-20T14:34:38.067Z"
   },
   {
    "duration": 10,
    "start_time": "2023-05-20T14:34:38.102Z"
   },
   {
    "duration": 44,
    "start_time": "2023-05-20T14:34:38.114Z"
   },
   {
    "duration": 30,
    "start_time": "2023-05-20T14:34:38.160Z"
   },
   {
    "duration": 9,
    "start_time": "2023-05-20T14:34:38.192Z"
   }
  ],
  "kernelspec": {
   "display_name": "Python 3 (ipykernel)",
   "language": "python",
   "name": "python3"
  },
  "language_info": {
   "codemirror_mode": {
    "name": "ipython",
    "version": 3
   },
   "file_extension": ".py",
   "mimetype": "text/x-python",
   "name": "python",
   "nbconvert_exporter": "python",
   "pygments_lexer": "ipython3",
   "version": "3.9.5"
  },
  "toc": {
   "base_numbering": 1,
   "nav_menu": {},
   "number_sections": true,
   "sideBar": true,
   "skip_h1_title": true,
   "title_cell": "Table of Contents",
   "title_sidebar": "Contents",
   "toc_cell": false,
   "toc_position": {},
   "toc_section_display": true,
   "toc_window_display": false
  }
 },
 "nbformat": 4,
 "nbformat_minor": 5
}
